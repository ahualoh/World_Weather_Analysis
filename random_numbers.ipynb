{
 "cells": [
  {
   "cell_type": "code",
   "execution_count": 13,
   "id": "6bd1e503",
   "metadata": {},
   "outputs": [],
   "source": [
    "import random\n",
    "import numpy as np\n",
    "import timeit"
   ]
  },
  {
   "cell_type": "code",
   "execution_count": 2,
   "id": "9938114d",
   "metadata": {},
   "outputs": [
    {
     "data": {
      "text/plain": [
       "5"
      ]
     },
     "execution_count": 2,
     "metadata": {},
     "output_type": "execute_result"
    }
   ],
   "source": [
    "# output a single integer between -90 and 90\n",
    "\n",
    "random.randint(-90,90)"
   ]
  },
  {
   "cell_type": "code",
   "execution_count": 3,
   "id": "e6a1738c",
   "metadata": {},
   "outputs": [
    {
     "data": {
      "text/plain": [
       "0.016254767535885395"
      ]
     },
     "execution_count": 3,
     "metadata": {},
     "output_type": "execute_result"
    }
   ],
   "source": [
    "# output a decimal point number between 0 and 1.0, as shown below.\n",
    "random.random()"
   ]
  },
  {
   "cell_type": "code",
   "execution_count": 20,
   "id": "82523b9e",
   "metadata": {},
   "outputs": [
    {
     "name": "stdout",
     "output_type": "stream",
     "text": [
      "[63.897167436661206]\n",
      "[63.897167436661206, 50.59538344911233]\n",
      "[63.897167436661206, 50.59538344911233, 77.81319667206058]\n",
      "[63.897167436661206, 50.59538344911233, 77.81319667206058, -62.49705106381412]\n",
      "[63.897167436661206, 50.59538344911233, 77.81319667206058, -62.49705106381412, 42.80639121835598]\n",
      "[63.897167436661206, 50.59538344911233, 77.81319667206058, -62.49705106381412, 42.80639121835598, -81.86806626825627]\n",
      "[63.897167436661206, 50.59538344911233, 77.81319667206058, -62.49705106381412, 42.80639121835598, -81.86806626825627, -21.734392187909137]\n",
      "[63.897167436661206, 50.59538344911233, 77.81319667206058, -62.49705106381412, 42.80639121835598, -81.86806626825627, -21.734392187909137, -16.465813564036882]\n",
      "[63.897167436661206, 50.59538344911233, 77.81319667206058, -62.49705106381412, 42.80639121835598, -81.86806626825627, -21.734392187909137, -16.465813564036882, 48.19544971285408]\n",
      "[63.897167436661206, 50.59538344911233, 77.81319667206058, -62.49705106381412, 42.80639121835598, -81.86806626825627, -21.734392187909137, -16.465813564036882, 48.19544971285408, 38.609812116271016]\n"
     ]
    }
   ],
   "source": [
    "#  a floating-point decimal between -90 and 90, we can generate a random latitude\n",
    "\n",
    "x = 1\n",
    "latitudes = []\n",
    "while x < 11:\n",
    "    random_lat = random.randint(-90, 89) + random.random()\n",
    "    latitudes.append(random_lat)\n",
    "    x += 1\n",
    "    print(latitudes)"
   ]
  },
  {
   "cell_type": "code",
   "execution_count": 5,
   "id": "7b021416",
   "metadata": {},
   "outputs": [
    {
     "data": {
      "text/plain": [
       "3"
      ]
     },
     "execution_count": 5,
     "metadata": {},
     "output_type": "execute_result"
    }
   ],
   "source": [
    "# he output is a number between -90 and 90, where the step is the difference between each number in the sequence\n",
    "random.randrange(-90, 90, step=1)"
   ]
  },
  {
   "cell_type": "code",
   "execution_count": 6,
   "id": "671009e5",
   "metadata": {},
   "outputs": [
    {
     "data": {
      "text/plain": [
       "-60"
      ]
     },
     "execution_count": 6,
     "metadata": {},
     "output_type": "execute_result"
    }
   ],
   "source": [
    "#  The output is a number between -90 and 90, where the difference between each number in the sequence is 3.\n",
    "random.randrange(-90, 90, step=3)"
   ]
  },
  {
   "cell_type": "code",
   "execution_count": 7,
   "id": "06dda339",
   "metadata": {},
   "outputs": [
    {
     "data": {
      "text/plain": [
       "20.522671913863476"
      ]
     },
     "execution_count": 7,
     "metadata": {},
     "output_type": "execute_result"
    }
   ],
   "source": [
    "random.uniform(-90, 90)"
   ]
  },
  {
   "cell_type": "code",
   "execution_count": 10,
   "id": "e9eb1ae8",
   "metadata": {},
   "outputs": [
    {
     "data": {
      "text/plain": [
       "-26.774804310345566"
      ]
     },
     "execution_count": 10,
     "metadata": {},
     "output_type": "execute_result"
    }
   ],
   "source": [
    "np.random.uniform(-90.000, 90.000)\n",
    "\n",
    "# Another option is to write the parameters as np.random.uniform(low=-90, high=90"
   ]
  },
  {
   "cell_type": "code",
   "execution_count": 12,
   "id": "d2c76f15",
   "metadata": {},
   "outputs": [
    {
     "data": {
      "text/plain": [
       "array([ -6.52275225,  -8.93088849, -30.00757473, -31.79085077,\n",
       "        29.27861443, -74.36732988, -88.28124662,  18.57131655,\n",
       "       -13.83152132,  33.82846584, -72.77221448, -75.70152326,\n",
       "        14.95540965,  31.55375086,  78.44544806,  35.7667916 ,\n",
       "       -45.71189846,  36.7467645 ,  87.1917767 , -29.90754775,\n",
       "       -57.90243262,  50.17543107,  82.57382166,  66.00027705,\n",
       "        23.19642801,   4.33759225, -53.73725364, -86.62969634,\n",
       "       -82.3705795 ,   3.32063689, -83.91975521, -31.54834641,\n",
       "       -50.02989707, -23.64357967, -50.73252759,  20.43958151,\n",
       "       -52.41638596,  53.88939974, -38.87381497,  -8.64267113,\n",
       "       -70.1218352 ,  78.34652619,  33.10906479,  75.28968579,\n",
       "        -0.51223742,  47.05253161, -51.18305051, -83.52816539,\n",
       "       -25.07579215,  50.43586989])"
      ]
     },
     "execution_count": 12,
     "metadata": {},
     "output_type": "execute_result"
    }
   ],
   "source": [
    "# To generate more than one floating-point decimal number between -90 and 90, we can add the size\n",
    "np.random.uniform(-90.000, 90.000, size=50)"
   ]
  },
  {
   "cell_type": "code",
   "execution_count": 14,
   "id": "9b050710",
   "metadata": {},
   "outputs": [
    {
     "name": "stdout",
     "output_type": "stream",
     "text": [
      "13.1 µs ± 198 ns per loop (mean ± std. dev. of 7 runs, 100000 loops each)\n"
     ]
    }
   ],
   "source": [
    "%timeit np.random.uniform(-90.000, 90.000, size=1500)\n",
    "# (the amount of time it took to run the code for 7 runs and 1,000 loops per run.)"
   ]
  },
  {
   "cell_type": "code",
   "execution_count": 15,
   "id": "6bd72a9d",
   "metadata": {},
   "outputs": [
    {
     "name": "stdout",
     "output_type": "stream",
     "text": [
      "1.77 ms ± 22.5 µs per loop (mean ± std. dev. of 7 runs, 1000 loops each)\n"
     ]
    }
   ],
   "source": [
    "def latitudes(size):\n",
    "    latitudes = []\n",
    "    x = 0\n",
    "    while x < (size):\n",
    "        random_lat = random.randint(-90, 90) + random.random()\n",
    "        latitudes.append(random_lat)\n",
    "        x += 1\n",
    "    return latitudes\n",
    "\n",
    "# Call the function with 1500.\n",
    "%timeit latitudes(1500)"
   ]
  },
  {
   "cell_type": "code",
   "execution_count": 22,
   "id": "680b55e1",
   "metadata": {},
   "outputs": [
    {
     "name": "stdout",
     "output_type": "stream",
     "text": [
      "13.5 µs ± 291 ns per loop (mean ± std. dev. of 7 runs, 100000 loops each)\n"
     ]
    }
   ],
   "source": []
  },
  {
   "cell_type": "code",
   "execution_count": null,
   "id": "6b23b821",
   "metadata": {},
   "outputs": [],
   "source": []
  }
 ],
 "metadata": {
  "kernelspec": {
   "display_name": "PythonData",
   "language": "python",
   "name": "pythondata"
  },
  "language_info": {
   "codemirror_mode": {
    "name": "ipython",
    "version": 3
   },
   "file_extension": ".py",
   "mimetype": "text/x-python",
   "name": "python",
   "nbconvert_exporter": "python",
   "pygments_lexer": "ipython3",
   "version": "3.7.13"
  }
 },
 "nbformat": 4,
 "nbformat_minor": 5
}
