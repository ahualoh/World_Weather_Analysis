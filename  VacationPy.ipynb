{
 "cells": [
  {
   "cell_type": "markdown",
   "id": "1a0291b4",
   "metadata": {},
   "source": [
    "## 6.5.2 [Create Maps for Weather Parameters](https://courses.bootcampspot.com/courses/2523/pages/6-dot-5-2-create-maps-for-weather-parameters?module_item_id=806298)"
   ]
  },
  {
   "cell_type": "code",
   "execution_count": 26,
   "id": "5f774317",
   "metadata": {},
   "outputs": [],
   "source": [
    "# Import the required libraries\n",
    "import hvplot.pandas\n",
    "import pandas as pd\n",
    "\n",
    "# Turn off warning messages\n",
    "import warnings\n",
    "warnings.filterwarnings(\"ignore\")"
   ]
  },
  {
   "cell_type": "code",
   "execution_count": 7,
   "id": "153a01c3",
   "metadata": {},
   "outputs": [
    {
     "data": {
      "text/html": [
       "<div>\n",
       "<style scoped>\n",
       "    .dataframe tbody tr th:only-of-type {\n",
       "        vertical-align: middle;\n",
       "    }\n",
       "\n",
       "    .dataframe tbody tr th {\n",
       "        vertical-align: top;\n",
       "    }\n",
       "\n",
       "    .dataframe thead th {\n",
       "        text-align: right;\n",
       "    }\n",
       "</style>\n",
       "<table border=\"1\" class=\"dataframe\">\n",
       "  <thead>\n",
       "    <tr style=\"text-align: right;\">\n",
       "      <th></th>\n",
       "      <th>City_ID</th>\n",
       "      <th>City</th>\n",
       "      <th>Country</th>\n",
       "      <th>Date</th>\n",
       "      <th>Lat</th>\n",
       "      <th>Lng</th>\n",
       "      <th>Max Temp</th>\n",
       "      <th>Humidity</th>\n",
       "      <th>Cloudiness</th>\n",
       "      <th>Wind Speed</th>\n",
       "    </tr>\n",
       "  </thead>\n",
       "  <tbody>\n",
       "    <tr>\n",
       "      <th>0</th>\n",
       "      <td>0</td>\n",
       "      <td>Sabha</td>\n",
       "      <td>LY</td>\n",
       "      <td>2022-11-28 18:24:08</td>\n",
       "      <td>27.0377</td>\n",
       "      <td>14.4283</td>\n",
       "      <td>62.37</td>\n",
       "      <td>52</td>\n",
       "      <td>26</td>\n",
       "      <td>8.23</td>\n",
       "    </tr>\n",
       "    <tr>\n",
       "      <th>1</th>\n",
       "      <td>1</td>\n",
       "      <td>Guerrero Negro</td>\n",
       "      <td>MX</td>\n",
       "      <td>2022-11-28 18:24:09</td>\n",
       "      <td>27.9769</td>\n",
       "      <td>-114.0611</td>\n",
       "      <td>67.41</td>\n",
       "      <td>58</td>\n",
       "      <td>25</td>\n",
       "      <td>9.22</td>\n",
       "    </tr>\n",
       "    <tr>\n",
       "      <th>2</th>\n",
       "      <td>2</td>\n",
       "      <td>Ponta Do Sol</td>\n",
       "      <td>PT</td>\n",
       "      <td>2022-11-28 18:24:09</td>\n",
       "      <td>32.6667</td>\n",
       "      <td>-17.1000</td>\n",
       "      <td>70.72</td>\n",
       "      <td>78</td>\n",
       "      <td>35</td>\n",
       "      <td>9.08</td>\n",
       "    </tr>\n",
       "    <tr>\n",
       "      <th>3</th>\n",
       "      <td>3</td>\n",
       "      <td>Mataura</td>\n",
       "      <td>NZ</td>\n",
       "      <td>2022-11-28 18:24:10</td>\n",
       "      <td>-46.1927</td>\n",
       "      <td>168.8643</td>\n",
       "      <td>50.79</td>\n",
       "      <td>81</td>\n",
       "      <td>99</td>\n",
       "      <td>1.52</td>\n",
       "    </tr>\n",
       "    <tr>\n",
       "      <th>4</th>\n",
       "      <td>4</td>\n",
       "      <td>Ancud</td>\n",
       "      <td>CL</td>\n",
       "      <td>2022-11-28 18:24:10</td>\n",
       "      <td>-41.8697</td>\n",
       "      <td>-73.8203</td>\n",
       "      <td>61.50</td>\n",
       "      <td>72</td>\n",
       "      <td>37</td>\n",
       "      <td>12.73</td>\n",
       "    </tr>\n",
       "  </tbody>\n",
       "</table>\n",
       "</div>"
      ],
      "text/plain": [
       "   City_ID            City Country                 Date      Lat       Lng  \\\n",
       "0        0           Sabha      LY  2022-11-28 18:24:08  27.0377   14.4283   \n",
       "1        1  Guerrero Negro      MX  2022-11-28 18:24:09  27.9769 -114.0611   \n",
       "2        2    Ponta Do Sol      PT  2022-11-28 18:24:09  32.6667  -17.1000   \n",
       "3        3         Mataura      NZ  2022-11-28 18:24:10 -46.1927  168.8643   \n",
       "4        4           Ancud      CL  2022-11-28 18:24:10 -41.8697  -73.8203   \n",
       "\n",
       "   Max Temp  Humidity  Cloudiness  Wind Speed  \n",
       "0     62.37        52          26        8.23  \n",
       "1     67.41        58          25        9.22  \n",
       "2     70.72        78          35        9.08  \n",
       "3     50.79        81          99        1.52  \n",
       "4     61.50        72          37       12.73  "
      ]
     },
     "execution_count": 7,
     "metadata": {},
     "output_type": "execute_result"
    }
   ],
   "source": [
    "city_data_df = pd.read_csv('weather_data/cities.csv')\n",
    "city_data_df.head()"
   ]
  },
  {
   "cell_type": "code",
   "execution_count": 8,
   "id": "40e5a14d",
   "metadata": {},
   "outputs": [
    {
     "data": {
      "text/plain": [
       "City_ID         int64\n",
       "City           object\n",
       "Country        object\n",
       "Date           object\n",
       "Lat           float64\n",
       "Lng           float64\n",
       "Max Temp      float64\n",
       "Humidity        int64\n",
       "Cloudiness      int64\n",
       "Wind Speed    float64\n",
       "dtype: object"
      ]
     },
     "execution_count": 8,
     "metadata": {},
     "output_type": "execute_result"
    }
   ],
   "source": [
    "city_data_df.dtypes"
   ]
  },
  {
   "cell_type": "code",
   "execution_count": 9,
   "id": "9b3cd5f3",
   "metadata": {},
   "outputs": [],
   "source": [
    "# Configure the map plot_1\n",
    "map_plot_1 = city_data_df.hvplot.points(\n",
    "    \"Lng\",\n",
    "    \"Lat\",\n",
    "    geo = True,\n",
    "    tiles = \"OSM\"\n",
    ")"
   ]
  },
  {
   "cell_type": "code",
   "execution_count": 10,
   "id": "2ecc70ba",
   "metadata": {},
   "outputs": [
    {
     "data": {},
     "metadata": {},
     "output_type": "display_data"
    },
    {
     "data": {
      "application/vnd.holoviews_exec.v0+json": "",
      "text/html": [
       "<div id='1004'>\n",
       "  <div class=\"bk-root\" id=\"77a076cf-7b86-4e2f-912d-f7748bd9a81d\" data-root-id=\"1004\"></div>\n",
       "</div>\n",
       "<script type=\"application/javascript\">(function(root) {\n",
       "  function embed_document(root) {\n",
       "    var docs_json = {\"af6d5eae-7df2-4dd2-b872-9e508f931ad7\":{\"defs\":[{\"extends\":null,\"module\":null,\"name\":\"ReactiveHTML1\",\"overrides\":[],\"properties\":[]},{\"extends\":null,\"module\":null,\"name\":\"FlexBox1\",\"overrides\":[],\"properties\":[{\"default\":\"flex-start\",\"kind\":null,\"name\":\"align_content\"},{\"default\":\"flex-start\",\"kind\":null,\"name\":\"align_items\"},{\"default\":\"row\",\"kind\":null,\"name\":\"flex_direction\"},{\"default\":\"wrap\",\"kind\":null,\"name\":\"flex_wrap\"},{\"default\":\"flex-start\",\"kind\":null,\"name\":\"justify_content\"}]},{\"extends\":null,\"module\":null,\"name\":\"GridStack1\",\"overrides\":[],\"properties\":[{\"default\":\"warn\",\"kind\":null,\"name\":\"mode\"},{\"default\":null,\"kind\":null,\"name\":\"ncols\"},{\"default\":null,\"kind\":null,\"name\":\"nrows\"},{\"default\":true,\"kind\":null,\"name\":\"allow_resize\"},{\"default\":true,\"kind\":null,\"name\":\"allow_drag\"},{\"default\":[],\"kind\":null,\"name\":\"state\"}]},{\"extends\":null,\"module\":null,\"name\":\"click1\",\"overrides\":[],\"properties\":[{\"default\":\"\",\"kind\":null,\"name\":\"terminal_output\"},{\"default\":\"\",\"kind\":null,\"name\":\"debug_name\"},{\"default\":0,\"kind\":null,\"name\":\"clears\"}]},{\"extends\":null,\"module\":null,\"name\":\"NotificationAreaBase1\",\"overrides\":[],\"properties\":[{\"default\":\"bottom-right\",\"kind\":null,\"name\":\"position\"},{\"default\":0,\"kind\":null,\"name\":\"_clear\"}]},{\"extends\":null,\"module\":null,\"name\":\"NotificationArea1\",\"overrides\":[],\"properties\":[{\"default\":[],\"kind\":null,\"name\":\"notifications\"},{\"default\":\"bottom-right\",\"kind\":null,\"name\":\"position\"},{\"default\":0,\"kind\":null,\"name\":\"_clear\"},{\"default\":[{\"background\":\"#ffc107\",\"icon\":{\"className\":\"fas fa-exclamation-triangle\",\"color\":\"white\",\"tagName\":\"i\"},\"type\":\"warning\"},{\"background\":\"#007bff\",\"icon\":{\"className\":\"fas fa-info-circle\",\"color\":\"white\",\"tagName\":\"i\"},\"type\":\"info\"}],\"kind\":null,\"name\":\"types\"}]},{\"extends\":null,\"module\":null,\"name\":\"Notification\",\"overrides\":[],\"properties\":[{\"default\":null,\"kind\":null,\"name\":\"background\"},{\"default\":3000,\"kind\":null,\"name\":\"duration\"},{\"default\":null,\"kind\":null,\"name\":\"icon\"},{\"default\":\"\",\"kind\":null,\"name\":\"message\"},{\"default\":null,\"kind\":null,\"name\":\"notification_type\"},{\"default\":false,\"kind\":null,\"name\":\"_destroyed\"}]},{\"extends\":null,\"module\":null,\"name\":\"TemplateActions1\",\"overrides\":[],\"properties\":[{\"default\":0,\"kind\":null,\"name\":\"open_modal\"},{\"default\":0,\"kind\":null,\"name\":\"close_modal\"}]},{\"extends\":null,\"module\":null,\"name\":\"MaterialTemplateActions1\",\"overrides\":[],\"properties\":[{\"default\":0,\"kind\":null,\"name\":\"open_modal\"},{\"default\":0,\"kind\":null,\"name\":\"close_modal\"}]}],\"roots\":{\"references\":[{\"attributes\":{\"dimension\":\"lat\"},\"id\":\"1052\",\"type\":\"MercatorTickFormatter\"},{\"attributes\":{\"margin\":[5,5,5,5],\"name\":\"HSpacer01546\",\"sizing_mode\":\"stretch_width\"},\"id\":\"1097\",\"type\":\"Spacer\"},{\"attributes\":{},\"id\":\"1034\",\"type\":\"SaveTool\"},{\"attributes\":{\"dimension\":\"lon\"},\"id\":\"1050\",\"type\":\"MercatorTickFormatter\"},{\"attributes\":{\"code\":\"\\n        var projections = Bokeh.require(\\\"core/util/projections\\\");\\n        var x = special_vars.data_x\\n        var y = special_vars.data_y\\n        if (projections.wgs84_mercator.invert == null) {\\n          var coords = projections.wgs84_mercator.inverse([x, y])\\n        } else {\\n          var coords = projections.wgs84_mercator.invert(x, y)\\n        }\\n        return \\\"\\\" + (coords[0]).toFixed(4)\\n    \"},\"id\":\"1088\",\"type\":\"CustomJSHover\"},{\"attributes\":{\"code\":\"\\n        var projections = Bokeh.require(\\\"core/util/projections\\\");\\n        var x = special_vars.data_x\\n        var y = special_vars.data_y\\n        if (projections.wgs84_mercator.invert == null) {\\n          var coords = projections.wgs84_mercator.inverse([x, y])\\n        } else {\\n          var coords = projections.wgs84_mercator.invert(x, y)\\n        }\\n        return \\\"\\\" + (coords[1]).toFixed(4)\\n    \"},\"id\":\"1089\",\"type\":\"CustomJSHover\"},{\"attributes\":{},\"id\":\"1035\",\"type\":\"PanTool\"},{\"attributes\":{},\"id\":\"1081\",\"type\":\"Selection\"},{\"attributes\":{\"coordinates\":null,\"group\":null,\"text_color\":\"black\",\"text_font_size\":\"12pt\"},\"id\":\"1018\",\"type\":\"Title\"},{\"attributes\":{\"zoom_on_axis\":false},\"id\":\"1036\",\"type\":\"WheelZoomTool\"},{\"attributes\":{\"tools\":[{\"id\":\"1014\"},{\"id\":\"1034\"},{\"id\":\"1035\"},{\"id\":\"1036\"},{\"id\":\"1037\"},{\"id\":\"1038\"}]},\"id\":\"1040\",\"type\":\"Toolbar\"},{\"attributes\":{\"match_aspect\":true,\"overlay\":{\"id\":\"1039\"}},\"id\":\"1037\",\"type\":\"BoxZoomTool\"},{\"attributes\":{\"below\":[{\"id\":\"1026\"}],\"center\":[{\"id\":\"1029\"},{\"id\":\"1033\"}],\"frame_height\":300,\"frame_width\":593,\"height\":null,\"left\":[{\"id\":\"1030\"}],\"margin\":[5,5,5,5],\"match_aspect\":true,\"min_border_bottom\":10,\"min_border_left\":10,\"min_border_right\":10,\"min_border_top\":10,\"renderers\":[{\"id\":\"1078\"},{\"id\":\"1086\"}],\"sizing_mode\":\"fixed\",\"title\":{\"id\":\"1018\"},\"toolbar\":{\"id\":\"1040\"},\"width\":null,\"x_range\":{\"id\":\"1010\"},\"x_scale\":{\"id\":\"1022\"},\"y_range\":{\"id\":\"1011\"},\"y_scale\":{\"id\":\"1024\"}},\"id\":\"1017\",\"subtype\":\"Figure\",\"type\":\"Plot\"},{\"attributes\":{},\"id\":\"1022\",\"type\":\"LinearScale\"},{\"attributes\":{},\"id\":\"1024\",\"type\":\"LinearScale\"},{\"attributes\":{\"margin\":[5,5,5,5],\"name\":\"HSpacer01545\",\"sizing_mode\":\"stretch_width\"},\"id\":\"1005\",\"type\":\"Spacer\"},{\"attributes\":{\"axis_label\":\"x\",\"coordinates\":null,\"formatter\":{\"id\":\"1050\"},\"group\":null,\"major_label_policy\":{\"id\":\"1055\"},\"ticker\":{\"id\":\"1049\"}},\"id\":\"1026\",\"type\":\"LinearAxis\"},{\"attributes\":{},\"id\":\"1038\",\"type\":\"ResetTool\"},{\"attributes\":{\"bottom_units\":\"screen\",\"coordinates\":null,\"fill_alpha\":0.5,\"fill_color\":\"lightgrey\",\"group\":null,\"left_units\":\"screen\",\"level\":\"overlay\",\"line_alpha\":1.0,\"line_color\":\"black\",\"line_dash\":[4,4],\"line_width\":2,\"right_units\":\"screen\",\"syncable\":false,\"top_units\":\"screen\"},\"id\":\"1039\",\"type\":\"BoxAnnotation\"},{\"attributes\":{\"fill_alpha\":{\"value\":0.1},\"fill_color\":{\"value\":\"#30a2da\"},\"hatch_alpha\":{\"value\":0.1},\"hatch_color\":{\"value\":\"#30a2da\"},\"line_alpha\":{\"value\":0.1},\"line_color\":{\"value\":\"#30a2da\"},\"size\":{\"value\":5.477225575051661},\"x\":{\"field\":\"Lng\"},\"y\":{\"field\":\"Lat\"}},\"id\":\"1084\",\"type\":\"Scatter\"},{\"attributes\":{\"axis\":{\"id\":\"1030\"},\"coordinates\":null,\"dimension\":1,\"grid_line_color\":null,\"group\":null,\"ticker\":null},\"id\":\"1033\",\"type\":\"Grid\"},{\"attributes\":{\"fill_alpha\":{\"value\":0.2},\"fill_color\":{\"value\":\"#30a2da\"},\"hatch_alpha\":{\"value\":0.2},\"hatch_color\":{\"value\":\"#30a2da\"},\"line_alpha\":{\"value\":0.2},\"line_color\":{\"value\":\"#30a2da\"},\"size\":{\"value\":5.477225575051661},\"x\":{\"field\":\"Lng\"},\"y\":{\"field\":\"Lat\"}},\"id\":\"1085\",\"type\":\"Scatter\"},{\"attributes\":{\"callback\":null,\"formatters\":{\"$x\":{\"id\":\"1088\"},\"$y\":{\"id\":\"1089\"}},\"renderers\":[{\"id\":\"1086\"}],\"tags\":[\"hv_created\"],\"tooltips\":[[\"Lng\",\"$x{custom}\"],[\"Lat\",\"$y{custom}\"]]},\"id\":\"1014\",\"type\":\"HoverTool\"},{\"attributes\":{\"end\":23952062.555730946,\"min_interval\":5,\"reset_end\":23952062.555730946,\"reset_start\":-23935364.63211196,\"start\":-23935364.63211196,\"tags\":[[[\"Lng\",\"Lng\",null]]]},\"id\":\"1010\",\"type\":\"Range1d\"},{\"attributes\":{\"axis\":{\"id\":\"1026\"},\"coordinates\":null,\"grid_line_color\":null,\"group\":null,\"ticker\":null},\"id\":\"1029\",\"type\":\"Grid\"},{\"attributes\":{\"attribution\":\"&copy; <a href=\\\"https://www.openstreetmap.org/copyright\\\">OpenStreetMap</a> contributors\",\"url\":\"https://c.tile.openstreetmap.org/{Z}/{X}/{Y}.png\"},\"id\":\"1075\",\"type\":\"WMTSTileSource\"},{\"attributes\":{\"data\":{\"Lat\":{\"__ndarray__\":\"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\",\"dtype\":\"float64\",\"order\":\"little\",\"shape\":[562]},\"Lng\":{\"__ndarray__\":\"KKZOAgeCOEFCQkjy0DdowdWJ5UrLCz3BjAI6/lPtcUGPfTKNCVlfwaFgpTaq1kZBdeRxX/tVQEGH6nlBebdFQVEUU4gUaGRBgIrPkWmKbMHQtzMkZsBawQQOGYUvhW3B51/k/i0FQUGd0idO7ABdwV0AsrtiHV7Bw54vpG97ZMGlp9H3DDZmwcaXfDuyPTXBATFsoK2qUMEI6ySFbUcxQfj5jElSF2XB9Sk+jpyrXsFZOW9pynRlQSoUbscDc3JBW+mOfPKzOEHJDxPu5WhfweLmuDTuz2tBIMQ/UQZYckFG0Ws7/vdgQfF5l2yEmXLBjmn2MxprZMGV5WJ8iM5hwQK1ZbLHTmVBEZt07+oIX0HbGy45H0hvQZFQ6dvC6G5BNEVAbCVsOUHCACc+LUs/QRn8wlCNQWHB9dc2Rt4sX8GbRsTVasZdQaFiDdGQXWPBE+ogOTvNcUGGErKF1bNWwRlQlVjQXjfBxC2ldQDlSkHOM9WT5d5xQXNA82pfkGZBrULY0Py7S0FKs+aejZ5tQZN3cIPitl7BfXd8h8YuYMFEEl/7dj9hQWT1maeXgFhB52nY5RlxWMHVFu1031FVwXyI+hK+A3BBC22NOO+PYsHkgKgWGSBuQQmZ9ifa0mDBv4WvBubOZMGWwxLagQ5GQVgmlH+5XGtBoYUFg+PmQ0GCGcS1d0tkwb3PYLH6X0jBiRq/0zTPaEFtXI28sk0wwfifvNNHqGzBYx9FwqdHaMHBLhyxUNBoQQuMXcyjN3LByBo5c2g5b0EsVELf6OlwwbBoALgak3BB1pzNH4ZGX8EYFD9DaQVgwWEfm/ybPDrBj75Hh/d8aEGY2uGN2mFvwahTEjzhZXLBSN8K8b5aZsFxBabbBTloQbOJ3XyKJUpB8LiwfhqzVcGIhrc9SwJwQT3t41Lc2FHBrufCxBspYcFE5o40XZlkQR1ss4yQtEdB+Qog0D0YXcEOvwhDhpRoQS8Tw+FIKCfBYlhRzO8Na8EfxGgVuCxpQdSGJ33T8mHBDVSLHGVRX8GV0WIzYgJwQeZpizgW4WLBH3F2z9A8VcFOLYLGCTlqQWyKnrQG90/B3ZafY9AnaEEvJqkHJ4RjwXnSZB1loV9Bg4spdwtob0E2mBaD8PByQW1YLewECHJBF/xbeV7eYsFYrkHtmFxqwUZNXF1yPl/BFulzpKOjYEHsh160wE1lQeh1/LTc/15BrovnzDKuZEG6ZKXLMxxwwQSSDIqzjGDB6Cl4OvnGZMEth6QGgXRdwWQmqgC7mUXBojsnYow1ZcEMXyO148hfwZTuD8rpqWhBGDheA64hTkFVgWCQJ6sUQc/770F78lBBjZeGfutrNUGBMui3n9hXwWAvfLQUjDfBhj0yJnRkVsGVChuykrJmwSDyYeaUbz7BWp9aIacNaMG/lfvzRj9swejMd+P6l2DBNtwfpB1sSkHwCYLKiA9xQbHSvVOhGBJB2dL6p24oYEGNoXYHHhphQcrdWoV2hk1BXxREox2OU8EtA4TfkdoHwacsLM3cPWRB6RccnIKjOEFX2FPf14ZYQdj0y/f3kDpBMT1aM5tGSEGXc2xOlpBsQWEMWz4QLnDBTox29RVpZEGnocJA4gNwQXFcpGaDWF7BDs4chboDZsGmy+PMpy9sQY1DbdY6W2tB9zVRFPxZYUGFXcaifIdZQQIZZHCqbFhBZM/pNON6PkGUs5slu1xZQafvIhiFSV1Be68a465uUcH+fsRnBudtQaF4dbSdsBFBaeLzQxOSWUGQkEN6TfZwwVcYTV21FHJBujjGFrzmXMEIOPklzHVYwVzKXXJ800RBUsqS76FHSkEsTEjdoBtRQUlRwo6NrldBPUyIVIqwa0GRLIN7ENlsQVH1gvRfwERBBMAuH0KkPEHPJJY0N3VjQY3n9FfHhWHBcG8YeWUNasGC0DdqeG5YQXMRuxBCxnDBe+p/mX8sSkF6S7f8ecxFwbSKBN9TRnBBKsDIixcvY8GNpuEMtkBuQcv6YQiDbmxBhBijtBtVaEG57fTn8bppQX2vHkFoLE1BdtBX7Km2ZUFo6zu9+XZwwU8qrH3DKyxBkYhN1r7lbEFwiWxqRyBgQdC/nzmqNUtBaFqANyDVLUG0Ax0JpaBqQStM5WMrdk5B99jEf9awU8HhpkfskrcrwTp7fj1xLh7BpkTTMke1/8AAtlCw8L85QXjP3gF97GFBYgCPWB5zYUH46JyqXptUQdPuvb1zukBBj4QSbAm3aUGPBcJyBMhpwY2wALsH7mrB3Ywh7pkgXcFFOXSPmmZQwdq0Jq8dYFFBJXF1UirhaEF3bqlNXytcwfGqKB0WonJBYbKTVfYjRME+YBaKtNVsQZee6j9YYibBj+kBiYJwW8H9/3z78VxqwYfKBfwxBF3BKU0VU+X7IEFirUo2/EtHQUT3SNAdkE3BJNrPex4kO8HTza5TimBLQd4K23SNtGTBXF0++nMNcEEgLbqxuwpfQaAohCqLgWjBr2VGSNw3QcEW29advx9xQRn75D0O80RB1qesWHKxY0Eov47dNsFKQQy1ywxQVmfBJL/cB+GsbMEkFkC7sFBrQX+j8eS0OFrBubf6NrkjbkFv/CyOI3YKwZzFP5bV9mLBPZ/MdqzXVUHT7XqCoudbwTmR5iB+gWxB48Eeh8h8+0B4gIicDGQVQTB8Es9vJ2fBf5oXIRE9aEEachQg9h1EQctMct0xUkhBfHZX1NnsT0GzM23XLfxfQZG53jA8NWFBZCuUWNAXZMEmEyXVsLxnQXOA4QKEk2nBvmUodYfOWcGoMtoNRjdWwXr/e30J2FzB4iErKkA+ZcE0KfsikCBoQRpjVGnZxGJBaO3fZ6kfVsFfugxW5LtswQofWNTa/VHB+ylzFCnVOcFvPykhnupowRJUvvMUnGTBw0vN+WjDZUHML/BjJKVwwf2sbtwCu1dBHxrS3ADQbEEQfxEecSwpwft0Z/oOOWLBTAU1h7kQMcFOg4BYartTQVS4uQFiOStBEHsF2dr8VsF9dmbCN3xWwUiOq7hMpVvBeoVnuFSeQUFMfHFUS15owQ3l2Oz7CW1Bgzn3u741U8EShc5MOLVhwX5GUgR4QlpBXtV8GesdTsFls3l4v3tgwbaRQAXeNV7B5TYtbzcUQkEUSakLzTlhwfHySGmS13JBDpQyaPPuZkGcEcCy/3EhQSV2zw5fJ3LB923VRbnGWcGmvM+Kc8BewQP05/RU8XBBdtQp0FOjZEFSAnqa1FlVQRLZoq1D+HFBsVZSPWk4XsGfgCZnm6xnQfNZaMT2bF/B+RfMd4sAbkEDuK+95uFpQYG5+gDdMWpB3IfBJM89YkHUkP3b2s1EwZ7WmLvUtGfBN9q3CTflXcHljkUd/aNNQdKPRt4wdVnBONa6sv5EUsHYWVQ9QudNwXsBrA/MQXBBjmjev67ZZEEVjew30j5gwZ5r/7urv09BI5tYH0oMNkEqkkUs8FBaQaIYFYYO2TtBJa+HjY/XSEGs5l9SieYhQWRpNi8WRlnBYOzTrLEtVUFWWWD+2hJRQc594ICTaUdBX34Me3FXR0FUQfH2qHFawQn83HFRXxTBBrkFRc8BIUHwZUwlNxxRwZ9tPpLgcWXBlYpnRvuAZ8Hn6HxqNnZkQVZHsNRM2VhBxyJaioX9b0H42FJs2gljwQDti0MyBHBBK331vE6PW8GQcsdqzQFqwVZSgB/btFZBdHqamUn9JcFHqGJ5uBZwwY73wUaCLHBBShoCRiS9UkGh8B8wj4RqQV5dJikRYGFB+oETolwhA0HyNLCO7IgaQX6cDaj7HERBWITZwGU9akFMYeW3PEo4QQuDoZDkzGTBrxoJE6wBb0EXK1pyj2VVwcuAMWrGglJBIOADmUFtbEFv3jy8yvscQaCUGcUXVmHBkKZ1WifER8FZl8GVIHhsQTCcFrCXElVBWx/wBFquYkH5Gr6Z2b9qQVJ6yn0YezDBmbpNu72FcEHSQ6aKRYpwQXStwl/1RG9BiijQnPHYXkEdPZcLe5xwwbcQszhYAWdBzloEqEiSVUHzpP3i93ZpQZabaIIpa2RBmZ+JwrPGXsErkN2RCcptQVGC0xnnSl7BHzryljBtaUGdTx+baPhWQcSpA023FG5BbAk2TnnZQ0GLEyhEf0M4QcNSH+xkyHDB+BxAXusZYMF3DMFNKF1vwedUFLSfKVPBOU/+o7XgQUEA9PDXWQ85QQ3R1vT4XlXBYkzbIPJHXsFBnIp7101hQb8FOKsXv15BUC+lwzY5YUE79Wc5g/twQXK5s6vfFilBkGeQ8vsJcsGaJZOF4x1owaIHlUs6JVZBIHuGj8RaW0G95lTLS8pcQddwnOKqZ25BD9n9bINNUMHQb9fHIGkxQTAU7PLuJ2NBN9llNN8Qa0ET0Pdk07QswXPVMKeExmdBWtrOxdVaZ0HG78xFc3hywUel14Stcz3BZBTcTkjPaEEwPZLlqqpFQVpFBUyJqmzB0nq8DaNwZ0G9ABCUXEBhwZ+BPCwqX2FB6kNV6aeLaUGOU1ae/bNIQXF9C7o9hktBn0ostmIVbEHiFiMtov5pwZsOsAjNIWDBJP9J8oIHYcEHiBHFs5piQTzjjPJ6x2dBOv51p5FWMEFqHIp/rtdwQTq0CZo2TGJB8Yx/QT/UVEG0GjzqW0xkQUowNtXaaW9BeI+c3kDTYsG+HiCddipZwXJ4A9pDd1hBdpPczUFickEutUM/sARlwWjdMKu+UHBBsiCdfcG1YEEAB/PWPx1kQTb5aRUH/GjBmmS0p8NAW8FHN+eOu8hoQfLGFdPu0mdBr//uiZmUT0ERnaB5CG4yQcDnyon1WW5BUmPAl1X7bkEQS31YQj1kQQk5Z9Qr/GlBGrNDmiPOcUFTBcL2Fg4Uwf1Ics38e0pBTyG24Bd+a0FS1Gj4lGlxQdrcQhpyqkNBEHuxTcPmakE9uGKM0AtqQSONsNyYRGTB2F7MgVu+G0HusKXfl3ZpQfj0TLdIpDRB9J8GoDjWAkG9sjBqPKNSQUr9uYMXDGrBWck/naMXS0FYj2+qB9YkQQVdgIfae2ZBxJOZus3iacGlv7/95KBlwfbnZq4OeWBBmIBhRS5LZ8HAgB2YoSRuQZ7G+vE4DVrB/jfYEuk7cEFOaSgJz+phQbS9vEDgxU5BuoGMbZNNcEFSTUO5VHxYQYDpgNKYElfB7R2aOiZCXcE0iojAfrU1QXQ+8PjKjWJBVhaNLxJzacG5nrpbieQrwRulIA2as17BPoJo25d0XkEEjZRFmrViQZXnCNYUVm1B6IeQBWOHWEGICGGG4cxGQSZeqwVUN2tBxWgO3mHuZ8E1+zTVi5pfwc5vRSmMxF3BL/JSAZ6VTcGqWSuyMoBuQY06r+ueEThBfWNEjJD+YMHxeZdshJkyQRzF31AIGFfBzFUJs/ilakHbP+Z1DI9XQdLvVt9h9F5BHkYDGtyubUGwmBqDcGluQambbpgmvWtBdHTBO2YJc0GxfyWmZ9trQU3GmMTs4VBBStB3sOQhYEHx2B+VKr9dwUxqEwf4W2ZBzsDC6eIKbUEvhiscVKpZwQlbZZr3hF9BYz+S8hkFcEFXkqgY7PoswdCMd3P+7VHBVmg+Pdz8ZkF8fSrILyhSQYa6uQ7Rk1VBgA/98PZxX8Ho+NdF9XViwXmJYmCwX2fBNtEx0ar/Z0HxJ1hytrY1wSQ3JF40aVtBVsJoS5QeXUFMaYl/kCNWQem0NwHo9WpBnsv+c3leUUEBa6z3aLRRQQ4NyuTBoEJBMfypYf+mR0EXfIw0v/pkwfQzc7SI4F9BbBmcZQUdZMEZChVZShRhQVJE7lTEdGlBa+Wid4SpZsF0TPtgGm1uQQN8dzBkGUdBbZVu/5TSXcGJL/Npzt5oQUnuAlrrF1XB7BOKejIkJ8G/T/qcUgVzwcdrPBB5z01BUxy0YYuZYkGrCKEGMhdnQV7TSoI3HGlBw76lmJMNQ8HTsk1+4Y1gwWj9t5IxCjfBGvb65fh0ZkE=\",\"dtype\":\"float64\",\"order\":\"little\",\"shape\":[562]}},\"selected\":{\"id\":\"1081\"},\"selection_policy\":{\"id\":\"1094\"}},\"id\":\"1080\",\"type\":\"ColumnDataSource\"},{\"attributes\":{},\"id\":\"1055\",\"type\":\"AllLabels\"},{\"attributes\":{\"coordinates\":null,\"data_source\":{\"id\":\"1080\"},\"glyph\":{\"id\":\"1083\"},\"group\":null,\"hover_glyph\":null,\"muted_glyph\":{\"id\":\"1085\"},\"nonselection_glyph\":{\"id\":\"1084\"},\"selection_glyph\":{\"id\":\"1090\"},\"view\":{\"id\":\"1087\"}},\"id\":\"1086\",\"type\":\"GlyphRenderer\"},{\"attributes\":{\"axis_label\":\"y\",\"coordinates\":null,\"formatter\":{\"id\":\"1052\"},\"group\":null,\"major_label_policy\":{\"id\":\"1062\"},\"ticker\":{\"id\":\"1051\"}},\"id\":\"1030\",\"type\":\"LinearAxis\"},{\"attributes\":{\"coordinates\":null,\"group\":null,\"level\":\"glyph\",\"tile_source\":{\"id\":\"1075\"}},\"id\":\"1078\",\"type\":\"TileRenderer\"},{\"attributes\":{\"children\":[{\"id\":\"1005\"},{\"id\":\"1017\"},{\"id\":\"1097\"}],\"margin\":[0,0,0,0],\"name\":\"Row01541\",\"tags\":[\"embedded\"]},\"id\":\"1004\",\"type\":\"Row\"},{\"attributes\":{\"dimension\":\"lat\"},\"id\":\"1051\",\"type\":\"MercatorTicker\"},{\"attributes\":{\"dimension\":\"lon\"},\"id\":\"1049\",\"type\":\"MercatorTicker\"},{\"attributes\":{},\"id\":\"1094\",\"type\":\"UnionRenderers\"},{\"attributes\":{\"end\":15678768.14167579,\"min_interval\":5,\"reset_end\":15678768.14167579,\"reset_start\":-8515125.102480438,\"start\":-8515125.102480438,\"tags\":[[[\"Lat\",\"Lat\",null]]]},\"id\":\"1011\",\"type\":\"Range1d\"},{\"attributes\":{\"source\":{\"id\":\"1080\"}},\"id\":\"1087\",\"type\":\"CDSView\"},{\"attributes\":{\"angle\":{\"value\":0.0},\"fill_alpha\":{\"value\":1.0},\"fill_color\":{\"value\":\"#30a2da\"},\"hatch_alpha\":{\"value\":1.0},\"hatch_color\":{\"value\":\"#30a2da\"},\"hatch_scale\":{\"value\":12.0},\"hatch_weight\":{\"value\":1.0},\"line_alpha\":{\"value\":1.0},\"line_cap\":{\"value\":\"butt\"},\"line_color\":{\"value\":\"#30a2da\"},\"line_dash\":{\"value\":[]},\"line_dash_offset\":{\"value\":0},\"line_join\":{\"value\":\"bevel\"},\"line_width\":{\"value\":1},\"marker\":{\"value\":\"circle\"},\"size\":{\"value\":5.477225575051661},\"x\":{\"field\":\"Lng\"},\"y\":{\"field\":\"Lat\"}},\"id\":\"1090\",\"type\":\"Scatter\"},{\"attributes\":{},\"id\":\"1062\",\"type\":\"AllLabels\"},{\"attributes\":{\"fill_color\":{\"value\":\"#30a2da\"},\"hatch_color\":{\"value\":\"#30a2da\"},\"line_color\":{\"value\":\"#30a2da\"},\"size\":{\"value\":5.477225575051661},\"x\":{\"field\":\"Lng\"},\"y\":{\"field\":\"Lat\"}},\"id\":\"1083\",\"type\":\"Scatter\"}],\"root_ids\":[\"1004\"]},\"title\":\"Bokeh Application\",\"version\":\"2.4.3\"}};\n",
       "    var render_items = [{\"docid\":\"af6d5eae-7df2-4dd2-b872-9e508f931ad7\",\"root_ids\":[\"1004\"],\"roots\":{\"1004\":\"77a076cf-7b86-4e2f-912d-f7748bd9a81d\"}}];\n",
       "    root.Bokeh.embed.embed_items_notebook(docs_json, render_items);\n",
       "  }\n",
       "  if (root.Bokeh !== undefined && root.Bokeh.Panel !== undefined) {\n",
       "    embed_document(root);\n",
       "  } else {\n",
       "    var attempts = 0;\n",
       "    var timer = setInterval(function(root) {\n",
       "      if (root.Bokeh !== undefined && root.Bokeh.Panel !== undefined) {\n",
       "        clearInterval(timer);\n",
       "        embed_document(root);\n",
       "      } else if (document.readyState == \"complete\") {\n",
       "        attempts++;\n",
       "        if (attempts > 200) {\n",
       "          clearInterval(timer);\n",
       "          console.log(\"Bokeh: ERROR: Unable to run BokehJS code because BokehJS library is missing\");\n",
       "        }\n",
       "      }\n",
       "    }, 25, root)\n",
       "  }\n",
       "})(window);</script>"
      ],
      "text/plain": [
       ":Overlay\n",
       "   .Tiles.I  :Tiles   [x,y]\n",
       "   .Points.I :Points   [Lng,Lat]"
      ]
     },
     "execution_count": 10,
     "metadata": {
      "application/vnd.holoviews_exec.v0+json": {
       "id": "1004"
      }
     },
     "output_type": "execute_result"
    }
   ],
   "source": [
    "# Display the map plot_1\n",
    "map_plot_1"
   ]
  },
  {
   "cell_type": "code",
   "execution_count": 12,
   "id": "7c8fa82c",
   "metadata": {},
   "outputs": [
    {
     "data": {},
     "metadata": {},
     "output_type": "display_data"
    },
    {
     "data": {
      "application/vnd.holoviews_exec.v0+json": "",
      "text/html": [
       "<div id='1254'>\n",
       "  <div class=\"bk-root\" id=\"e79a17b6-afb9-40d0-bc44-345cddfb1c56\" data-root-id=\"1254\"></div>\n",
       "</div>\n",
       "<script type=\"application/javascript\">(function(root) {\n",
       "  function embed_document(root) {\n",
       "    var docs_json = {\"fc982470-38f0-427a-a1bd-963f46a9fc0b\":{\"defs\":[{\"extends\":null,\"module\":null,\"name\":\"ReactiveHTML1\",\"overrides\":[],\"properties\":[]},{\"extends\":null,\"module\":null,\"name\":\"FlexBox1\",\"overrides\":[],\"properties\":[{\"default\":\"flex-start\",\"kind\":null,\"name\":\"align_content\"},{\"default\":\"flex-start\",\"kind\":null,\"name\":\"align_items\"},{\"default\":\"row\",\"kind\":null,\"name\":\"flex_direction\"},{\"default\":\"wrap\",\"kind\":null,\"name\":\"flex_wrap\"},{\"default\":\"flex-start\",\"kind\":null,\"name\":\"justify_content\"}]},{\"extends\":null,\"module\":null,\"name\":\"GridStack1\",\"overrides\":[],\"properties\":[{\"default\":\"warn\",\"kind\":null,\"name\":\"mode\"},{\"default\":null,\"kind\":null,\"name\":\"ncols\"},{\"default\":null,\"kind\":null,\"name\":\"nrows\"},{\"default\":true,\"kind\":null,\"name\":\"allow_resize\"},{\"default\":true,\"kind\":null,\"name\":\"allow_drag\"},{\"default\":[],\"kind\":null,\"name\":\"state\"}]},{\"extends\":null,\"module\":null,\"name\":\"click1\",\"overrides\":[],\"properties\":[{\"default\":\"\",\"kind\":null,\"name\":\"terminal_output\"},{\"default\":\"\",\"kind\":null,\"name\":\"debug_name\"},{\"default\":0,\"kind\":null,\"name\":\"clears\"}]},{\"extends\":null,\"module\":null,\"name\":\"NotificationAreaBase1\",\"overrides\":[],\"properties\":[{\"default\":\"bottom-right\",\"kind\":null,\"name\":\"position\"},{\"default\":0,\"kind\":null,\"name\":\"_clear\"}]},{\"extends\":null,\"module\":null,\"name\":\"NotificationArea1\",\"overrides\":[],\"properties\":[{\"default\":[],\"kind\":null,\"name\":\"notifications\"},{\"default\":\"bottom-right\",\"kind\":null,\"name\":\"position\"},{\"default\":0,\"kind\":null,\"name\":\"_clear\"},{\"default\":[{\"background\":\"#ffc107\",\"icon\":{\"className\":\"fas fa-exclamation-triangle\",\"color\":\"white\",\"tagName\":\"i\"},\"type\":\"warning\"},{\"background\":\"#007bff\",\"icon\":{\"className\":\"fas fa-info-circle\",\"color\":\"white\",\"tagName\":\"i\"},\"type\":\"info\"}],\"kind\":null,\"name\":\"types\"}]},{\"extends\":null,\"module\":null,\"name\":\"Notification\",\"overrides\":[],\"properties\":[{\"default\":null,\"kind\":null,\"name\":\"background\"},{\"default\":3000,\"kind\":null,\"name\":\"duration\"},{\"default\":null,\"kind\":null,\"name\":\"icon\"},{\"default\":\"\",\"kind\":null,\"name\":\"message\"},{\"default\":null,\"kind\":null,\"name\":\"notification_type\"},{\"default\":false,\"kind\":null,\"name\":\"_destroyed\"}]},{\"extends\":null,\"module\":null,\"name\":\"TemplateActions1\",\"overrides\":[],\"properties\":[{\"default\":0,\"kind\":null,\"name\":\"open_modal\"},{\"default\":0,\"kind\":null,\"name\":\"close_modal\"}]},{\"extends\":null,\"module\":null,\"name\":\"MaterialTemplateActions1\",\"overrides\":[],\"properties\":[{\"default\":0,\"kind\":null,\"name\":\"open_modal\"},{\"default\":0,\"kind\":null,\"name\":\"close_modal\"}]}],\"roots\":{\"references\":[{\"attributes\":{\"below\":[{\"id\":\"1276\"}],\"center\":[{\"id\":\"1279\"},{\"id\":\"1283\"}],\"frame_height\":500,\"frame_width\":700,\"height\":null,\"left\":[{\"id\":\"1280\"}],\"margin\":[5,5,5,5],\"match_aspect\":true,\"min_border_bottom\":10,\"min_border_left\":10,\"min_border_right\":10,\"min_border_top\":10,\"renderers\":[{\"id\":\"1328\"},{\"id\":\"1336\"}],\"sizing_mode\":\"fixed\",\"title\":{\"id\":\"1268\"},\"toolbar\":{\"id\":\"1290\"},\"width\":null,\"x_range\":{\"id\":\"1260\"},\"x_scale\":{\"id\":\"1272\"},\"y_range\":{\"id\":\"1261\"},\"y_scale\":{\"id\":\"1274\"}},\"id\":\"1267\",\"subtype\":\"Figure\",\"type\":\"Plot\"},{\"attributes\":{},\"id\":\"1305\",\"type\":\"AllLabels\"},{\"attributes\":{\"children\":[{\"id\":\"1255\"},{\"id\":\"1267\"},{\"id\":\"1347\"}],\"margin\":[0,0,0,0],\"name\":\"Row01781\",\"tags\":[\"embedded\"]},\"id\":\"1254\",\"type\":\"Row\"},{\"attributes\":{\"margin\":[5,5,5,5],\"name\":\"HSpacer01786\",\"sizing_mode\":\"stretch_width\"},\"id\":\"1347\",\"type\":\"Spacer\"},{\"attributes\":{},\"id\":\"1272\",\"type\":\"LinearScale\"},{\"attributes\":{\"margin\":[5,5,5,5],\"name\":\"HSpacer01785\",\"sizing_mode\":\"stretch_width\"},\"id\":\"1255\",\"type\":\"Spacer\"},{\"attributes\":{},\"id\":\"1344\",\"type\":\"UnionRenderers\"},{\"attributes\":{},\"id\":\"1274\",\"type\":\"LinearScale\"},{\"attributes\":{},\"id\":\"1288\",\"type\":\"ResetTool\"},{\"attributes\":{\"fill_color\":{\"value\":\"#30a2da\"},\"hatch_color\":{\"value\":\"#30a2da\"},\"line_color\":{\"value\":\"#30a2da\"},\"size\":{\"value\":5.477225575051661},\"x\":{\"field\":\"Lng\"},\"y\":{\"field\":\"Lat\"}},\"id\":\"1333\",\"type\":\"Scatter\"},{\"attributes\":{},\"id\":\"1312\",\"type\":\"AllLabels\"},{\"attributes\":{\"bottom_units\":\"screen\",\"coordinates\":null,\"fill_alpha\":0.5,\"fill_color\":\"lightgrey\",\"group\":null,\"left_units\":\"screen\",\"level\":\"overlay\",\"line_alpha\":1.0,\"line_color\":\"black\",\"line_dash\":[4,4],\"line_width\":2,\"right_units\":\"screen\",\"syncable\":false,\"top_units\":\"screen\"},\"id\":\"1289\",\"type\":\"BoxAnnotation\"},{\"attributes\":{\"end\":19870062.0596803,\"min_interval\":5,\"reset_end\":19870062.0596803,\"reset_start\":-12706419.020484949,\"start\":-12706419.020484949,\"tags\":[[[\"Lat\",\"Lat\",null]]]},\"id\":\"1261\",\"type\":\"Range1d\"},{\"attributes\":{\"axis_label\":\"x\",\"coordinates\":null,\"formatter\":{\"id\":\"1300\"},\"group\":null,\"major_label_policy\":{\"id\":\"1305\"},\"ticker\":{\"id\":\"1299\"}},\"id\":\"1276\",\"type\":\"LinearAxis\"},{\"attributes\":{\"callback\":null,\"formatters\":{\"$x\":{\"id\":\"1338\"},\"$y\":{\"id\":\"1339\"}},\"renderers\":[{\"id\":\"1336\"}],\"tags\":[\"hv_created\"],\"tooltips\":[[\"Lng\",\"$x{custom}\"],[\"Lat\",\"$y{custom}\"]]},\"id\":\"1264\",\"type\":\"HoverTool\"},{\"attributes\":{\"axis\":{\"id\":\"1280\"},\"coordinates\":null,\"dimension\":1,\"grid_line_color\":null,\"group\":null,\"ticker\":null},\"id\":\"1283\",\"type\":\"Grid\"},{\"attributes\":{\"axis\":{\"id\":\"1276\"},\"coordinates\":null,\"grid_line_color\":null,\"group\":null,\"ticker\":null},\"id\":\"1279\",\"type\":\"Grid\"},{\"attributes\":{\"attribution\":\"&copy; <a href=\\\"https://www.openstreetmap.org/copyright\\\">OpenStreetMap</a> contributors\",\"url\":\"https://c.tile.openstreetmap.org/{Z}/{X}/{Y}.png\"},\"id\":\"1325\",\"type\":\"WMTSTileSource\"},{\"attributes\":{\"code\":\"\\n        var projections = Bokeh.require(\\\"core/util/projections\\\");\\n        var x = special_vars.data_x\\n        var y = special_vars.data_y\\n        if (projections.wgs84_mercator.invert == null) {\\n          var coords = projections.wgs84_mercator.inverse([x, y])\\n        } else {\\n          var coords = projections.wgs84_mercator.invert(x, y)\\n        }\\n        return \\\"\\\" + (coords[1]).toFixed(4)\\n    \"},\"id\":\"1339\",\"type\":\"CustomJSHover\"},{\"attributes\":{\"axis_label\":\"y\",\"coordinates\":null,\"formatter\":{\"id\":\"1302\"},\"group\":null,\"major_label_policy\":{\"id\":\"1312\"},\"ticker\":{\"id\":\"1301\"}},\"id\":\"1280\",\"type\":\"LinearAxis\"},{\"attributes\":{\"code\":\"\\n        var projections = Bokeh.require(\\\"core/util/projections\\\");\\n        var x = special_vars.data_x\\n        var y = special_vars.data_y\\n        if (projections.wgs84_mercator.invert == null) {\\n          var coords = projections.wgs84_mercator.inverse([x, y])\\n        } else {\\n          var coords = projections.wgs84_mercator.invert(x, y)\\n        }\\n        return \\\"\\\" + (coords[0]).toFixed(4)\\n    \"},\"id\":\"1338\",\"type\":\"CustomJSHover\"},{\"attributes\":{\"end\":22811885.717925165,\"min_interval\":5,\"reset_end\":22811885.717925165,\"reset_start\":-22795187.794306178,\"start\":-22795187.794306178,\"tags\":[[[\"Lng\",\"Lng\",null]]]},\"id\":\"1260\",\"type\":\"Range1d\"},{\"attributes\":{\"coordinates\":null,\"data_source\":{\"id\":\"1330\"},\"glyph\":{\"id\":\"1333\"},\"group\":null,\"hover_glyph\":null,\"muted_glyph\":{\"id\":\"1335\"},\"nonselection_glyph\":{\"id\":\"1334\"},\"selection_glyph\":{\"id\":\"1340\"},\"view\":{\"id\":\"1337\"}},\"id\":\"1336\",\"type\":\"GlyphRenderer\"},{\"attributes\":{\"dimension\":\"lon\"},\"id\":\"1299\",\"type\":\"MercatorTicker\"},{\"attributes\":{\"fill_alpha\":{\"value\":0.1},\"fill_color\":{\"value\":\"#30a2da\"},\"hatch_alpha\":{\"value\":0.1},\"hatch_color\":{\"value\":\"#30a2da\"},\"line_alpha\":{\"value\":0.1},\"line_color\":{\"value\":\"#30a2da\"},\"size\":{\"value\":5.477225575051661},\"x\":{\"field\":\"Lng\"},\"y\":{\"field\":\"Lat\"}},\"id\":\"1334\",\"type\":\"Scatter\"},{\"attributes\":{\"dimension\":\"lat\"},\"id\":\"1302\",\"type\":\"MercatorTickFormatter\"},{\"attributes\":{\"tools\":[{\"id\":\"1264\"},{\"id\":\"1284\"},{\"id\":\"1285\"},{\"id\":\"1286\"},{\"id\":\"1287\"},{\"id\":\"1288\"}]},\"id\":\"1290\",\"type\":\"Toolbar\"},{\"attributes\":{\"coordinates\":null,\"group\":null,\"level\":\"glyph\",\"tile_source\":{\"id\":\"1325\"}},\"id\":\"1328\",\"type\":\"TileRenderer\"},{\"attributes\":{\"angle\":{\"value\":0.0},\"fill_alpha\":{\"value\":1.0},\"fill_color\":{\"value\":\"#30a2da\"},\"hatch_alpha\":{\"value\":1.0},\"hatch_color\":{\"value\":\"#30a2da\"},\"hatch_scale\":{\"value\":12.0},\"hatch_weight\":{\"value\":1.0},\"line_alpha\":{\"value\":1.0},\"line_cap\":{\"value\":\"butt\"},\"line_color\":{\"value\":\"#30a2da\"},\"line_dash\":{\"value\":[]},\"line_dash_offset\":{\"value\":0},\"line_join\":{\"value\":\"bevel\"},\"line_width\":{\"value\":1},\"marker\":{\"value\":\"circle\"},\"size\":{\"value\":5.477225575051661},\"x\":{\"field\":\"Lng\"},\"y\":{\"field\":\"Lat\"}},\"id\":\"1340\",\"type\":\"Scatter\"},{\"attributes\":{\"dimension\":\"lat\"},\"id\":\"1301\",\"type\":\"MercatorTicker\"},{\"attributes\":{\"fill_alpha\":{\"value\":0.2},\"fill_color\":{\"value\":\"#30a2da\"},\"hatch_alpha\":{\"value\":0.2},\"hatch_color\":{\"value\":\"#30a2da\"},\"line_alpha\":{\"value\":0.2},\"line_color\":{\"value\":\"#30a2da\"},\"size\":{\"value\":5.477225575051661},\"x\":{\"field\":\"Lng\"},\"y\":{\"field\":\"Lat\"}},\"id\":\"1335\",\"type\":\"Scatter\"},{\"attributes\":{},\"id\":\"1284\",\"type\":\"SaveTool\"},{\"attributes\":{\"dimension\":\"lon\"},\"id\":\"1300\",\"type\":\"MercatorTickFormatter\"},{\"attributes\":{\"coordinates\":null,\"group\":null,\"text_color\":\"black\",\"text_font_size\":\"12pt\"},\"id\":\"1268\",\"type\":\"Title\"},{\"attributes\":{\"data\":{\"Lat\":{\"__ndarray__\":\"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\",\"dtype\":\"float64\",\"order\":\"little\",\"shape\":[562]},\"Lng\":{\"__ndarray__\":\"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\",\"dtype\":\"float64\",\"order\":\"little\",\"shape\":[562]}},\"selected\":{\"id\":\"1331\"},\"selection_policy\":{\"id\":\"1344\"}},\"id\":\"1330\",\"type\":\"ColumnDataSource\"},{\"attributes\":{\"source\":{\"id\":\"1330\"}},\"id\":\"1337\",\"type\":\"CDSView\"},{\"attributes\":{},\"id\":\"1285\",\"type\":\"PanTool\"},{\"attributes\":{\"zoom_on_axis\":false},\"id\":\"1286\",\"type\":\"WheelZoomTool\"},{\"attributes\":{\"match_aspect\":true,\"overlay\":{\"id\":\"1289\"}},\"id\":\"1287\",\"type\":\"BoxZoomTool\"},{\"attributes\":{},\"id\":\"1331\",\"type\":\"Selection\"}],\"root_ids\":[\"1254\"]},\"title\":\"Bokeh Application\",\"version\":\"2.4.3\"}};\n",
       "    var render_items = [{\"docid\":\"fc982470-38f0-427a-a1bd-963f46a9fc0b\",\"root_ids\":[\"1254\"],\"roots\":{\"1254\":\"e79a17b6-afb9-40d0-bc44-345cddfb1c56\"}}];\n",
       "    root.Bokeh.embed.embed_items_notebook(docs_json, render_items);\n",
       "  }\n",
       "  if (root.Bokeh !== undefined && root.Bokeh.Panel !== undefined) {\n",
       "    embed_document(root);\n",
       "  } else {\n",
       "    var attempts = 0;\n",
       "    var timer = setInterval(function(root) {\n",
       "      if (root.Bokeh !== undefined && root.Bokeh.Panel !== undefined) {\n",
       "        clearInterval(timer);\n",
       "        embed_document(root);\n",
       "      } else if (document.readyState == \"complete\") {\n",
       "        attempts++;\n",
       "        if (attempts > 200) {\n",
       "          clearInterval(timer);\n",
       "          console.log(\"Bokeh: ERROR: Unable to run BokehJS code because BokehJS library is missing\");\n",
       "        }\n",
       "      }\n",
       "    }, 25, root)\n",
       "  }\n",
       "})(window);</script>"
      ],
      "text/plain": [
       ":Overlay\n",
       "   .Tiles.I  :Tiles   [x,y]\n",
       "   .Points.I :Points   [Lng,Lat]"
      ]
     },
     "execution_count": 12,
     "metadata": {
      "application/vnd.holoviews_exec.v0+json": {
       "id": "1254"
      }
     },
     "output_type": "execute_result"
    }
   ],
   "source": [
    "# Configure the map plot_2\n",
    "map_plot_2 = city_data_df.hvplot.points(\n",
    "    \"Lng\",\n",
    "    \"Lat\",\n",
    "    geo = True,\n",
    "    tiles = \"OSM\",\n",
    "    frame_width = 700,\n",
    "    frame_height = 500\n",
    ")\n",
    "\n",
    "# Display the map plot\n",
    "map_plot_2"
   ]
  },
  {
   "cell_type": "code",
   "execution_count": 13,
   "id": "ccf7e8de",
   "metadata": {},
   "outputs": [
    {
     "data": {},
     "metadata": {},
     "output_type": "display_data"
    },
    {
     "data": {
      "application/vnd.holoviews_exec.v0+json": "",
      "text/html": [
       "<div id='1379'>\n",
       "  <div class=\"bk-root\" id=\"3aadd104-5c3a-4f57-85dc-95f91d54e7a7\" data-root-id=\"1379\"></div>\n",
       "</div>\n",
       "<script type=\"application/javascript\">(function(root) {\n",
       "  function embed_document(root) {\n",
       "    var docs_json = {\"67fe291b-4d62-478e-9bd2-21d05e88a2b9\":{\"defs\":[{\"extends\":null,\"module\":null,\"name\":\"ReactiveHTML1\",\"overrides\":[],\"properties\":[]},{\"extends\":null,\"module\":null,\"name\":\"FlexBox1\",\"overrides\":[],\"properties\":[{\"default\":\"flex-start\",\"kind\":null,\"name\":\"align_content\"},{\"default\":\"flex-start\",\"kind\":null,\"name\":\"align_items\"},{\"default\":\"row\",\"kind\":null,\"name\":\"flex_direction\"},{\"default\":\"wrap\",\"kind\":null,\"name\":\"flex_wrap\"},{\"default\":\"flex-start\",\"kind\":null,\"name\":\"justify_content\"}]},{\"extends\":null,\"module\":null,\"name\":\"GridStack1\",\"overrides\":[],\"properties\":[{\"default\":\"warn\",\"kind\":null,\"name\":\"mode\"},{\"default\":null,\"kind\":null,\"name\":\"ncols\"},{\"default\":null,\"kind\":null,\"name\":\"nrows\"},{\"default\":true,\"kind\":null,\"name\":\"allow_resize\"},{\"default\":true,\"kind\":null,\"name\":\"allow_drag\"},{\"default\":[],\"kind\":null,\"name\":\"state\"}]},{\"extends\":null,\"module\":null,\"name\":\"click1\",\"overrides\":[],\"properties\":[{\"default\":\"\",\"kind\":null,\"name\":\"terminal_output\"},{\"default\":\"\",\"kind\":null,\"name\":\"debug_name\"},{\"default\":0,\"kind\":null,\"name\":\"clears\"}]},{\"extends\":null,\"module\":null,\"name\":\"NotificationAreaBase1\",\"overrides\":[],\"properties\":[{\"default\":\"bottom-right\",\"kind\":null,\"name\":\"position\"},{\"default\":0,\"kind\":null,\"name\":\"_clear\"}]},{\"extends\":null,\"module\":null,\"name\":\"NotificationArea1\",\"overrides\":[],\"properties\":[{\"default\":[],\"kind\":null,\"name\":\"notifications\"},{\"default\":\"bottom-right\",\"kind\":null,\"name\":\"position\"},{\"default\":0,\"kind\":null,\"name\":\"_clear\"},{\"default\":[{\"background\":\"#ffc107\",\"icon\":{\"className\":\"fas fa-exclamation-triangle\",\"color\":\"white\",\"tagName\":\"i\"},\"type\":\"warning\"},{\"background\":\"#007bff\",\"icon\":{\"className\":\"fas fa-info-circle\",\"color\":\"white\",\"tagName\":\"i\"},\"type\":\"info\"}],\"kind\":null,\"name\":\"types\"}]},{\"extends\":null,\"module\":null,\"name\":\"Notification\",\"overrides\":[],\"properties\":[{\"default\":null,\"kind\":null,\"name\":\"background\"},{\"default\":3000,\"kind\":null,\"name\":\"duration\"},{\"default\":null,\"kind\":null,\"name\":\"icon\"},{\"default\":\"\",\"kind\":null,\"name\":\"message\"},{\"default\":null,\"kind\":null,\"name\":\"notification_type\"},{\"default\":false,\"kind\":null,\"name\":\"_destroyed\"}]},{\"extends\":null,\"module\":null,\"name\":\"TemplateActions1\",\"overrides\":[],\"properties\":[{\"default\":0,\"kind\":null,\"name\":\"open_modal\"},{\"default\":0,\"kind\":null,\"name\":\"close_modal\"}]},{\"extends\":null,\"module\":null,\"name\":\"MaterialTemplateActions1\",\"overrides\":[],\"properties\":[{\"default\":0,\"kind\":null,\"name\":\"open_modal\"},{\"default\":0,\"kind\":null,\"name\":\"close_modal\"}]}],\"roots\":{\"references\":[{\"attributes\":{\"margin\":[5,5,5,5],\"name\":\"HSpacer01911\",\"sizing_mode\":\"stretch_width\"},\"id\":\"1482\",\"type\":\"Spacer\"},{\"attributes\":{\"coordinates\":null,\"group\":null,\"level\":\"glyph\",\"tile_source\":{\"id\":\"1450\"}},\"id\":\"1453\",\"type\":\"TileRenderer\"},{\"attributes\":{\"fill_color\":{\"field\":\"color\",\"transform\":{\"id\":\"1455\"}},\"hatch_color\":{\"field\":\"color\",\"transform\":{\"id\":\"1455\"}},\"line_color\":{\"field\":\"color\",\"transform\":{\"id\":\"1455\"}},\"size\":{\"field\":\"size\"},\"x\":{\"field\":\"Lng\"},\"y\":{\"field\":\"Lat\"}},\"id\":\"1462\",\"type\":\"Scatter\"},{\"attributes\":{\"axis\":{\"id\":\"1405\"},\"coordinates\":null,\"dimension\":1,\"grid_line_color\":null,\"group\":null,\"ticker\":null},\"id\":\"1408\",\"type\":\"Grid\"},{\"attributes\":{\"code\":\"\\n        var projections = Bokeh.require(\\\"core/util/projections\\\");\\n        var x = special_vars.data_x\\n        var y = special_vars.data_y\\n        if (projections.wgs84_mercator.invert == null) {\\n          var coords = projections.wgs84_mercator.inverse([x, y])\\n        } else {\\n          var coords = projections.wgs84_mercator.invert(x, y)\\n        }\\n        return \\\"\\\" + (coords[1]).toFixed(4)\\n    \"},\"id\":\"1475\",\"type\":\"CustomJSHover\"},{\"attributes\":{\"coordinates\":null,\"data_source\":{\"id\":\"1456\"},\"glyph\":{\"id\":\"1459\"},\"group\":null,\"hover_glyph\":{\"id\":\"1462\"},\"muted_glyph\":{\"id\":\"1463\"},\"nonselection_glyph\":{\"id\":\"1460\"},\"selection_glyph\":{\"id\":\"1461\"},\"view\":{\"id\":\"1465\"}},\"id\":\"1464\",\"type\":\"GlyphRenderer\"},{\"attributes\":{\"click_policy\":\"mute\",\"coordinates\":null,\"group\":null,\"items\":[{\"id\":\"1473\"}],\"location\":[0,0]},\"id\":\"1472\",\"type\":\"Legend\"},{\"attributes\":{\"dimension\":\"lat\"},\"id\":\"1426\",\"type\":\"MercatorTicker\"},{\"attributes\":{\"fill_color\":{\"field\":\"color\",\"transform\":{\"id\":\"1455\"}},\"hatch_color\":{\"field\":\"color\",\"transform\":{\"id\":\"1455\"}},\"line_color\":{\"field\":\"color\",\"transform\":{\"id\":\"1455\"}},\"size\":{\"field\":\"size\"},\"x\":{\"field\":\"Lng\"},\"y\":{\"field\":\"Lat\"}},\"id\":\"1459\",\"type\":\"Scatter\"},{\"attributes\":{\"fill_alpha\":{\"value\":0.1},\"fill_color\":{\"field\":\"color\",\"transform\":{\"id\":\"1455\"}},\"hatch_alpha\":{\"value\":0.1},\"hatch_color\":{\"field\":\"color\",\"transform\":{\"id\":\"1455\"}},\"line_alpha\":{\"value\":0.1},\"line_color\":{\"field\":\"color\",\"transform\":{\"id\":\"1455\"}},\"size\":{\"field\":\"size\"},\"x\":{\"field\":\"Lng\"},\"y\":{\"field\":\"Lat\"}},\"id\":\"1460\",\"type\":\"Scatter\"},{\"attributes\":{\"callback\":null,\"formatters\":{\"$x\":{\"id\":\"1474\"},\"$y\":{\"id\":\"1475\"}},\"renderers\":[{\"id\":\"1464\"}],\"tags\":[\"hv_created\"],\"tooltips\":[[\"Lng\",\"$x{custom}\"],[\"Lat\",\"$y{custom}\"],[\"City\",\"@{City}\"],[\"Max Temp\",\"@{Max_Temp}\"]]},\"id\":\"1389\",\"type\":\"HoverTool\"},{\"attributes\":{\"dimension\":\"lon\"},\"id\":\"1424\",\"type\":\"MercatorTicker\"},{\"attributes\":{},\"id\":\"1430\",\"type\":\"AllLabels\"},{\"attributes\":{\"dimension\":\"lat\"},\"id\":\"1427\",\"type\":\"MercatorTickFormatter\"},{\"attributes\":{\"code\":\"\\n        var projections = Bokeh.require(\\\"core/util/projections\\\");\\n        var x = special_vars.data_x\\n        var y = special_vars.data_y\\n        if (projections.wgs84_mercator.invert == null) {\\n          var coords = projections.wgs84_mercator.inverse([x, y])\\n        } else {\\n          var coords = projections.wgs84_mercator.invert(x, y)\\n        }\\n        return \\\"\\\" + (coords[0]).toFixed(4)\\n    \"},\"id\":\"1474\",\"type\":\"CustomJSHover\"},{\"attributes\":{},\"id\":\"1409\",\"type\":\"SaveTool\"},{\"attributes\":{\"label\":{\"field\":\"color\"},\"renderers\":[{\"id\":\"1464\"}]},\"id\":\"1473\",\"type\":\"LegendItem\"},{\"attributes\":{},\"id\":\"1469\",\"type\":\"UnionRenderers\"},{\"attributes\":{\"source\":{\"id\":\"1456\"}},\"id\":\"1465\",\"type\":\"CDSView\"},{\"attributes\":{\"children\":[{\"id\":\"1380\"},{\"id\":\"1392\"},{\"id\":\"1482\"}],\"margin\":[0,0,0,0],\"name\":\"Row01906\",\"tags\":[\"embedded\"]},\"id\":\"1379\",\"type\":\"Row\"},{\"attributes\":{},\"id\":\"1399\",\"type\":\"LinearScale\"},{\"attributes\":{\"fill_color\":{\"field\":\"color\",\"transform\":{\"id\":\"1455\"}},\"hatch_color\":{\"field\":\"color\",\"transform\":{\"id\":\"1455\"}},\"line_color\":{\"field\":\"color\",\"transform\":{\"id\":\"1455\"}},\"size\":{\"field\":\"size\"},\"x\":{\"field\":\"Lng\"},\"y\":{\"field\":\"Lat\"}},\"id\":\"1461\",\"type\":\"Scatter\"},{\"attributes\":{},\"id\":\"1410\",\"type\":\"PanTool\"},{\"attributes\":{\"margin\":[5,5,5,5],\"name\":\"HSpacer01910\",\"sizing_mode\":\"stretch_width\"},\"id\":\"1380\",\"type\":\"Spacer\"},{\"attributes\":{\"dimension\":\"lon\"},\"id\":\"1425\",\"type\":\"MercatorTickFormatter\"},{\"attributes\":{\"zoom_on_axis\":false},\"id\":\"1411\",\"type\":\"WheelZoomTool\"},{\"attributes\":{\"tools\":[{\"id\":\"1389\"},{\"id\":\"1409\"},{\"id\":\"1410\"},{\"id\":\"1411\"},{\"id\":\"1412\"},{\"id\":\"1413\"}]},\"id\":\"1415\",\"type\":\"Toolbar\"},{\"attributes\":{\"end\":19870062.0596803,\"min_interval\":5,\"reset_end\":19870062.0596803,\"reset_start\":-12706419.020484949,\"start\":-12706419.020484949,\"tags\":[[[\"Lat\",\"Lat\",null]]]},\"id\":\"1386\",\"type\":\"Range1d\"},{\"attributes\":{},\"id\":\"1457\",\"type\":\"Selection\"},{\"attributes\":{\"match_aspect\":true,\"overlay\":{\"id\":\"1414\"}},\"id\":\"1412\",\"type\":\"BoxZoomTool\"},{\"attributes\":{\"below\":[{\"id\":\"1401\"}],\"center\":[{\"id\":\"1404\"},{\"id\":\"1408\"}],\"frame_height\":500,\"frame_width\":700,\"height\":null,\"left\":[{\"id\":\"1405\"}],\"margin\":[5,5,5,5],\"match_aspect\":true,\"min_border_bottom\":10,\"min_border_left\":10,\"min_border_right\":10,\"min_border_top\":10,\"renderers\":[{\"id\":\"1453\"},{\"id\":\"1464\"}],\"right\":[{\"id\":\"1472\"}],\"sizing_mode\":\"fixed\",\"title\":{\"id\":\"1393\"},\"toolbar\":{\"id\":\"1415\"},\"width\":null,\"x_range\":{\"id\":\"1385\"},\"x_scale\":{\"id\":\"1397\"},\"y_range\":{\"id\":\"1386\"},\"y_scale\":{\"id\":\"1399\"}},\"id\":\"1392\",\"subtype\":\"Figure\",\"type\":\"Plot\"},{\"attributes\":{\"end\":22811885.717925165,\"min_interval\":5,\"reset_end\":22811885.717925165,\"reset_start\":-22795187.794306178,\"start\":-22795187.794306178,\"tags\":[[[\"Lng\",\"Lng\",null]]]},\"id\":\"1385\",\"type\":\"Range1d\"},{\"attributes\":{\"coordinates\":null,\"group\":null,\"text_color\":\"black\",\"text_font_size\":\"12pt\"},\"id\":\"1393\",\"type\":\"Title\"},{\"attributes\":{},\"id\":\"1413\",\"type\":\"ResetTool\"},{\"attributes\":{},\"id\":\"1397\",\"type\":\"LinearScale\"},{\"attributes\":{\"bottom_units\":\"screen\",\"coordinates\":null,\"fill_alpha\":0.5,\"fill_color\":\"lightgrey\",\"group\":null,\"left_units\":\"screen\",\"level\":\"overlay\",\"line_alpha\":1.0,\"line_color\":\"black\",\"line_dash\":[4,4],\"line_width\":2,\"right_units\":\"screen\",\"syncable\":false,\"top_units\":\"screen\"},\"id\":\"1414\",\"type\":\"BoxAnnotation\"},{\"attributes\":{\"attribution\":\"&copy; <a href=\\\"https://www.openstreetmap.org/copyright\\\">OpenStreetMap</a> contributors\",\"url\":\"https://c.tile.openstreetmap.org/{Z}/{X}/{Y}.png\"},\"id\":\"1450\",\"type\":\"WMTSTileSource\"},{\"attributes\":{\"axis_label\":\"x\",\"coordinates\":null,\"formatter\":{\"id\":\"1425\"},\"group\":null,\"major_label_policy\":{\"id\":\"1430\"},\"ticker\":{\"id\":\"1424\"}},\"id\":\"1401\",\"type\":\"LinearAxis\"},{\"attributes\":{},\"id\":\"1437\",\"type\":\"AllLabels\"},{\"attributes\":{\"factors\":[\"Sabha\",\"Guerrero Negro\",\"Ponta Do Sol\",\"Mataura\",\"Ancud\",\"Port Alfred\",\"Hermanus\",\"Port Elizabeth\",\"Toora-Khem\",\"Juneau\",\"Viedma\",\"Atuona\",\"Bredasdorp\",\"Ushuaia\",\"Punta Arenas\",\"Pochutla\",\"Pueblo\",\"Bonthe\",\"Caravelas\",\"Holme\",\"Altus\",\"San Cristobal\",\"Pokosnoye\",\"Kaeo\",\"Marsaxlokk\",\"Albany\",\"Yulara\",\"Butaritari\",\"Sarkand\",\"Vaini\",\"Le Mars\",\"Paraiso\",\"Padang\",\"Hithadhoo\",\"Hobart\",\"Nemuro\",\"Khorixas\",\"Cape Town\",\"Talara\",\"Bethel\",\"Mangrol\",\"Morgan City\",\"Tuatapere\",\"Chuy\",\"Tambacounda\",\"Chiredzi\",\"Bluff\",\"Mandalgovi\",\"Chyhyryn\",\"Mount Isa\",\"Palmer\",\"Pisco\",\"Trincomalee\",\"Mahebourg\",\"Mar Del Plata\",\"Cidreira\",\"Zyryanka\",\"Griffith\",\"Kamaishi\",\"Jamestown\",\"Carman\",\"Honningsvag\",\"Tiksi\",\"Lodja\",\"Lamar\",\"Ribeira Grande\",\"Karratha\",\"Agadir\",\"Rikitea\",\"Yellowknife\",\"Dauriya\",\"Lufilufi\",\"New Norfolk\",\"Kapaa\",\"Severo-Kurilsk\",\"Lebu\",\"Roma\",\"Aguimes\",\"Busselton\",\"College\",\"Provideniya\",\"La Ronge\",\"Saskylakh\",\"Nikolskoye\",\"Ilulissat\",\"Kavieng\",\"Arraial Do Cabo\",\"Sechura\",\"Kyaikto\",\"East London\",\"Iqaluit\",\"Kwinana\",\"Sale\",\"Port Hardy\",\"Port Hedland\",\"Hamilton\",\"Les Cayes\",\"Magadan\",\"Salvador\",\"Castro\",\"Gannan\",\"Tasiilaq\",\"Hanchuan\",\"Champerico\",\"Pangody\",\"Chokurdakh\",\"Leningradskiy\",\"Kaitangata\",\"Zacatecoluca\",\"Fortuna\",\"Nauta\",\"Urengoy\",\"Georgetown\",\"Ugoofaaru\",\"Myitkyina\",\"Faanui\",\"Wilmington\",\"Thompson\",\"Qaanaaq\",\"Vila Franca Do Campo\",\"Acapulco\",\"Chapais\",\"Keningau\",\"Voznesenye\",\"Algiers\",\"Angoche\",\"Diffa\",\"Upernavik\",\"Puerto Del Rosario\",\"Torbay\",\"La Cruz\",\"Los Llanos De Aridane\",\"Athabasca\",\"Tuktoyaktuk\",\"Huarmey\",\"Vardo\",\"Auki\",\"Bembereke\",\"Kargil\",\"Dikson\",\"Gat\",\"Narsaq\",\"Takoradi\",\"Pasighat\",\"Walvis Bay\",\"Bambous Virieux\",\"Longyearbyen\",\"Bulawayo\",\"Ust-Maya\",\"Kodiak\",\"Meulaboh\",\"Flinders\",\"Pucara\",\"Coahuayana\",\"Tual\",\"Fukue\",\"Kurud\",\"Turgoyak\",\"Souillac\",\"Saldanha\",\"Kvarkeno\",\"Dwarka\",\"Sao Joao Da Barra\",\"Hasaki\",\"Porto Novo\",\"Karabash\",\"Avarua\",\"Pevek\",\"Neuquen\",\"Bella Union\",\"Barkly West\",\"Tala\",\"Pervomayskiy\",\"Saint-Philippe\",\"Batagay-Alyta\",\"Port Lincoln\",\"Yangambi\",\"Ustka\",\"Hovd\",\"Avera\",\"Fort Nelson\",\"Nizwa\",\"Ewa Beach\",\"Otradnoye\",\"Ponta Delgada\",\"Victoria Point\",\"Puerto Ayora\",\"Warrnambool\",\"Preobrazheniye\",\"Geraldton\",\"Los Banos\",\"Ndago\",\"Bengkulu\",\"Hilo\",\"Canelli\",\"Mukhen\",\"Manoharpur\",\"Richards Bay\",\"Port-Gentil\",\"Airai\",\"Pavlohrad\",\"Posse\",\"Vila\",\"Cabra\",\"Manica\",\"Luderitz\",\"Palasa\",\"Jumla\",\"Hobyo\",\"Oum Hadjer\",\"Santa Rosa\",\"Laguna\",\"Norman Wells\",\"Clyde River\",\"Jaguaribe\",\"Abu Kamal\",\"Tianjin\",\"San Luis\",\"Waipawa\",\"Olafsvik\",\"Nara\",\"Klaksvik\",\"Road Town\",\"Eureka\",\"San Rafael\",\"Genas\",\"Kemijarvi\",\"Pitimbu\",\"Nouakchott\",\"Oleksandrivka\",\"San Patricio\",\"Sydney\",\"Dhidhdhoo\",\"Imperial\",\"Vestmannaeyjar\",\"Cherskiy\",\"Kutum\",\"Port Blair\",\"Tahta\",\"Cabo San Lucas\",\"Whitehorse\",\"Cuiluan\",\"Saint-Georges\",\"Yamada\",\"Aboso\",\"Thunder Bay\",\"Kashan\",\"Pangnirtung\",\"Kloulklubed\",\"Tessalit\",\"Felanitx\",\"Topolobampo\",\"Victoria\",\"Bondo\",\"Ndola\",\"Abrau-Dyurso\",\"Batote\",\"Shar\",\"Hidalgotitlan\",\"Nanfeng\",\"Lompoc\",\"Mayor Pablo Lagerenza\",\"Camopi\",\"Inirida\",\"Dauphin\",\"Carnarvon\",\"Talnakh\",\"Rio Grande\",\"Sitka\",\"Cantagalo\",\"Hofn\",\"Carlsbad\",\"Puerto Escondido\",\"Khatanga\",\"Barrow\",\"Tolbazy\",\"Berezovyy\",\"Cervo\",\"Wiwili\",\"Buchanan\",\"Marzuq\",\"Bose\",\"San Vicente\",\"Sinnamary\",\"Rawson\",\"Lucapa\",\"Slave Lake\",\"Nhulunbuy\",\"Nanortalik\",\"Oakland\",\"Mirabad\",\"Touros\",\"Matagami\",\"Cockburn Town\",\"Awjilah\",\"Saint Andrews\",\"Anadyr\",\"Yerbogachen\",\"Raudeberg\",\"Lavrentiya\",\"Santa Fe\",\"Constitucion\",\"Buala\",\"Yumen\",\"Antalaha\",\"Isangel\",\"Illapel\",\"Aykhal\",\"Saint-Jerome\",\"Vanimo\",\"Esperance\",\"Zhigansk\",\"Togul\",\"Sao Filipe\",\"Flagstaff\",\"Antofagasta\",\"Matiri\",\"Bonfim\",\"Floriano\",\"Natal\",\"Caloundra\",\"Dawei\",\"Mayo\",\"Marfino\",\"Mizdah\",\"Murgab\",\"Bollnas\",\"Abu Zabad\",\"Tahoua\",\"Bathsheba\",\"Qandala\",\"Sakakah\",\"Minsk\",\"Monze\",\"Bahia Blanca\",\"Newport\",\"Wasseiges\",\"Vila Velha\",\"Saltillo\",\"Winslow\",\"Baykit\",\"Annau\",\"Samarai\",\"Progreso\",\"Kiama\",\"Trinidad\",\"Pacifica\",\"Oktyabrskiy\",\"Rathcoole\",\"Homer\",\"Bundaberg\",\"Najran\",\"Atambua\",\"Razole\",\"Kidal\",\"Saint-Francois\",\"Hammerfest\",\"Kupang\",\"Meiganga\",\"Seguin\",\"Innisfail\",\"Afua\",\"Bolshaya Glushitsa\",\"Alice Springs\",\"Mao\",\"Gaffney\",\"Lagoa\",\"Manokwari\",\"Mari-Turek\",\"Turukhansk\",\"Zhaodong\",\"Tralee\",\"Kieta\",\"Omsukchan\",\"Lorengau\",\"Kavaratti\",\"Kahului\",\"Alekseyevsk\",\"Do Gonbadan\",\"Tupik\",\"Tezu\",\"Villa Del Rosario\",\"Katsuura\",\"Orocue\",\"Gaomi\",\"Salalah\",\"Wakkanai\",\"Plettenberg Bay\",\"Henties Bay\",\"Makakilo City\",\"Broome\",\"Fairbanks\",\"Itapecerica\",\"Bongandanga\",\"Djambala\",\"Lages\",\"San Carlos De Bariloche\",\"Tyumentsevo\",\"Tevriz\",\"Hambantota\",\"Palana\",\"Arlit\",\"Alofi\",\"Saint George\",\"Ust-Tsilma\",\"Taywarah\",\"Aksarka\",\"Ust-Nera\",\"Aquiraz\",\"Agadez\",\"Tura\",\"Sangar\",\"Killybegs\",\"Erenhot\",\"Hongjiang\",\"Neiafu\",\"Husavik\",\"Kudat\",\"Karasjok\",\"Aklavik\",\"Wanning\",\"Bodden Town\",\"Kalmunai\",\"Kaohsiung\",\"Berlevag\",\"Chlorakas\",\"Katherine\",\"Half Moon Bay\",\"Virginia Beach\",\"Shelburne\",\"Verkh-Chebula\",\"Loudi\",\"Kaufungen\",\"Petropavlovsk-Kamchatskiy\",\"Dudinka\",\"Ambilobe\",\"Saryg-Sep\",\"Kholodnyy\",\"San Lazaro\",\"Goya\",\"Cap Malheureux\",\"Ahipara\",\"Brownwood\",\"Srednekolymsk\",\"Tazovskiy\",\"Kaa-Khem\",\"Ridgecrest\",\"Cumana\",\"Changqing\",\"Labuhan\",\"Abu Samrah\",\"Nalut\",\"Okha\",\"Burnie\",\"Banda Aceh\",\"Yatou\",\"Te Anau\",\"Douentza\",\"Asyut\",\"Naze\",\"Poum\",\"Tukums\",\"Berdigestyakh\",\"Dingle\",\"Chanute\",\"Troyes\",\"Osmena\",\"Namibe\",\"Margate\",\"Xuddur\",\"Portland\",\"Sobolevo\",\"Roald\",\"Beidao\",\"Pacific Grove\",\"Flin Flon\",\"Leh\",\"Safford\",\"Codrington\",\"Port Hawkesbury\",\"Port Macquarie\",\"Toguchin\",\"Bonga\",\"Ballina\",\"Grand Gaube\",\"Rocha\",\"Jutai\",\"Awbari\",\"Chistogorskiy\",\"Isla Vista\",\"Castanheira De Pera\",\"Bulnes\",\"Komsomolskiy\",\"Altay\",\"Ayan\",\"Quatre Cocos\",\"Stolin\",\"Ambon\",\"Drumheller\",\"Atlantic City\",\"Nantucket\",\"Cabedelo\",\"Mendi\",\"Tchollire\",\"Bethel Park\",\"Sankt Veit\",\"Grand-Santi\",\"San Policarpo\",\"Saint-Pierre\",\"Kudahuvadhoo\",\"Oyama\",\"Katangli\",\"Khasan\",\"Beringovskiy\",\"Nagato\",\"Krasnyye Tkachi\",\"Kashi\",\"Diego De Almagro\",\"Metro\",\"Hakui\",\"Presidencia Roque Saenz Pena\",\"Kamoke\",\"Muswellbrook\",\"Kinsale\",\"Cacule\",\"Manggar\",\"Dubovskoye\",\"Bandarbeyla\",\"Rockland\",\"Cozumel\",\"Dina\",\"Dengfeng\",\"Port Loko\",\"Tabory\",\"Duki\",\"Selty\",\"Seoul\",\"Lamu\",\"Edd\",\"Dekar\",\"Mehamn\",\"Miraflores\",\"Athni\",\"Lufkin\",\"Ayagoz\",\"Liku\",\"Los Lunas\",\"Okhotsk\",\"Hamina\",\"Yarmouth\",\"Roebourne\",\"Tucurui\",\"Vagur\",\"Egvekinot\",\"Staryy Krym\",\"Urumqi\",\"Krasnyy Chikoy\",\"Chara\",\"Grindavik\",\"Culpeper\",\"Teguise\",\"Thanh Hoa\"],\"palette\":[\"#1f77b3\",\"#ff7e0e\",\"#2ba02b\",\"#d62628\",\"#9367bc\",\"#8c564b\",\"#e277c1\",\"#7e7e7e\",\"#bcbc21\",\"#16bdcf\",\"#3a0182\",\"#004201\",\"#0fffa8\",\"#5d003f\",\"#bcbcff\",\"#d8afa1\",\"#b80080\",\"#004d52\",\"#6b6400\",\"#7c0100\",\"#6026ff\",\"#ffff9a\",\"#564964\",\"#8cb893\",\"#93fbff\",\"#018267\",\"#90ff00\",\"#8200a0\",\"#ac8944\",\"#5b3400\",\"#ffbff2\",\"#ff6e75\",\"#798cff\",\"#dd00ff\",\"#505646\",\"#004489\",\"#ffbf60\",\"#ff018c\",\"#bdc8cf\",\"#af97b5\",\"#b65600\",\"#017000\",\"#cd87ff\",\"#1cd646\",\"#bfebc3\",\"#7997b5\",\"#a56089\",\"#6e8956\",\"#bc7c75\",\"#8a2844\",\"#00acff\",\"#8ed4ff\",\"#4b6d77\",\"#00d4b1\",\"#9300f2\",\"#8a9500\",\"#5d5b9e\",\"#fddfba\",\"#00939e\",\"#ffdb00\",\"#00aa79\",\"#520067\",\"#000091\",\"#0a5d3d\",\"#a5e275\",\"#623b41\",\"#c6c689\",\"#ff9eb5\",\"#cd4f6b\",\"#ff07d6\",\"#8a3a05\",\"#7e3d70\",\"#ff4901\",\"#602ba5\",\"#1c00ff\",\"#e6dfff\",\"#aa3baf\",\"#d89c00\",\"#a3a39e\",\"#3f69ff\",\"#46490c\",\"#7b6985\",\"#6b978c\",\"#ff9a75\",\"#835bff\",\"#7c6b46\",\"#80b654\",\"#bc0049\",\"#fd93ff\",\"#5d0018\",\"#89d1d1\",\"#9c8cd3\",\"#da6d42\",\"#8a5700\",\"#3b5069\",\"#4b6b3b\",\"#edcfd8\",\"#cfedff\",\"#aa1500\",\"#dfff4f\",\"#ff2a56\",\"#d1499e\",\"#707cb8\",\"#598000\",\"#00e4fd\",\"#774b95\",\"#67d48c\",\"#3d3a72\",\"#ac413f\",\"#d6a166\",\"#c169cd\",\"#69595d\",\"#87aced\",\"#a0a569\",\"#d1aae6\",\"#870062\",\"#00fddb\",\"#672818\",\"#b342ff\",\"#0e59c4\",\"#168742\",\"#90d300\",\"#cd7900\",\"#f959ff\",\"#5b7466\",\"#8eaeb3\",\"#9c7c8c\",\"#4600c6\",\"#6b4d2d\",\"#a56d46\",\"#9e8972\",\"#a8afca\",\"#cd8ca7\",\"#00fd64\",\"#917900\",\"#ff62a1\",\"#f4ffd8\",\"#018cf0\",\"#13aca0\",\"#5b2d59\",\"#89859e\",\"#cfccba\",\"#d4afc4\",\"#dbdd6d\",\"#cffff4\",\"#006485\",\"#006962\",\"#a84167\",\"#2d97c4\",\"#a874ff\",\"#26ba5d\",\"#57b600\",\"#caffa7\",\"#a379aa\",\"#ffbc93\",\"#89e2c1\",\"#0fc8ff\",\"#d400c4\",\"#626d89\",\"#69858e\",\"#4b4d52\",\"#aa6067\",\"#79b5d4\",\"#2b5916\",\"#9a0024\",\"#bdd1f2\",\"#896e67\",\"#69a56b\",\"#855467\",\"#aecdba\",\"#87997e\",\"#cadb00\",\"#9a0390\",\"#ebbc1a\",\"#eb9cd1\",\"#70006e\",\"#b1a131\",\"#ca6b93\",\"#4146a3\",\"#e48c89\",\"#d44400\",\"#c68aca\",\"#b69597\",\"#d41f75\",\"#724bcc\",\"#674d00\",\"#672138\",\"#38564f\",\"#6ebaaa\",\"#853a31\",\"#a5d397\",\"#b8af8e\",\"#d8e4df\",\"#aa00df\",\"#cac1db\",\"#ffdf8c\",\"#e2524d\",\"#66696e\",\"#ff001c\",\"#522d72\",\"#4d906b\",\"#a86d11\",\"#ff9e26\",\"#5ea3af\",\"#c88556\",\"#915997\",\"#a3a1ff\",\"#fdbaba\",\"#242a87\",\"#dbe6a8\",\"#97f2a7\",\"#6793d6\",\"#ba5b3f\",\"#3a5d91\",\"#364f2f\",\"#267c95\",\"#89959a\",\"#cfb356\",\"#004664\",\"#5e5d2f\",\"#8e8e41\",\"#ac3f13\",\"#69953b\",\"#a13d85\",\"#bfb6ba\",\"#acc667\",\"#6469cf\",\"#91af00\",\"#2be2da\",\"#016e36\",\"#ff7952\",\"#42807e\",\"#4fe800\",\"#995428\",\"#5d0a00\",\"#a30057\",\"#0c8700\",\"#5982a7\",\"#ffebfb\",\"#4b6901\",\"#8775d4\",\"#e6c6ff\",\"#a5ffda\",\"#d86e77\",\"#df014b\",\"#69675b\",\"#776ba1\",\"#7e8067\",\"#594685\",\"#0000ca\",\"#7c002a\",\"#97ff72\",\"#b5e2e1\",\"#db52c8\",\"#777734\",\"#57bd8e\",\"#1f77b3\",\"#ff7e0e\",\"#2ba02b\",\"#d62628\",\"#9367bc\",\"#8c564b\",\"#e277c1\",\"#7e7e7e\",\"#bcbc21\",\"#16bdcf\",\"#3a0182\",\"#004201\",\"#0fffa8\",\"#5d003f\",\"#bcbcff\",\"#d8afa1\",\"#b80080\",\"#004d52\",\"#6b6400\",\"#7c0100\",\"#6026ff\",\"#ffff9a\",\"#564964\",\"#8cb893\",\"#93fbff\",\"#018267\",\"#90ff00\",\"#8200a0\",\"#ac8944\",\"#5b3400\",\"#ffbff2\",\"#ff6e75\",\"#798cff\",\"#dd00ff\",\"#505646\",\"#004489\",\"#ffbf60\",\"#ff018c\",\"#bdc8cf\",\"#af97b5\",\"#b65600\",\"#017000\",\"#cd87ff\",\"#1cd646\",\"#bfebc3\",\"#7997b5\",\"#a56089\",\"#6e8956\",\"#bc7c75\",\"#8a2844\",\"#00acff\",\"#8ed4ff\",\"#4b6d77\",\"#00d4b1\",\"#9300f2\",\"#8a9500\",\"#5d5b9e\",\"#fddfba\",\"#00939e\",\"#ffdb00\",\"#00aa79\",\"#520067\",\"#000091\",\"#0a5d3d\",\"#a5e275\",\"#623b41\",\"#c6c689\",\"#ff9eb5\",\"#cd4f6b\",\"#ff07d6\",\"#8a3a05\",\"#7e3d70\",\"#ff4901\",\"#602ba5\",\"#1c00ff\",\"#e6dfff\",\"#aa3baf\",\"#d89c00\",\"#a3a39e\",\"#3f69ff\",\"#46490c\",\"#7b6985\",\"#6b978c\",\"#ff9a75\",\"#835bff\",\"#7c6b46\",\"#80b654\",\"#bc0049\",\"#fd93ff\",\"#5d0018\",\"#89d1d1\",\"#9c8cd3\",\"#da6d42\",\"#8a5700\",\"#3b5069\",\"#4b6b3b\",\"#edcfd8\",\"#cfedff\",\"#aa1500\",\"#dfff4f\",\"#ff2a56\",\"#d1499e\",\"#707cb8\",\"#598000\",\"#00e4fd\",\"#774b95\",\"#67d48c\",\"#3d3a72\",\"#ac413f\",\"#d6a166\",\"#c169cd\",\"#69595d\",\"#87aced\",\"#a0a569\",\"#d1aae6\",\"#870062\",\"#00fddb\",\"#672818\",\"#b342ff\",\"#0e59c4\",\"#168742\",\"#90d300\",\"#cd7900\",\"#f959ff\",\"#5b7466\",\"#8eaeb3\",\"#9c7c8c\",\"#4600c6\",\"#6b4d2d\",\"#a56d46\",\"#9e8972\",\"#a8afca\",\"#cd8ca7\",\"#00fd64\",\"#917900\",\"#ff62a1\",\"#f4ffd8\",\"#018cf0\",\"#13aca0\",\"#5b2d59\",\"#89859e\",\"#cfccba\",\"#d4afc4\",\"#dbdd6d\",\"#cffff4\",\"#006485\",\"#006962\",\"#a84167\",\"#2d97c4\",\"#a874ff\",\"#26ba5d\",\"#57b600\",\"#caffa7\",\"#a379aa\",\"#ffbc93\",\"#89e2c1\",\"#0fc8ff\",\"#d400c4\",\"#626d89\",\"#69858e\",\"#4b4d52\",\"#aa6067\",\"#79b5d4\",\"#2b5916\",\"#9a0024\",\"#bdd1f2\",\"#896e67\",\"#69a56b\",\"#855467\",\"#aecdba\",\"#87997e\",\"#cadb00\",\"#9a0390\",\"#ebbc1a\",\"#eb9cd1\",\"#70006e\",\"#b1a131\",\"#ca6b93\",\"#4146a3\",\"#e48c89\",\"#d44400\",\"#c68aca\",\"#b69597\",\"#d41f75\",\"#724bcc\",\"#674d00\",\"#672138\",\"#38564f\",\"#6ebaaa\",\"#853a31\",\"#a5d397\",\"#b8af8e\",\"#d8e4df\",\"#aa00df\",\"#cac1db\",\"#ffdf8c\",\"#e2524d\",\"#66696e\",\"#ff001c\",\"#522d72\",\"#4d906b\",\"#a86d11\",\"#ff9e26\",\"#5ea3af\",\"#c88556\",\"#915997\",\"#a3a1ff\",\"#fdbaba\",\"#242a87\",\"#dbe6a8\",\"#97f2a7\",\"#6793d6\",\"#ba5b3f\",\"#3a5d91\",\"#364f2f\",\"#267c95\",\"#89959a\",\"#cfb356\",\"#004664\",\"#5e5d2f\",\"#8e8e41\",\"#ac3f13\",\"#69953b\",\"#a13d85\",\"#bfb6ba\",\"#acc667\",\"#6469cf\",\"#91af00\",\"#2be2da\",\"#016e36\",\"#ff7952\",\"#42807e\",\"#4fe800\",\"#995428\",\"#5d0a00\",\"#a30057\",\"#0c8700\",\"#5982a7\",\"#ffebfb\",\"#4b6901\",\"#8775d4\",\"#e6c6ff\",\"#a5ffda\",\"#d86e77\",\"#df014b\",\"#69675b\",\"#776ba1\",\"#7e8067\",\"#594685\",\"#0000ca\",\"#7c002a\",\"#97ff72\",\"#b5e2e1\",\"#db52c8\",\"#777734\",\"#57bd8e\",\"#1f77b3\",\"#ff7e0e\",\"#2ba02b\",\"#d62628\",\"#9367bc\",\"#8c564b\",\"#e277c1\",\"#7e7e7e\",\"#bcbc21\",\"#16bdcf\",\"#3a0182\",\"#004201\",\"#0fffa8\",\"#5d003f\",\"#bcbcff\",\"#d8afa1\",\"#b80080\",\"#004d52\",\"#6b6400\",\"#7c0100\",\"#6026ff\",\"#ffff9a\",\"#564964\",\"#8cb893\",\"#93fbff\",\"#018267\",\"#90ff00\",\"#8200a0\",\"#ac8944\",\"#5b3400\",\"#ffbff2\",\"#ff6e75\",\"#798cff\",\"#dd00ff\",\"#505646\",\"#004489\",\"#ffbf60\",\"#ff018c\",\"#bdc8cf\",\"#af97b5\",\"#b65600\",\"#017000\",\"#cd87ff\",\"#1cd646\",\"#bfebc3\",\"#7997b5\",\"#a56089\",\"#6e8956\",\"#bc7c75\",\"#8a2844\"]},\"id\":\"1455\",\"type\":\"CategoricalColorMapper\"},{\"attributes\":{\"axis\":{\"id\":\"1401\"},\"coordinates\":null,\"grid_line_color\":null,\"group\":null,\"ticker\":null},\"id\":\"1404\",\"type\":\"Grid\"},{\"attributes\":{\"data\":{\"City\":[\"Sabha\",\"Guerrero Negro\",\"Ponta Do Sol\",\"Mataura\",\"Ancud\",\"Port Alfred\",\"Hermanus\",\"Port Elizabeth\",\"Toora-Khem\",\"Juneau\",\"Viedma\",\"Atuona\",\"Bredasdorp\",\"Ushuaia\",\"Punta Arenas\",\"Pochutla\",\"Pueblo\",\"Bonthe\",\"Caravelas\",\"Holme\",\"Altus\",\"San Cristobal\",\"Pokosnoye\",\"Kaeo\",\"Marsaxlokk\",\"Albany\",\"Yulara\",\"Butaritari\",\"Sarkand\",\"Vaini\",\"Le Mars\",\"Paraiso\",\"Padang\",\"Hithadhoo\",\"Hobart\",\"Nemuro\",\"Khorixas\",\"Cape Town\",\"Talara\",\"Bethel\",\"Mangrol\",\"Morgan City\",\"Tuatapere\",\"Chuy\",\"Tambacounda\",\"Chiredzi\",\"Bluff\",\"Mandalgovi\",\"Chyhyryn\",\"Mount Isa\",\"Palmer\",\"Pisco\",\"Trincomalee\",\"Mahebourg\",\"Mar Del Plata\",\"Cidreira\",\"Zyryanka\",\"Griffith\",\"Kamaishi\",\"Jamestown\",\"Carman\",\"Honningsvag\",\"Tiksi\",\"Lodja\",\"Lamar\",\"Ribeira Grande\",\"Karratha\",\"Agadir\",\"Rikitea\",\"Yellowknife\",\"Dauriya\",\"Lufilufi\",\"New Norfolk\",\"Kapaa\",\"Severo-Kurilsk\",\"Lebu\",\"Roma\",\"Aguimes\",\"Busselton\",\"College\",\"Provideniya\",\"La Ronge\",\"Saskylakh\",\"Nikolskoye\",\"Ilulissat\",\"Kavieng\",\"Arraial Do Cabo\",\"Sechura\",\"Kyaikto\",\"East London\",\"Iqaluit\",\"Kwinana\",\"Sale\",\"Port Hardy\",\"Port Hedland\",\"Hamilton\",\"Les Cayes\",\"Magadan\",\"Salvador\",\"Castro\",\"Gannan\",\"Tasiilaq\",\"Hanchuan\",\"Champerico\",\"Pangody\",\"Chokurdakh\",\"Leningradskiy\",\"Kaitangata\",\"Zacatecoluca\",\"Fortuna\",\"Nauta\",\"Urengoy\",\"Georgetown\",\"Ugoofaaru\",\"Myitkyina\",\"Faanui\",\"Wilmington\",\"Thompson\",\"Qaanaaq\",\"Vila Franca Do Campo\",\"Acapulco\",\"Chapais\",\"Keningau\",\"Voznesenye\",\"Algiers\",\"Angoche\",\"Diffa\",\"Upernavik\",\"Puerto Del Rosario\",\"Torbay\",\"La Cruz\",\"Los Llanos De Aridane\",\"Athabasca\",\"Tuktoyaktuk\",\"Huarmey\",\"Vardo\",\"Auki\",\"Bembereke\",\"Kargil\",\"Dikson\",\"Gat\",\"Narsaq\",\"Takoradi\",\"Pasighat\",\"Walvis Bay\",\"Bambous Virieux\",\"Longyearbyen\",\"Bulawayo\",\"Ust-Maya\",\"Kodiak\",\"Meulaboh\",\"Flinders\",\"Pucara\",\"Coahuayana\",\"Tual\",\"Fukue\",\"Kurud\",\"Turgoyak\",\"Souillac\",\"Saldanha\",\"Kvarkeno\",\"Dwarka\",\"Sao Joao Da Barra\",\"Hasaki\",\"Porto Novo\",\"Karabash\",\"Avarua\",\"Pevek\",\"Neuquen\",\"Bella Union\",\"Barkly West\",\"Tala\",\"Pervomayskiy\",\"Saint-Philippe\",\"Batagay-Alyta\",\"Port Lincoln\",\"Yangambi\",\"Ustka\",\"Hovd\",\"Avera\",\"Fort Nelson\",\"Nizwa\",\"Ewa Beach\",\"Otradnoye\",\"Ponta Delgada\",\"Victoria Point\",\"Puerto Ayora\",\"Warrnambool\",\"Preobrazheniye\",\"Geraldton\",\"Los Banos\",\"Ndago\",\"Bengkulu\",\"Hilo\",\"Canelli\",\"Mukhen\",\"Manoharpur\",\"Richards Bay\",\"Port-Gentil\",\"Airai\",\"Pavlohrad\",\"Posse\",\"Vila\",\"Cabra\",\"Manica\",\"Luderitz\",\"Palasa\",\"Jumla\",\"Hobyo\",\"Oum Hadjer\",\"Santa Rosa\",\"Laguna\",\"Norman Wells\",\"Clyde River\",\"Jaguaribe\",\"Abu Kamal\",\"Tianjin\",\"San Luis\",\"Waipawa\",\"Olafsvik\",\"Nara\",\"Klaksvik\",\"Road Town\",\"Eureka\",\"San Rafael\",\"Genas\",\"Kemijarvi\",\"Pitimbu\",\"Nouakchott\",\"Oleksandrivka\",\"San Patricio\",\"Sydney\",\"Dhidhdhoo\",\"Imperial\",\"Vestmannaeyjar\",\"Cherskiy\",\"Kutum\",\"Port Blair\",\"Tahta\",\"Cabo San Lucas\",\"Whitehorse\",\"Cuiluan\",\"Saint-Georges\",\"Yamada\",\"Aboso\",\"Thunder Bay\",\"Kashan\",\"Pangnirtung\",\"Kloulklubed\",\"Tessalit\",\"Felanitx\",\"Topolobampo\",\"Victoria\",\"Bondo\",\"Ndola\",\"Abrau-Dyurso\",\"Batote\",\"Shar\",\"Hidalgotitlan\",\"Nanfeng\",\"Lompoc\",\"Mayor Pablo Lagerenza\",\"Camopi\",\"Inirida\",\"Dauphin\",\"Carnarvon\",\"Talnakh\",\"Rio Grande\",\"Sitka\",\"Cantagalo\",\"Hofn\",\"Carlsbad\",\"Puerto Escondido\",\"Khatanga\",\"Barrow\",\"Tolbazy\",\"Berezovyy\",\"Cervo\",\"Wiwili\",\"Buchanan\",\"Marzuq\",\"Bose\",\"San Vicente\",\"Sinnamary\",\"Rawson\",\"Lucapa\",\"Slave Lake\",\"Nhulunbuy\",\"Nanortalik\",\"Oakland\",\"Mirabad\",\"Touros\",\"Matagami\",\"Cockburn Town\",\"Awjilah\",\"Saint Andrews\",\"Anadyr\",\"Yerbogachen\",\"Raudeberg\",\"Lavrentiya\",\"Santa Fe\",\"Constitucion\",\"Buala\",\"Yumen\",\"Antalaha\",\"Isangel\",\"Illapel\",\"Aykhal\",\"Saint-Jerome\",\"Vanimo\",\"Esperance\",\"Zhigansk\",\"Togul\",\"Sao Filipe\",\"Flagstaff\",\"Antofagasta\",\"Matiri\",\"Bonfim\",\"Floriano\",\"Natal\",\"Caloundra\",\"Dawei\",\"Mayo\",\"Marfino\",\"Mizdah\",\"Murgab\",\"Bollnas\",\"Abu Zabad\",\"Tahoua\",\"Bathsheba\",\"Qandala\",\"Sakakah\",\"Minsk\",\"Monze\",\"Bahia Blanca\",\"Newport\",\"Wasseiges\",\"Vila Velha\",\"Saltillo\",\"Winslow\",\"Baykit\",\"Annau\",\"Samarai\",\"Progreso\",\"Kiama\",\"Trinidad\",\"Pacifica\",\"Oktyabrskiy\",\"Rathcoole\",\"Homer\",\"Bundaberg\",\"Najran\",\"Atambua\",\"Razole\",\"Kidal\",\"Saint-Francois\",\"Hammerfest\",\"Kupang\",\"Meiganga\",\"Seguin\",\"Innisfail\",\"Afua\",\"Bolshaya Glushitsa\",\"Alice Springs\",\"Mao\",\"Gaffney\",\"Lagoa\",\"Manokwari\",\"Mari-Turek\",\"Turukhansk\",\"Zhaodong\",\"Tralee\",\"Kieta\",\"Omsukchan\",\"Lorengau\",\"Kavaratti\",\"Kahului\",\"Alekseyevsk\",\"Do Gonbadan\",\"Tupik\",\"Tezu\",\"Villa Del Rosario\",\"Katsuura\",\"Orocue\",\"Gaomi\",\"Salalah\",\"Wakkanai\",\"Plettenberg Bay\",\"Henties Bay\",\"Makakilo City\",\"Broome\",\"Fairbanks\",\"Itapecerica\",\"Bongandanga\",\"Djambala\",\"Lages\",\"San Carlos De Bariloche\",\"Tyumentsevo\",\"Tevriz\",\"Hambantota\",\"Palana\",\"Arlit\",\"Alofi\",\"Saint George\",\"Ust-Tsilma\",\"Taywarah\",\"Aksarka\",\"Ust-Nera\",\"Aquiraz\",\"Agadez\",\"Tura\",\"Sangar\",\"Killybegs\",\"Erenhot\",\"Hongjiang\",\"Neiafu\",\"Husavik\",\"Kudat\",\"Karasjok\",\"Aklavik\",\"Wanning\",\"Bodden Town\",\"Kalmunai\",\"Kaohsiung\",\"Berlevag\",\"Chlorakas\",\"Katherine\",\"Half Moon Bay\",\"Virginia Beach\",\"Shelburne\",\"Verkh-Chebula\",\"Loudi\",\"Kaufungen\",\"Petropavlovsk-Kamchatskiy\",\"Dudinka\",\"Ambilobe\",\"Saryg-Sep\",\"Kholodnyy\",\"San Lazaro\",\"Goya\",\"Cap Malheureux\",\"Ahipara\",\"Brownwood\",\"Srednekolymsk\",\"Tazovskiy\",\"Kaa-Khem\",\"Ridgecrest\",\"Cumana\",\"Changqing\",\"Labuhan\",\"Abu Samrah\",\"Nalut\",\"Okha\",\"Burnie\",\"Banda Aceh\",\"Yatou\",\"Te Anau\",\"Douentza\",\"Asyut\",\"Naze\",\"Poum\",\"Tukums\",\"Berdigestyakh\",\"Dingle\",\"Chanute\",\"Troyes\",\"Osmena\",\"Namibe\",\"Margate\",\"Xuddur\",\"Portland\",\"Sobolevo\",\"Roald\",\"Beidao\",\"Pacific Grove\",\"Flin Flon\",\"Leh\",\"Safford\",\"Codrington\",\"Port Hawkesbury\",\"Port Macquarie\",\"Toguchin\",\"Bonga\",\"Ballina\",\"Grand Gaube\",\"Rocha\",\"Jutai\",\"Awbari\",\"Chistogorskiy\",\"Isla Vista\",\"Castanheira De Pera\",\"Bulnes\",\"Komsomolskiy\",\"Altay\",\"Ayan\",\"Quatre Cocos\",\"Stolin\",\"Ambon\",\"Drumheller\",\"Atlantic City\",\"Nantucket\",\"Cabedelo\",\"Mendi\",\"Tchollire\",\"Bethel Park\",\"Sankt Veit\",\"Grand-Santi\",\"San Policarpo\",\"Saint-Pierre\",\"Kudahuvadhoo\",\"Oyama\",\"Katangli\",\"Khasan\",\"Beringovskiy\",\"Nagato\",\"Krasnyye Tkachi\",\"Kashi\",\"Diego De Almagro\",\"Metro\",\"Hakui\",\"Presidencia Roque Saenz Pena\",\"Kamoke\",\"Muswellbrook\",\"Kinsale\",\"Cacule\",\"Manggar\",\"Dubovskoye\",\"Bandarbeyla\",\"Rockland\",\"Cozumel\",\"Dina\",\"Dengfeng\",\"Port Loko\",\"Tabory\",\"Duki\",\"Selty\",\"Seoul\",\"Lamu\",\"Edd\",\"Dekar\",\"Mehamn\",\"Miraflores\",\"Athni\",\"Lufkin\",\"Ayagoz\",\"Liku\",\"Los Lunas\",\"Okhotsk\",\"Hamina\",\"Yarmouth\",\"Roebourne\",\"Tucurui\",\"Vagur\",\"Egvekinot\",\"Staryy Krym\",\"Urumqi\",\"Krasnyy Chikoy\",\"Chara\",\"Grindavik\",\"Culpeper\",\"Teguise\",\"Thanh Hoa\"],\"Lat\":{\"__ndarray__\":\"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\",\"dtype\":\"float64\",\"order\":\"little\",\"shape\":[562]},\"Lng\":{\"__ndarray__\":\"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\",\"dtype\":\"float64\",\"order\":\"little\",\"shape\":[562]},\"Max_Temp\":{\"__ndarray__\":\"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\",\"dtype\":\"float64\",\"order\":\"little\",\"shape\":[562]},\"color\":[\"Sabha\",\"Guerrero Negro\",\"Ponta Do Sol\",\"Mataura\",\"Ancud\",\"Port Alfred\",\"Hermanus\",\"Port Elizabeth\",\"Toora-Khem\",\"Juneau\",\"Viedma\",\"Atuona\",\"Bredasdorp\",\"Ushuaia\",\"Punta Arenas\",\"Pochutla\",\"Pueblo\",\"Bonthe\",\"Caravelas\",\"Holme\",\"Altus\",\"San Cristobal\",\"Pokosnoye\",\"Kaeo\",\"Marsaxlokk\",\"Albany\",\"Yulara\",\"Butaritari\",\"Sarkand\",\"Vaini\",\"Le Mars\",\"Paraiso\",\"Padang\",\"Hithadhoo\",\"Hobart\",\"Nemuro\",\"Khorixas\",\"Cape Town\",\"Talara\",\"Bethel\",\"Mangrol\",\"Morgan City\",\"Tuatapere\",\"Chuy\",\"Tambacounda\",\"Chiredzi\",\"Bluff\",\"Mandalgovi\",\"Chyhyryn\",\"Mount Isa\",\"Palmer\",\"Pisco\",\"Trincomalee\",\"Mahebourg\",\"Mar Del Plata\",\"Cidreira\",\"Zyryanka\",\"Griffith\",\"Kamaishi\",\"Jamestown\",\"Carman\",\"Honningsvag\",\"Tiksi\",\"Lodja\",\"Lamar\",\"Ribeira Grande\",\"Karratha\",\"Agadir\",\"Rikitea\",\"Yellowknife\",\"Dauriya\",\"Lufilufi\",\"New Norfolk\",\"Kapaa\",\"Severo-Kurilsk\",\"Lebu\",\"Roma\",\"Aguimes\",\"Busselton\",\"College\",\"Provideniya\",\"La Ronge\",\"Saskylakh\",\"Nikolskoye\",\"Ilulissat\",\"Kavieng\",\"Arraial Do Cabo\",\"Sechura\",\"Kyaikto\",\"East London\",\"Iqaluit\",\"Kwinana\",\"Sale\",\"Port Hardy\",\"Port Hedland\",\"Hamilton\",\"Les Cayes\",\"Magadan\",\"Salvador\",\"Castro\",\"Gannan\",\"Tasiilaq\",\"Hanchuan\",\"Champerico\",\"Pangody\",\"Chokurdakh\",\"Leningradskiy\",\"Kaitangata\",\"Zacatecoluca\",\"Fortuna\",\"Nauta\",\"Urengoy\",\"Georgetown\",\"Ugoofaaru\",\"Myitkyina\",\"Faanui\",\"Wilmington\",\"Thompson\",\"Qaanaaq\",\"Vila Franca Do Campo\",\"Acapulco\",\"Chapais\",\"Keningau\",\"Voznesenye\",\"Algiers\",\"Angoche\",\"Diffa\",\"Upernavik\",\"Puerto Del Rosario\",\"Torbay\",\"La Cruz\",\"Los Llanos De Aridane\",\"Athabasca\",\"Tuktoyaktuk\",\"Huarmey\",\"Vardo\",\"Auki\",\"Bembereke\",\"Kargil\",\"Dikson\",\"Gat\",\"Narsaq\",\"Takoradi\",\"Pasighat\",\"Walvis Bay\",\"Bambous Virieux\",\"Longyearbyen\",\"Bulawayo\",\"Ust-Maya\",\"Kodiak\",\"Meulaboh\",\"Flinders\",\"Pucara\",\"Coahuayana\",\"Tual\",\"Fukue\",\"Kurud\",\"Turgoyak\",\"Souillac\",\"Saldanha\",\"Kvarkeno\",\"Dwarka\",\"Sao Joao Da Barra\",\"Hasaki\",\"Porto Novo\",\"Karabash\",\"Avarua\",\"Pevek\",\"Neuquen\",\"Bella Union\",\"Barkly West\",\"Tala\",\"Pervomayskiy\",\"Saint-Philippe\",\"Batagay-Alyta\",\"Port Lincoln\",\"Yangambi\",\"Ustka\",\"Hovd\",\"Avera\",\"Fort Nelson\",\"Nizwa\",\"Ewa Beach\",\"Otradnoye\",\"Ponta Delgada\",\"Victoria Point\",\"Puerto Ayora\",\"Warrnambool\",\"Preobrazheniye\",\"Geraldton\",\"Los Banos\",\"Ndago\",\"Bengkulu\",\"Hilo\",\"Canelli\",\"Mukhen\",\"Manoharpur\",\"Richards Bay\",\"Port-Gentil\",\"Airai\",\"Pavlohrad\",\"Posse\",\"Vila\",\"Cabra\",\"Manica\",\"Luderitz\",\"Palasa\",\"Jumla\",\"Hobyo\",\"Oum Hadjer\",\"Santa Rosa\",\"Laguna\",\"Norman Wells\",\"Clyde River\",\"Jaguaribe\",\"Abu Kamal\",\"Tianjin\",\"San Luis\",\"Waipawa\",\"Olafsvik\",\"Nara\",\"Klaksvik\",\"Road Town\",\"Eureka\",\"San Rafael\",\"Genas\",\"Kemijarvi\",\"Pitimbu\",\"Nouakchott\",\"Oleksandrivka\",\"San Patricio\",\"Sydney\",\"Dhidhdhoo\",\"Imperial\",\"Vestmannaeyjar\",\"Cherskiy\",\"Kutum\",\"Port Blair\",\"Tahta\",\"Cabo San Lucas\",\"Whitehorse\",\"Cuiluan\",\"Saint-Georges\",\"Yamada\",\"Aboso\",\"Thunder Bay\",\"Kashan\",\"Pangnirtung\",\"Kloulklubed\",\"Tessalit\",\"Felanitx\",\"Topolobampo\",\"Victoria\",\"Bondo\",\"Ndola\",\"Abrau-Dyurso\",\"Batote\",\"Shar\",\"Hidalgotitlan\",\"Nanfeng\",\"Lompoc\",\"Mayor Pablo Lagerenza\",\"Camopi\",\"Inirida\",\"Dauphin\",\"Carnarvon\",\"Talnakh\",\"Rio Grande\",\"Sitka\",\"Cantagalo\",\"Hofn\",\"Carlsbad\",\"Puerto Escondido\",\"Khatanga\",\"Barrow\",\"Tolbazy\",\"Berezovyy\",\"Cervo\",\"Wiwili\",\"Buchanan\",\"Marzuq\",\"Bose\",\"San Vicente\",\"Sinnamary\",\"Rawson\",\"Lucapa\",\"Slave Lake\",\"Nhulunbuy\",\"Nanortalik\",\"Oakland\",\"Mirabad\",\"Touros\",\"Matagami\",\"Cockburn Town\",\"Awjilah\",\"Saint Andrews\",\"Anadyr\",\"Yerbogachen\",\"Raudeberg\",\"Lavrentiya\",\"Santa Fe\",\"Constitucion\",\"Buala\",\"Yumen\",\"Antalaha\",\"Isangel\",\"Illapel\",\"Aykhal\",\"Saint-Jerome\",\"Vanimo\",\"Esperance\",\"Zhigansk\",\"Togul\",\"Sao Filipe\",\"Flagstaff\",\"Antofagasta\",\"Matiri\",\"Bonfim\",\"Floriano\",\"Natal\",\"Caloundra\",\"Dawei\",\"Mayo\",\"Marfino\",\"Mizdah\",\"Murgab\",\"Bollnas\",\"Abu Zabad\",\"Tahoua\",\"Bathsheba\",\"Qandala\",\"Sakakah\",\"Minsk\",\"Monze\",\"Bahia Blanca\",\"Newport\",\"Wasseiges\",\"Vila Velha\",\"Saltillo\",\"Winslow\",\"Baykit\",\"Annau\",\"Samarai\",\"Progreso\",\"Kiama\",\"Trinidad\",\"Pacifica\",\"Oktyabrskiy\",\"Rathcoole\",\"Homer\",\"Bundaberg\",\"Najran\",\"Atambua\",\"Razole\",\"Kidal\",\"Saint-Francois\",\"Hammerfest\",\"Kupang\",\"Meiganga\",\"Seguin\",\"Innisfail\",\"Afua\",\"Bolshaya Glushitsa\",\"Alice Springs\",\"Mao\",\"Gaffney\",\"Lagoa\",\"Manokwari\",\"Mari-Turek\",\"Turukhansk\",\"Zhaodong\",\"Tralee\",\"Kieta\",\"Omsukchan\",\"Lorengau\",\"Kavaratti\",\"Kahului\",\"Alekseyevsk\",\"Do Gonbadan\",\"Tupik\",\"Tezu\",\"Villa Del Rosario\",\"Katsuura\",\"Orocue\",\"Gaomi\",\"Salalah\",\"Wakkanai\",\"Plettenberg Bay\",\"Henties Bay\",\"Makakilo City\",\"Broome\",\"Fairbanks\",\"Itapecerica\",\"Bongandanga\",\"Djambala\",\"Lages\",\"San Carlos De Bariloche\",\"Tyumentsevo\",\"Tevriz\",\"Hambantota\",\"Palana\",\"Arlit\",\"Alofi\",\"Saint George\",\"Ust-Tsilma\",\"Taywarah\",\"Aksarka\",\"Ust-Nera\",\"Aquiraz\",\"Agadez\",\"Tura\",\"Sangar\",\"Killybegs\",\"Erenhot\",\"Hongjiang\",\"Neiafu\",\"Husavik\",\"Kudat\",\"Karasjok\",\"Aklavik\",\"Wanning\",\"Bodden Town\",\"Kalmunai\",\"Kaohsiung\",\"Berlevag\",\"Chlorakas\",\"Katherine\",\"Half Moon Bay\",\"Virginia Beach\",\"Shelburne\",\"Verkh-Chebula\",\"Loudi\",\"Kaufungen\",\"Petropavlovsk-Kamchatskiy\",\"Dudinka\",\"Ambilobe\",\"Saryg-Sep\",\"Kholodnyy\",\"San Lazaro\",\"Goya\",\"Cap Malheureux\",\"Ahipara\",\"Brownwood\",\"Srednekolymsk\",\"Tazovskiy\",\"Kaa-Khem\",\"Ridgecrest\",\"Cumana\",\"Changqing\",\"Labuhan\",\"Abu Samrah\",\"Nalut\",\"Okha\",\"Burnie\",\"Banda Aceh\",\"Yatou\",\"Te Anau\",\"Douentza\",\"Asyut\",\"Naze\",\"Poum\",\"Tukums\",\"Berdigestyakh\",\"Dingle\",\"Chanute\",\"Troyes\",\"Osmena\",\"Namibe\",\"Margate\",\"Xuddur\",\"Portland\",\"Sobolevo\",\"Roald\",\"Beidao\",\"Pacific Grove\",\"Flin Flon\",\"Leh\",\"Safford\",\"Codrington\",\"Port Hawkesbury\",\"Port Macquarie\",\"Toguchin\",\"Bonga\",\"Ballina\",\"Grand Gaube\",\"Rocha\",\"Jutai\",\"Awbari\",\"Chistogorskiy\",\"Isla Vista\",\"Castanheira De Pera\",\"Bulnes\",\"Komsomolskiy\",\"Altay\",\"Ayan\",\"Quatre Cocos\",\"Stolin\",\"Ambon\",\"Drumheller\",\"Atlantic City\",\"Nantucket\",\"Cabedelo\",\"Mendi\",\"Tchollire\",\"Bethel Park\",\"Sankt Veit\",\"Grand-Santi\",\"San Policarpo\",\"Saint-Pierre\",\"Kudahuvadhoo\",\"Oyama\",\"Katangli\",\"Khasan\",\"Beringovskiy\",\"Nagato\",\"Krasnyye Tkachi\",\"Kashi\",\"Diego De Almagro\",\"Metro\",\"Hakui\",\"Presidencia Roque Saenz Pena\",\"Kamoke\",\"Muswellbrook\",\"Kinsale\",\"Cacule\",\"Manggar\",\"Dubovskoye\",\"Bandarbeyla\",\"Rockland\",\"Cozumel\",\"Dina\",\"Dengfeng\",\"Port Loko\",\"Tabory\",\"Duki\",\"Selty\",\"Seoul\",\"Lamu\",\"Edd\",\"Dekar\",\"Mehamn\",\"Miraflores\",\"Athni\",\"Lufkin\",\"Ayagoz\",\"Liku\",\"Los Lunas\",\"Okhotsk\",\"Hamina\",\"Yarmouth\",\"Roebourne\",\"Tucurui\",\"Vagur\",\"Egvekinot\",\"Staryy Krym\",\"Urumqi\",\"Krasnyy Chikoy\",\"Chara\",\"Grindavik\",\"Culpeper\",\"Teguise\",\"Thanh Hoa\"],\"size\":{\"__ndarray__\":\"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\",\"dtype\":\"float64\",\"order\":\"little\",\"shape\":[562]}},\"selected\":{\"id\":\"1457\"},\"selection_policy\":{\"id\":\"1469\"}},\"id\":\"1456\",\"type\":\"ColumnDataSource\"},{\"attributes\":{\"fill_alpha\":{\"value\":0.2},\"fill_color\":{\"field\":\"color\",\"transform\":{\"id\":\"1455\"}},\"hatch_alpha\":{\"value\":0.2},\"hatch_color\":{\"field\":\"color\",\"transform\":{\"id\":\"1455\"}},\"line_alpha\":{\"value\":0.2},\"line_color\":{\"field\":\"color\",\"transform\":{\"id\":\"1455\"}},\"size\":{\"field\":\"size\"},\"x\":{\"field\":\"Lng\"},\"y\":{\"field\":\"Lat\"}},\"id\":\"1463\",\"type\":\"Scatter\"},{\"attributes\":{\"axis_label\":\"y\",\"coordinates\":null,\"formatter\":{\"id\":\"1427\"},\"group\":null,\"major_label_policy\":{\"id\":\"1437\"},\"ticker\":{\"id\":\"1426\"}},\"id\":\"1405\",\"type\":\"LinearAxis\"}],\"root_ids\":[\"1379\"]},\"title\":\"Bokeh Application\",\"version\":\"2.4.3\"}};\n",
       "    var render_items = [{\"docid\":\"67fe291b-4d62-478e-9bd2-21d05e88a2b9\",\"root_ids\":[\"1379\"],\"roots\":{\"1379\":\"3aadd104-5c3a-4f57-85dc-95f91d54e7a7\"}}];\n",
       "    root.Bokeh.embed.embed_items_notebook(docs_json, render_items);\n",
       "  }\n",
       "  if (root.Bokeh !== undefined && root.Bokeh.Panel !== undefined) {\n",
       "    embed_document(root);\n",
       "  } else {\n",
       "    var attempts = 0;\n",
       "    var timer = setInterval(function(root) {\n",
       "      if (root.Bokeh !== undefined && root.Bokeh.Panel !== undefined) {\n",
       "        clearInterval(timer);\n",
       "        embed_document(root);\n",
       "      } else if (document.readyState == \"complete\") {\n",
       "        attempts++;\n",
       "        if (attempts > 200) {\n",
       "          clearInterval(timer);\n",
       "          console.log(\"Bokeh: ERROR: Unable to run BokehJS code because BokehJS library is missing\");\n",
       "        }\n",
       "      }\n",
       "    }, 25, root)\n",
       "  }\n",
       "})(window);</script>"
      ],
      "text/plain": [
       ":Overlay\n",
       "   .Tiles.I  :Tiles   [x,y]\n",
       "   .Points.I :Points   [Lng,Lat]   (City,Max Temp)"
      ]
     },
     "execution_count": 13,
     "metadata": {
      "application/vnd.holoviews_exec.v0+json": {
       "id": "1379"
      }
     },
     "output_type": "execute_result"
    }
   ],
   "source": [
    "# Configure the map plot_3\n",
    "map_plot_3 = city_data_df.hvplot.points(\n",
    "    \"Lng\",\n",
    "    \"Lat\",\n",
    "    geo = True,\n",
    "    tiles = \"OSM\",\n",
    "    frame_width = 700,\n",
    "    frame_height = 500,\n",
    "    size = \"Max Temp\",\n",
    "    scale = 0.5,\n",
    "    color = \"City\"\n",
    ")\n",
    "\n",
    "# Display the map plot\n",
    "map_plot_3"
   ]
  },
  {
   "cell_type": "code",
   "execution_count": 14,
   "id": "6e40bd19",
   "metadata": {},
   "outputs": [
    {
     "data": {},
     "metadata": {},
     "output_type": "display_data"
    },
    {
     "data": {
      "application/vnd.holoviews_exec.v0+json": "",
      "text/html": [
       "<div id='1514'>\n",
       "  <div class=\"bk-root\" id=\"d31f6ace-1e51-4950-ace7-84868d31abe4\" data-root-id=\"1514\"></div>\n",
       "</div>\n",
       "<script type=\"application/javascript\">(function(root) {\n",
       "  function embed_document(root) {\n",
       "    var docs_json = {\"daaa4040-7944-4371-bf51-6b2b217cf745\":{\"defs\":[{\"extends\":null,\"module\":null,\"name\":\"ReactiveHTML1\",\"overrides\":[],\"properties\":[]},{\"extends\":null,\"module\":null,\"name\":\"FlexBox1\",\"overrides\":[],\"properties\":[{\"default\":\"flex-start\",\"kind\":null,\"name\":\"align_content\"},{\"default\":\"flex-start\",\"kind\":null,\"name\":\"align_items\"},{\"default\":\"row\",\"kind\":null,\"name\":\"flex_direction\"},{\"default\":\"wrap\",\"kind\":null,\"name\":\"flex_wrap\"},{\"default\":\"flex-start\",\"kind\":null,\"name\":\"justify_content\"}]},{\"extends\":null,\"module\":null,\"name\":\"GridStack1\",\"overrides\":[],\"properties\":[{\"default\":\"warn\",\"kind\":null,\"name\":\"mode\"},{\"default\":null,\"kind\":null,\"name\":\"ncols\"},{\"default\":null,\"kind\":null,\"name\":\"nrows\"},{\"default\":true,\"kind\":null,\"name\":\"allow_resize\"},{\"default\":true,\"kind\":null,\"name\":\"allow_drag\"},{\"default\":[],\"kind\":null,\"name\":\"state\"}]},{\"extends\":null,\"module\":null,\"name\":\"click1\",\"overrides\":[],\"properties\":[{\"default\":\"\",\"kind\":null,\"name\":\"terminal_output\"},{\"default\":\"\",\"kind\":null,\"name\":\"debug_name\"},{\"default\":0,\"kind\":null,\"name\":\"clears\"}]},{\"extends\":null,\"module\":null,\"name\":\"NotificationAreaBase1\",\"overrides\":[],\"properties\":[{\"default\":\"bottom-right\",\"kind\":null,\"name\":\"position\"},{\"default\":0,\"kind\":null,\"name\":\"_clear\"}]},{\"extends\":null,\"module\":null,\"name\":\"NotificationArea1\",\"overrides\":[],\"properties\":[{\"default\":[],\"kind\":null,\"name\":\"notifications\"},{\"default\":\"bottom-right\",\"kind\":null,\"name\":\"position\"},{\"default\":0,\"kind\":null,\"name\":\"_clear\"},{\"default\":[{\"background\":\"#ffc107\",\"icon\":{\"className\":\"fas fa-exclamation-triangle\",\"color\":\"white\",\"tagName\":\"i\"},\"type\":\"warning\"},{\"background\":\"#007bff\",\"icon\":{\"className\":\"fas fa-info-circle\",\"color\":\"white\",\"tagName\":\"i\"},\"type\":\"info\"}],\"kind\":null,\"name\":\"types\"}]},{\"extends\":null,\"module\":null,\"name\":\"Notification\",\"overrides\":[],\"properties\":[{\"default\":null,\"kind\":null,\"name\":\"background\"},{\"default\":3000,\"kind\":null,\"name\":\"duration\"},{\"default\":null,\"kind\":null,\"name\":\"icon\"},{\"default\":\"\",\"kind\":null,\"name\":\"message\"},{\"default\":null,\"kind\":null,\"name\":\"notification_type\"},{\"default\":false,\"kind\":null,\"name\":\"_destroyed\"}]},{\"extends\":null,\"module\":null,\"name\":\"TemplateActions1\",\"overrides\":[],\"properties\":[{\"default\":0,\"kind\":null,\"name\":\"open_modal\"},{\"default\":0,\"kind\":null,\"name\":\"close_modal\"}]},{\"extends\":null,\"module\":null,\"name\":\"MaterialTemplateActions1\",\"overrides\":[],\"properties\":[{\"default\":0,\"kind\":null,\"name\":\"open_modal\"},{\"default\":0,\"kind\":null,\"name\":\"close_modal\"}]}],\"roots\":{\"references\":[{\"attributes\":{},\"id\":\"1565\",\"type\":\"AllLabels\"},{\"attributes\":{\"below\":[{\"id\":\"1536\"}],\"center\":[{\"id\":\"1539\"},{\"id\":\"1543\"}],\"frame_height\":500,\"frame_width\":700,\"height\":null,\"left\":[{\"id\":\"1540\"}],\"margin\":[5,5,5,5],\"match_aspect\":true,\"min_border_bottom\":10,\"min_border_left\":10,\"min_border_right\":10,\"min_border_top\":10,\"renderers\":[{\"id\":\"1588\"},{\"id\":\"1599\"}],\"right\":[{\"id\":\"1607\"}],\"sizing_mode\":\"fixed\",\"title\":{\"id\":\"1528\"},\"toolbar\":{\"id\":\"1550\"},\"width\":null,\"x_range\":{\"id\":\"1520\"},\"x_scale\":{\"id\":\"1532\"},\"y_range\":{\"id\":\"1521\"},\"y_scale\":{\"id\":\"1534\"}},\"id\":\"1527\",\"subtype\":\"Figure\",\"type\":\"Plot\"},{\"attributes\":{},\"id\":\"1544\",\"type\":\"SaveTool\"},{\"attributes\":{\"label\":{\"field\":\"color\"},\"renderers\":[{\"id\":\"1599\"}]},\"id\":\"1608\",\"type\":\"LegendItem\"},{\"attributes\":{\"click_policy\":\"mute\",\"coordinates\":null,\"group\":null,\"items\":[{\"id\":\"1608\"}],\"location\":[0,0]},\"id\":\"1607\",\"type\":\"Legend\"},{\"attributes\":{},\"id\":\"1545\",\"type\":\"PanTool\"},{\"attributes\":{\"fill_color\":{\"field\":\"color\",\"transform\":{\"id\":\"1590\"}},\"hatch_color\":{\"field\":\"color\",\"transform\":{\"id\":\"1590\"}},\"line_color\":{\"field\":\"color\",\"transform\":{\"id\":\"1590\"}},\"size\":{\"field\":\"size\"},\"x\":{\"field\":\"Lng\"},\"y\":{\"field\":\"Lat\"}},\"id\":\"1597\",\"type\":\"Scatter\"},{\"attributes\":{\"attribution\":\"&copy; <a href=\\\"http://downloads.esri.com/ArcGISOnline/docs/tou_summary.pdf\\\">Esri</a>, NatGeo, Garmin, HERE, UNEP-WCMC, USGS, NASA, ESA, METI, NRCAN, GEBCO, NOAA, Increment P\",\"url\":\"https://server.arcgisonline.com/ArcGIS/rest/services/NatGeo_World_Map/MapServer/tile/{Z}/{Y}/{X}\"},\"id\":\"1585\",\"type\":\"WMTSTileSource\"},{\"attributes\":{},\"id\":\"1534\",\"type\":\"LinearScale\"},{\"attributes\":{\"zoom_on_axis\":false},\"id\":\"1546\",\"type\":\"WheelZoomTool\"},{\"attributes\":{\"end\":22811885.717925165,\"min_interval\":5,\"reset_end\":22811885.717925165,\"reset_start\":-22795187.794306178,\"start\":-22795187.794306178,\"tags\":[[[\"Lng\",\"Lng\",null]]]},\"id\":\"1520\",\"type\":\"Range1d\"},{\"attributes\":{\"fill_alpha\":{\"value\":0.1},\"fill_color\":{\"field\":\"color\",\"transform\":{\"id\":\"1590\"}},\"hatch_alpha\":{\"value\":0.1},\"hatch_color\":{\"field\":\"color\",\"transform\":{\"id\":\"1590\"}},\"line_alpha\":{\"value\":0.1},\"line_color\":{\"field\":\"color\",\"transform\":{\"id\":\"1590\"}},\"size\":{\"field\":\"size\"},\"x\":{\"field\":\"Lng\"},\"y\":{\"field\":\"Lat\"}},\"id\":\"1595\",\"type\":\"Scatter\"},{\"attributes\":{\"match_aspect\":true,\"overlay\":{\"id\":\"1549\"}},\"id\":\"1547\",\"type\":\"BoxZoomTool\"},{\"attributes\":{\"dimension\":\"lat\"},\"id\":\"1561\",\"type\":\"MercatorTicker\"},{\"attributes\":{\"coordinates\":null,\"group\":null,\"text_color\":\"black\",\"text_font_size\":\"12pt\"},\"id\":\"1528\",\"type\":\"Title\"},{\"attributes\":{},\"id\":\"1532\",\"type\":\"LinearScale\"},{\"attributes\":{},\"id\":\"1548\",\"type\":\"ResetTool\"},{\"attributes\":{\"fill_alpha\":{\"value\":0.2},\"fill_color\":{\"field\":\"color\",\"transform\":{\"id\":\"1590\"}},\"hatch_alpha\":{\"value\":0.2},\"hatch_color\":{\"field\":\"color\",\"transform\":{\"id\":\"1590\"}},\"line_alpha\":{\"value\":0.2},\"line_color\":{\"field\":\"color\",\"transform\":{\"id\":\"1590\"}},\"size\":{\"field\":\"size\"},\"x\":{\"field\":\"Lng\"},\"y\":{\"field\":\"Lat\"}},\"id\":\"1598\",\"type\":\"Scatter\"},{\"attributes\":{\"children\":[{\"id\":\"1515\"},{\"id\":\"1527\"},{\"id\":\"1617\"}],\"margin\":[0,0,0,0],\"name\":\"Row02044\",\"tags\":[\"embedded\"]},\"id\":\"1514\",\"type\":\"Row\"},{\"attributes\":{\"fill_color\":{\"field\":\"color\",\"transform\":{\"id\":\"1590\"}},\"hatch_color\":{\"field\":\"color\",\"transform\":{\"id\":\"1590\"}},\"line_color\":{\"field\":\"color\",\"transform\":{\"id\":\"1590\"}},\"size\":{\"field\":\"size\"},\"x\":{\"field\":\"Lng\"},\"y\":{\"field\":\"Lat\"}},\"id\":\"1596\",\"type\":\"Scatter\"},{\"attributes\":{\"margin\":[5,5,5,5],\"name\":\"HSpacer02048\",\"sizing_mode\":\"stretch_width\"},\"id\":\"1515\",\"type\":\"Spacer\"},{\"attributes\":{\"factors\":[\"Sabha\",\"Guerrero Negro\",\"Ponta Do Sol\",\"Mataura\",\"Ancud\",\"Port Alfred\",\"Hermanus\",\"Port Elizabeth\",\"Toora-Khem\",\"Juneau\",\"Viedma\",\"Atuona\",\"Bredasdorp\",\"Ushuaia\",\"Punta Arenas\",\"Pochutla\",\"Pueblo\",\"Bonthe\",\"Caravelas\",\"Holme\",\"Altus\",\"San Cristobal\",\"Pokosnoye\",\"Kaeo\",\"Marsaxlokk\",\"Albany\",\"Yulara\",\"Butaritari\",\"Sarkand\",\"Vaini\",\"Le Mars\",\"Paraiso\",\"Padang\",\"Hithadhoo\",\"Hobart\",\"Nemuro\",\"Khorixas\",\"Cape Town\",\"Talara\",\"Bethel\",\"Mangrol\",\"Morgan City\",\"Tuatapere\",\"Chuy\",\"Tambacounda\",\"Chiredzi\",\"Bluff\",\"Mandalgovi\",\"Chyhyryn\",\"Mount Isa\",\"Palmer\",\"Pisco\",\"Trincomalee\",\"Mahebourg\",\"Mar Del Plata\",\"Cidreira\",\"Zyryanka\",\"Griffith\",\"Kamaishi\",\"Jamestown\",\"Carman\",\"Honningsvag\",\"Tiksi\",\"Lodja\",\"Lamar\",\"Ribeira Grande\",\"Karratha\",\"Agadir\",\"Rikitea\",\"Yellowknife\",\"Dauriya\",\"Lufilufi\",\"New Norfolk\",\"Kapaa\",\"Severo-Kurilsk\",\"Lebu\",\"Roma\",\"Aguimes\",\"Busselton\",\"College\",\"Provideniya\",\"La Ronge\",\"Saskylakh\",\"Nikolskoye\",\"Ilulissat\",\"Kavieng\",\"Arraial Do Cabo\",\"Sechura\",\"Kyaikto\",\"East London\",\"Iqaluit\",\"Kwinana\",\"Sale\",\"Port Hardy\",\"Port Hedland\",\"Hamilton\",\"Les Cayes\",\"Magadan\",\"Salvador\",\"Castro\",\"Gannan\",\"Tasiilaq\",\"Hanchuan\",\"Champerico\",\"Pangody\",\"Chokurdakh\",\"Leningradskiy\",\"Kaitangata\",\"Zacatecoluca\",\"Fortuna\",\"Nauta\",\"Urengoy\",\"Georgetown\",\"Ugoofaaru\",\"Myitkyina\",\"Faanui\",\"Wilmington\",\"Thompson\",\"Qaanaaq\",\"Vila Franca Do Campo\",\"Acapulco\",\"Chapais\",\"Keningau\",\"Voznesenye\",\"Algiers\",\"Angoche\",\"Diffa\",\"Upernavik\",\"Puerto Del Rosario\",\"Torbay\",\"La Cruz\",\"Los Llanos De Aridane\",\"Athabasca\",\"Tuktoyaktuk\",\"Huarmey\",\"Vardo\",\"Auki\",\"Bembereke\",\"Kargil\",\"Dikson\",\"Gat\",\"Narsaq\",\"Takoradi\",\"Pasighat\",\"Walvis Bay\",\"Bambous Virieux\",\"Longyearbyen\",\"Bulawayo\",\"Ust-Maya\",\"Kodiak\",\"Meulaboh\",\"Flinders\",\"Pucara\",\"Coahuayana\",\"Tual\",\"Fukue\",\"Kurud\",\"Turgoyak\",\"Souillac\",\"Saldanha\",\"Kvarkeno\",\"Dwarka\",\"Sao Joao Da Barra\",\"Hasaki\",\"Porto Novo\",\"Karabash\",\"Avarua\",\"Pevek\",\"Neuquen\",\"Bella Union\",\"Barkly West\",\"Tala\",\"Pervomayskiy\",\"Saint-Philippe\",\"Batagay-Alyta\",\"Port Lincoln\",\"Yangambi\",\"Ustka\",\"Hovd\",\"Avera\",\"Fort Nelson\",\"Nizwa\",\"Ewa Beach\",\"Otradnoye\",\"Ponta Delgada\",\"Victoria Point\",\"Puerto Ayora\",\"Warrnambool\",\"Preobrazheniye\",\"Geraldton\",\"Los Banos\",\"Ndago\",\"Bengkulu\",\"Hilo\",\"Canelli\",\"Mukhen\",\"Manoharpur\",\"Richards Bay\",\"Port-Gentil\",\"Airai\",\"Pavlohrad\",\"Posse\",\"Vila\",\"Cabra\",\"Manica\",\"Luderitz\",\"Palasa\",\"Jumla\",\"Hobyo\",\"Oum Hadjer\",\"Santa Rosa\",\"Laguna\",\"Norman Wells\",\"Clyde River\",\"Jaguaribe\",\"Abu Kamal\",\"Tianjin\",\"San Luis\",\"Waipawa\",\"Olafsvik\",\"Nara\",\"Klaksvik\",\"Road Town\",\"Eureka\",\"San Rafael\",\"Genas\",\"Kemijarvi\",\"Pitimbu\",\"Nouakchott\",\"Oleksandrivka\",\"San Patricio\",\"Sydney\",\"Dhidhdhoo\",\"Imperial\",\"Vestmannaeyjar\",\"Cherskiy\",\"Kutum\",\"Port Blair\",\"Tahta\",\"Cabo San Lucas\",\"Whitehorse\",\"Cuiluan\",\"Saint-Georges\",\"Yamada\",\"Aboso\",\"Thunder Bay\",\"Kashan\",\"Pangnirtung\",\"Kloulklubed\",\"Tessalit\",\"Felanitx\",\"Topolobampo\",\"Victoria\",\"Bondo\",\"Ndola\",\"Abrau-Dyurso\",\"Batote\",\"Shar\",\"Hidalgotitlan\",\"Nanfeng\",\"Lompoc\",\"Mayor Pablo Lagerenza\",\"Camopi\",\"Inirida\",\"Dauphin\",\"Carnarvon\",\"Talnakh\",\"Rio Grande\",\"Sitka\",\"Cantagalo\",\"Hofn\",\"Carlsbad\",\"Puerto Escondido\",\"Khatanga\",\"Barrow\",\"Tolbazy\",\"Berezovyy\",\"Cervo\",\"Wiwili\",\"Buchanan\",\"Marzuq\",\"Bose\",\"San Vicente\",\"Sinnamary\",\"Rawson\",\"Lucapa\",\"Slave Lake\",\"Nhulunbuy\",\"Nanortalik\",\"Oakland\",\"Mirabad\",\"Touros\",\"Matagami\",\"Cockburn Town\",\"Awjilah\",\"Saint Andrews\",\"Anadyr\",\"Yerbogachen\",\"Raudeberg\",\"Lavrentiya\",\"Santa Fe\",\"Constitucion\",\"Buala\",\"Yumen\",\"Antalaha\",\"Isangel\",\"Illapel\",\"Aykhal\",\"Saint-Jerome\",\"Vanimo\",\"Esperance\",\"Zhigansk\",\"Togul\",\"Sao Filipe\",\"Flagstaff\",\"Antofagasta\",\"Matiri\",\"Bonfim\",\"Floriano\",\"Natal\",\"Caloundra\",\"Dawei\",\"Mayo\",\"Marfino\",\"Mizdah\",\"Murgab\",\"Bollnas\",\"Abu Zabad\",\"Tahoua\",\"Bathsheba\",\"Qandala\",\"Sakakah\",\"Minsk\",\"Monze\",\"Bahia Blanca\",\"Newport\",\"Wasseiges\",\"Vila Velha\",\"Saltillo\",\"Winslow\",\"Baykit\",\"Annau\",\"Samarai\",\"Progreso\",\"Kiama\",\"Trinidad\",\"Pacifica\",\"Oktyabrskiy\",\"Rathcoole\",\"Homer\",\"Bundaberg\",\"Najran\",\"Atambua\",\"Razole\",\"Kidal\",\"Saint-Francois\",\"Hammerfest\",\"Kupang\",\"Meiganga\",\"Seguin\",\"Innisfail\",\"Afua\",\"Bolshaya Glushitsa\",\"Alice Springs\",\"Mao\",\"Gaffney\",\"Lagoa\",\"Manokwari\",\"Mari-Turek\",\"Turukhansk\",\"Zhaodong\",\"Tralee\",\"Kieta\",\"Omsukchan\",\"Lorengau\",\"Kavaratti\",\"Kahului\",\"Alekseyevsk\",\"Do Gonbadan\",\"Tupik\",\"Tezu\",\"Villa Del Rosario\",\"Katsuura\",\"Orocue\",\"Gaomi\",\"Salalah\",\"Wakkanai\",\"Plettenberg Bay\",\"Henties Bay\",\"Makakilo City\",\"Broome\",\"Fairbanks\",\"Itapecerica\",\"Bongandanga\",\"Djambala\",\"Lages\",\"San Carlos De Bariloche\",\"Tyumentsevo\",\"Tevriz\",\"Hambantota\",\"Palana\",\"Arlit\",\"Alofi\",\"Saint George\",\"Ust-Tsilma\",\"Taywarah\",\"Aksarka\",\"Ust-Nera\",\"Aquiraz\",\"Agadez\",\"Tura\",\"Sangar\",\"Killybegs\",\"Erenhot\",\"Hongjiang\",\"Neiafu\",\"Husavik\",\"Kudat\",\"Karasjok\",\"Aklavik\",\"Wanning\",\"Bodden Town\",\"Kalmunai\",\"Kaohsiung\",\"Berlevag\",\"Chlorakas\",\"Katherine\",\"Half Moon Bay\",\"Virginia Beach\",\"Shelburne\",\"Verkh-Chebula\",\"Loudi\",\"Kaufungen\",\"Petropavlovsk-Kamchatskiy\",\"Dudinka\",\"Ambilobe\",\"Saryg-Sep\",\"Kholodnyy\",\"San Lazaro\",\"Goya\",\"Cap Malheureux\",\"Ahipara\",\"Brownwood\",\"Srednekolymsk\",\"Tazovskiy\",\"Kaa-Khem\",\"Ridgecrest\",\"Cumana\",\"Changqing\",\"Labuhan\",\"Abu Samrah\",\"Nalut\",\"Okha\",\"Burnie\",\"Banda Aceh\",\"Yatou\",\"Te Anau\",\"Douentza\",\"Asyut\",\"Naze\",\"Poum\",\"Tukums\",\"Berdigestyakh\",\"Dingle\",\"Chanute\",\"Troyes\",\"Osmena\",\"Namibe\",\"Margate\",\"Xuddur\",\"Portland\",\"Sobolevo\",\"Roald\",\"Beidao\",\"Pacific Grove\",\"Flin Flon\",\"Leh\",\"Safford\",\"Codrington\",\"Port Hawkesbury\",\"Port Macquarie\",\"Toguchin\",\"Bonga\",\"Ballina\",\"Grand Gaube\",\"Rocha\",\"Jutai\",\"Awbari\",\"Chistogorskiy\",\"Isla Vista\",\"Castanheira De Pera\",\"Bulnes\",\"Komsomolskiy\",\"Altay\",\"Ayan\",\"Quatre Cocos\",\"Stolin\",\"Ambon\",\"Drumheller\",\"Atlantic City\",\"Nantucket\",\"Cabedelo\",\"Mendi\",\"Tchollire\",\"Bethel Park\",\"Sankt Veit\",\"Grand-Santi\",\"San Policarpo\",\"Saint-Pierre\",\"Kudahuvadhoo\",\"Oyama\",\"Katangli\",\"Khasan\",\"Beringovskiy\",\"Nagato\",\"Krasnyye Tkachi\",\"Kashi\",\"Diego De Almagro\",\"Metro\",\"Hakui\",\"Presidencia Roque Saenz Pena\",\"Kamoke\",\"Muswellbrook\",\"Kinsale\",\"Cacule\",\"Manggar\",\"Dubovskoye\",\"Bandarbeyla\",\"Rockland\",\"Cozumel\",\"Dina\",\"Dengfeng\",\"Port Loko\",\"Tabory\",\"Duki\",\"Selty\",\"Seoul\",\"Lamu\",\"Edd\",\"Dekar\",\"Mehamn\",\"Miraflores\",\"Athni\",\"Lufkin\",\"Ayagoz\",\"Liku\",\"Los Lunas\",\"Okhotsk\",\"Hamina\",\"Yarmouth\",\"Roebourne\",\"Tucurui\",\"Vagur\",\"Egvekinot\",\"Staryy Krym\",\"Urumqi\",\"Krasnyy Chikoy\",\"Chara\",\"Grindavik\",\"Culpeper\",\"Teguise\",\"Thanh Hoa\"],\"palette\":[\"#1f77b3\",\"#ff7e0e\",\"#2ba02b\",\"#d62628\",\"#9367bc\",\"#8c564b\",\"#e277c1\",\"#7e7e7e\",\"#bcbc21\",\"#16bdcf\",\"#3a0182\",\"#004201\",\"#0fffa8\",\"#5d003f\",\"#bcbcff\",\"#d8afa1\",\"#b80080\",\"#004d52\",\"#6b6400\",\"#7c0100\",\"#6026ff\",\"#ffff9a\",\"#564964\",\"#8cb893\",\"#93fbff\",\"#018267\",\"#90ff00\",\"#8200a0\",\"#ac8944\",\"#5b3400\",\"#ffbff2\",\"#ff6e75\",\"#798cff\",\"#dd00ff\",\"#505646\",\"#004489\",\"#ffbf60\",\"#ff018c\",\"#bdc8cf\",\"#af97b5\",\"#b65600\",\"#017000\",\"#cd87ff\",\"#1cd646\",\"#bfebc3\",\"#7997b5\",\"#a56089\",\"#6e8956\",\"#bc7c75\",\"#8a2844\",\"#00acff\",\"#8ed4ff\",\"#4b6d77\",\"#00d4b1\",\"#9300f2\",\"#8a9500\",\"#5d5b9e\",\"#fddfba\",\"#00939e\",\"#ffdb00\",\"#00aa79\",\"#520067\",\"#000091\",\"#0a5d3d\",\"#a5e275\",\"#623b41\",\"#c6c689\",\"#ff9eb5\",\"#cd4f6b\",\"#ff07d6\",\"#8a3a05\",\"#7e3d70\",\"#ff4901\",\"#602ba5\",\"#1c00ff\",\"#e6dfff\",\"#aa3baf\",\"#d89c00\",\"#a3a39e\",\"#3f69ff\",\"#46490c\",\"#7b6985\",\"#6b978c\",\"#ff9a75\",\"#835bff\",\"#7c6b46\",\"#80b654\",\"#bc0049\",\"#fd93ff\",\"#5d0018\",\"#89d1d1\",\"#9c8cd3\",\"#da6d42\",\"#8a5700\",\"#3b5069\",\"#4b6b3b\",\"#edcfd8\",\"#cfedff\",\"#aa1500\",\"#dfff4f\",\"#ff2a56\",\"#d1499e\",\"#707cb8\",\"#598000\",\"#00e4fd\",\"#774b95\",\"#67d48c\",\"#3d3a72\",\"#ac413f\",\"#d6a166\",\"#c169cd\",\"#69595d\",\"#87aced\",\"#a0a569\",\"#d1aae6\",\"#870062\",\"#00fddb\",\"#672818\",\"#b342ff\",\"#0e59c4\",\"#168742\",\"#90d300\",\"#cd7900\",\"#f959ff\",\"#5b7466\",\"#8eaeb3\",\"#9c7c8c\",\"#4600c6\",\"#6b4d2d\",\"#a56d46\",\"#9e8972\",\"#a8afca\",\"#cd8ca7\",\"#00fd64\",\"#917900\",\"#ff62a1\",\"#f4ffd8\",\"#018cf0\",\"#13aca0\",\"#5b2d59\",\"#89859e\",\"#cfccba\",\"#d4afc4\",\"#dbdd6d\",\"#cffff4\",\"#006485\",\"#006962\",\"#a84167\",\"#2d97c4\",\"#a874ff\",\"#26ba5d\",\"#57b600\",\"#caffa7\",\"#a379aa\",\"#ffbc93\",\"#89e2c1\",\"#0fc8ff\",\"#d400c4\",\"#626d89\",\"#69858e\",\"#4b4d52\",\"#aa6067\",\"#79b5d4\",\"#2b5916\",\"#9a0024\",\"#bdd1f2\",\"#896e67\",\"#69a56b\",\"#855467\",\"#aecdba\",\"#87997e\",\"#cadb00\",\"#9a0390\",\"#ebbc1a\",\"#eb9cd1\",\"#70006e\",\"#b1a131\",\"#ca6b93\",\"#4146a3\",\"#e48c89\",\"#d44400\",\"#c68aca\",\"#b69597\",\"#d41f75\",\"#724bcc\",\"#674d00\",\"#672138\",\"#38564f\",\"#6ebaaa\",\"#853a31\",\"#a5d397\",\"#b8af8e\",\"#d8e4df\",\"#aa00df\",\"#cac1db\",\"#ffdf8c\",\"#e2524d\",\"#66696e\",\"#ff001c\",\"#522d72\",\"#4d906b\",\"#a86d11\",\"#ff9e26\",\"#5ea3af\",\"#c88556\",\"#915997\",\"#a3a1ff\",\"#fdbaba\",\"#242a87\",\"#dbe6a8\",\"#97f2a7\",\"#6793d6\",\"#ba5b3f\",\"#3a5d91\",\"#364f2f\",\"#267c95\",\"#89959a\",\"#cfb356\",\"#004664\",\"#5e5d2f\",\"#8e8e41\",\"#ac3f13\",\"#69953b\",\"#a13d85\",\"#bfb6ba\",\"#acc667\",\"#6469cf\",\"#91af00\",\"#2be2da\",\"#016e36\",\"#ff7952\",\"#42807e\",\"#4fe800\",\"#995428\",\"#5d0a00\",\"#a30057\",\"#0c8700\",\"#5982a7\",\"#ffebfb\",\"#4b6901\",\"#8775d4\",\"#e6c6ff\",\"#a5ffda\",\"#d86e77\",\"#df014b\",\"#69675b\",\"#776ba1\",\"#7e8067\",\"#594685\",\"#0000ca\",\"#7c002a\",\"#97ff72\",\"#b5e2e1\",\"#db52c8\",\"#777734\",\"#57bd8e\",\"#1f77b3\",\"#ff7e0e\",\"#2ba02b\",\"#d62628\",\"#9367bc\",\"#8c564b\",\"#e277c1\",\"#7e7e7e\",\"#bcbc21\",\"#16bdcf\",\"#3a0182\",\"#004201\",\"#0fffa8\",\"#5d003f\",\"#bcbcff\",\"#d8afa1\",\"#b80080\",\"#004d52\",\"#6b6400\",\"#7c0100\",\"#6026ff\",\"#ffff9a\",\"#564964\",\"#8cb893\",\"#93fbff\",\"#018267\",\"#90ff00\",\"#8200a0\",\"#ac8944\",\"#5b3400\",\"#ffbff2\",\"#ff6e75\",\"#798cff\",\"#dd00ff\",\"#505646\",\"#004489\",\"#ffbf60\",\"#ff018c\",\"#bdc8cf\",\"#af97b5\",\"#b65600\",\"#017000\",\"#cd87ff\",\"#1cd646\",\"#bfebc3\",\"#7997b5\",\"#a56089\",\"#6e8956\",\"#bc7c75\",\"#8a2844\",\"#00acff\",\"#8ed4ff\",\"#4b6d77\",\"#00d4b1\",\"#9300f2\",\"#8a9500\",\"#5d5b9e\",\"#fddfba\",\"#00939e\",\"#ffdb00\",\"#00aa79\",\"#520067\",\"#000091\",\"#0a5d3d\",\"#a5e275\",\"#623b41\",\"#c6c689\",\"#ff9eb5\",\"#cd4f6b\",\"#ff07d6\",\"#8a3a05\",\"#7e3d70\",\"#ff4901\",\"#602ba5\",\"#1c00ff\",\"#e6dfff\",\"#aa3baf\",\"#d89c00\",\"#a3a39e\",\"#3f69ff\",\"#46490c\",\"#7b6985\",\"#6b978c\",\"#ff9a75\",\"#835bff\",\"#7c6b46\",\"#80b654\",\"#bc0049\",\"#fd93ff\",\"#5d0018\",\"#89d1d1\",\"#9c8cd3\",\"#da6d42\",\"#8a5700\",\"#3b5069\",\"#4b6b3b\",\"#edcfd8\",\"#cfedff\",\"#aa1500\",\"#dfff4f\",\"#ff2a56\",\"#d1499e\",\"#707cb8\",\"#598000\",\"#00e4fd\",\"#774b95\",\"#67d48c\",\"#3d3a72\",\"#ac413f\",\"#d6a166\",\"#c169cd\",\"#69595d\",\"#87aced\",\"#a0a569\",\"#d1aae6\",\"#870062\",\"#00fddb\",\"#672818\",\"#b342ff\",\"#0e59c4\",\"#168742\",\"#90d300\",\"#cd7900\",\"#f959ff\",\"#5b7466\",\"#8eaeb3\",\"#9c7c8c\",\"#4600c6\",\"#6b4d2d\",\"#a56d46\",\"#9e8972\",\"#a8afca\",\"#cd8ca7\",\"#00fd64\",\"#917900\",\"#ff62a1\",\"#f4ffd8\",\"#018cf0\",\"#13aca0\",\"#5b2d59\",\"#89859e\",\"#cfccba\",\"#d4afc4\",\"#dbdd6d\",\"#cffff4\",\"#006485\",\"#006962\",\"#a84167\",\"#2d97c4\",\"#a874ff\",\"#26ba5d\",\"#57b600\",\"#caffa7\",\"#a379aa\",\"#ffbc93\",\"#89e2c1\",\"#0fc8ff\",\"#d400c4\",\"#626d89\",\"#69858e\",\"#4b4d52\",\"#aa6067\",\"#79b5d4\",\"#2b5916\",\"#9a0024\",\"#bdd1f2\",\"#896e67\",\"#69a56b\",\"#855467\",\"#aecdba\",\"#87997e\",\"#cadb00\",\"#9a0390\",\"#ebbc1a\",\"#eb9cd1\",\"#70006e\",\"#b1a131\",\"#ca6b93\",\"#4146a3\",\"#e48c89\",\"#d44400\",\"#c68aca\",\"#b69597\",\"#d41f75\",\"#724bcc\",\"#674d00\",\"#672138\",\"#38564f\",\"#6ebaaa\",\"#853a31\",\"#a5d397\",\"#b8af8e\",\"#d8e4df\",\"#aa00df\",\"#cac1db\",\"#ffdf8c\",\"#e2524d\",\"#66696e\",\"#ff001c\",\"#522d72\",\"#4d906b\",\"#a86d11\",\"#ff9e26\",\"#5ea3af\",\"#c88556\",\"#915997\",\"#a3a1ff\",\"#fdbaba\",\"#242a87\",\"#dbe6a8\",\"#97f2a7\",\"#6793d6\",\"#ba5b3f\",\"#3a5d91\",\"#364f2f\",\"#267c95\",\"#89959a\",\"#cfb356\",\"#004664\",\"#5e5d2f\",\"#8e8e41\",\"#ac3f13\",\"#69953b\",\"#a13d85\",\"#bfb6ba\",\"#acc667\",\"#6469cf\",\"#91af00\",\"#2be2da\",\"#016e36\",\"#ff7952\",\"#42807e\",\"#4fe800\",\"#995428\",\"#5d0a00\",\"#a30057\",\"#0c8700\",\"#5982a7\",\"#ffebfb\",\"#4b6901\",\"#8775d4\",\"#e6c6ff\",\"#a5ffda\",\"#d86e77\",\"#df014b\",\"#69675b\",\"#776ba1\",\"#7e8067\",\"#594685\",\"#0000ca\",\"#7c002a\",\"#97ff72\",\"#b5e2e1\",\"#db52c8\",\"#777734\",\"#57bd8e\",\"#1f77b3\",\"#ff7e0e\",\"#2ba02b\",\"#d62628\",\"#9367bc\",\"#8c564b\",\"#e277c1\",\"#7e7e7e\",\"#bcbc21\",\"#16bdcf\",\"#3a0182\",\"#004201\",\"#0fffa8\",\"#5d003f\",\"#bcbcff\",\"#d8afa1\",\"#b80080\",\"#004d52\",\"#6b6400\",\"#7c0100\",\"#6026ff\",\"#ffff9a\",\"#564964\",\"#8cb893\",\"#93fbff\",\"#018267\",\"#90ff00\",\"#8200a0\",\"#ac8944\",\"#5b3400\",\"#ffbff2\",\"#ff6e75\",\"#798cff\",\"#dd00ff\",\"#505646\",\"#004489\",\"#ffbf60\",\"#ff018c\",\"#bdc8cf\",\"#af97b5\",\"#b65600\",\"#017000\",\"#cd87ff\",\"#1cd646\",\"#bfebc3\",\"#7997b5\",\"#a56089\",\"#6e8956\",\"#bc7c75\",\"#8a2844\"]},\"id\":\"1590\",\"type\":\"CategoricalColorMapper\"},{\"attributes\":{\"bottom_units\":\"screen\",\"coordinates\":null,\"fill_alpha\":0.5,\"fill_color\":\"lightgrey\",\"group\":null,\"left_units\":\"screen\",\"level\":\"overlay\",\"line_alpha\":1.0,\"line_color\":\"black\",\"line_dash\":[4,4],\"line_width\":2,\"right_units\":\"screen\",\"syncable\":false,\"top_units\":\"screen\"},\"id\":\"1549\",\"type\":\"BoxAnnotation\"},{\"attributes\":{\"data\":{\"City\":[\"Sabha\",\"Guerrero Negro\",\"Ponta Do Sol\",\"Mataura\",\"Ancud\",\"Port Alfred\",\"Hermanus\",\"Port Elizabeth\",\"Toora-Khem\",\"Juneau\",\"Viedma\",\"Atuona\",\"Bredasdorp\",\"Ushuaia\",\"Punta Arenas\",\"Pochutla\",\"Pueblo\",\"Bonthe\",\"Caravelas\",\"Holme\",\"Altus\",\"San Cristobal\",\"Pokosnoye\",\"Kaeo\",\"Marsaxlokk\",\"Albany\",\"Yulara\",\"Butaritari\",\"Sarkand\",\"Vaini\",\"Le Mars\",\"Paraiso\",\"Padang\",\"Hithadhoo\",\"Hobart\",\"Nemuro\",\"Khorixas\",\"Cape Town\",\"Talara\",\"Bethel\",\"Mangrol\",\"Morgan City\",\"Tuatapere\",\"Chuy\",\"Tambacounda\",\"Chiredzi\",\"Bluff\",\"Mandalgovi\",\"Chyhyryn\",\"Mount Isa\",\"Palmer\",\"Pisco\",\"Trincomalee\",\"Mahebourg\",\"Mar Del Plata\",\"Cidreira\",\"Zyryanka\",\"Griffith\",\"Kamaishi\",\"Jamestown\",\"Carman\",\"Honningsvag\",\"Tiksi\",\"Lodja\",\"Lamar\",\"Ribeira Grande\",\"Karratha\",\"Agadir\",\"Rikitea\",\"Yellowknife\",\"Dauriya\",\"Lufilufi\",\"New Norfolk\",\"Kapaa\",\"Severo-Kurilsk\",\"Lebu\",\"Roma\",\"Aguimes\",\"Busselton\",\"College\",\"Provideniya\",\"La Ronge\",\"Saskylakh\",\"Nikolskoye\",\"Ilulissat\",\"Kavieng\",\"Arraial Do Cabo\",\"Sechura\",\"Kyaikto\",\"East London\",\"Iqaluit\",\"Kwinana\",\"Sale\",\"Port Hardy\",\"Port Hedland\",\"Hamilton\",\"Les Cayes\",\"Magadan\",\"Salvador\",\"Castro\",\"Gannan\",\"Tasiilaq\",\"Hanchuan\",\"Champerico\",\"Pangody\",\"Chokurdakh\",\"Leningradskiy\",\"Kaitangata\",\"Zacatecoluca\",\"Fortuna\",\"Nauta\",\"Urengoy\",\"Georgetown\",\"Ugoofaaru\",\"Myitkyina\",\"Faanui\",\"Wilmington\",\"Thompson\",\"Qaanaaq\",\"Vila Franca Do Campo\",\"Acapulco\",\"Chapais\",\"Keningau\",\"Voznesenye\",\"Algiers\",\"Angoche\",\"Diffa\",\"Upernavik\",\"Puerto Del Rosario\",\"Torbay\",\"La Cruz\",\"Los Llanos De Aridane\",\"Athabasca\",\"Tuktoyaktuk\",\"Huarmey\",\"Vardo\",\"Auki\",\"Bembereke\",\"Kargil\",\"Dikson\",\"Gat\",\"Narsaq\",\"Takoradi\",\"Pasighat\",\"Walvis Bay\",\"Bambous Virieux\",\"Longyearbyen\",\"Bulawayo\",\"Ust-Maya\",\"Kodiak\",\"Meulaboh\",\"Flinders\",\"Pucara\",\"Coahuayana\",\"Tual\",\"Fukue\",\"Kurud\",\"Turgoyak\",\"Souillac\",\"Saldanha\",\"Kvarkeno\",\"Dwarka\",\"Sao Joao Da Barra\",\"Hasaki\",\"Porto Novo\",\"Karabash\",\"Avarua\",\"Pevek\",\"Neuquen\",\"Bella Union\",\"Barkly West\",\"Tala\",\"Pervomayskiy\",\"Saint-Philippe\",\"Batagay-Alyta\",\"Port Lincoln\",\"Yangambi\",\"Ustka\",\"Hovd\",\"Avera\",\"Fort Nelson\",\"Nizwa\",\"Ewa Beach\",\"Otradnoye\",\"Ponta Delgada\",\"Victoria Point\",\"Puerto Ayora\",\"Warrnambool\",\"Preobrazheniye\",\"Geraldton\",\"Los Banos\",\"Ndago\",\"Bengkulu\",\"Hilo\",\"Canelli\",\"Mukhen\",\"Manoharpur\",\"Richards Bay\",\"Port-Gentil\",\"Airai\",\"Pavlohrad\",\"Posse\",\"Vila\",\"Cabra\",\"Manica\",\"Luderitz\",\"Palasa\",\"Jumla\",\"Hobyo\",\"Oum Hadjer\",\"Santa Rosa\",\"Laguna\",\"Norman Wells\",\"Clyde River\",\"Jaguaribe\",\"Abu Kamal\",\"Tianjin\",\"San Luis\",\"Waipawa\",\"Olafsvik\",\"Nara\",\"Klaksvik\",\"Road Town\",\"Eureka\",\"San Rafael\",\"Genas\",\"Kemijarvi\",\"Pitimbu\",\"Nouakchott\",\"Oleksandrivka\",\"San Patricio\",\"Sydney\",\"Dhidhdhoo\",\"Imperial\",\"Vestmannaeyjar\",\"Cherskiy\",\"Kutum\",\"Port Blair\",\"Tahta\",\"Cabo San Lucas\",\"Whitehorse\",\"Cuiluan\",\"Saint-Georges\",\"Yamada\",\"Aboso\",\"Thunder Bay\",\"Kashan\",\"Pangnirtung\",\"Kloulklubed\",\"Tessalit\",\"Felanitx\",\"Topolobampo\",\"Victoria\",\"Bondo\",\"Ndola\",\"Abrau-Dyurso\",\"Batote\",\"Shar\",\"Hidalgotitlan\",\"Nanfeng\",\"Lompoc\",\"Mayor Pablo Lagerenza\",\"Camopi\",\"Inirida\",\"Dauphin\",\"Carnarvon\",\"Talnakh\",\"Rio Grande\",\"Sitka\",\"Cantagalo\",\"Hofn\",\"Carlsbad\",\"Puerto Escondido\",\"Khatanga\",\"Barrow\",\"Tolbazy\",\"Berezovyy\",\"Cervo\",\"Wiwili\",\"Buchanan\",\"Marzuq\",\"Bose\",\"San Vicente\",\"Sinnamary\",\"Rawson\",\"Lucapa\",\"Slave Lake\",\"Nhulunbuy\",\"Nanortalik\",\"Oakland\",\"Mirabad\",\"Touros\",\"Matagami\",\"Cockburn Town\",\"Awjilah\",\"Saint Andrews\",\"Anadyr\",\"Yerbogachen\",\"Raudeberg\",\"Lavrentiya\",\"Santa Fe\",\"Constitucion\",\"Buala\",\"Yumen\",\"Antalaha\",\"Isangel\",\"Illapel\",\"Aykhal\",\"Saint-Jerome\",\"Vanimo\",\"Esperance\",\"Zhigansk\",\"Togul\",\"Sao Filipe\",\"Flagstaff\",\"Antofagasta\",\"Matiri\",\"Bonfim\",\"Floriano\",\"Natal\",\"Caloundra\",\"Dawei\",\"Mayo\",\"Marfino\",\"Mizdah\",\"Murgab\",\"Bollnas\",\"Abu Zabad\",\"Tahoua\",\"Bathsheba\",\"Qandala\",\"Sakakah\",\"Minsk\",\"Monze\",\"Bahia Blanca\",\"Newport\",\"Wasseiges\",\"Vila Velha\",\"Saltillo\",\"Winslow\",\"Baykit\",\"Annau\",\"Samarai\",\"Progreso\",\"Kiama\",\"Trinidad\",\"Pacifica\",\"Oktyabrskiy\",\"Rathcoole\",\"Homer\",\"Bundaberg\",\"Najran\",\"Atambua\",\"Razole\",\"Kidal\",\"Saint-Francois\",\"Hammerfest\",\"Kupang\",\"Meiganga\",\"Seguin\",\"Innisfail\",\"Afua\",\"Bolshaya Glushitsa\",\"Alice Springs\",\"Mao\",\"Gaffney\",\"Lagoa\",\"Manokwari\",\"Mari-Turek\",\"Turukhansk\",\"Zhaodong\",\"Tralee\",\"Kieta\",\"Omsukchan\",\"Lorengau\",\"Kavaratti\",\"Kahului\",\"Alekseyevsk\",\"Do Gonbadan\",\"Tupik\",\"Tezu\",\"Villa Del Rosario\",\"Katsuura\",\"Orocue\",\"Gaomi\",\"Salalah\",\"Wakkanai\",\"Plettenberg Bay\",\"Henties Bay\",\"Makakilo City\",\"Broome\",\"Fairbanks\",\"Itapecerica\",\"Bongandanga\",\"Djambala\",\"Lages\",\"San Carlos De Bariloche\",\"Tyumentsevo\",\"Tevriz\",\"Hambantota\",\"Palana\",\"Arlit\",\"Alofi\",\"Saint George\",\"Ust-Tsilma\",\"Taywarah\",\"Aksarka\",\"Ust-Nera\",\"Aquiraz\",\"Agadez\",\"Tura\",\"Sangar\",\"Killybegs\",\"Erenhot\",\"Hongjiang\",\"Neiafu\",\"Husavik\",\"Kudat\",\"Karasjok\",\"Aklavik\",\"Wanning\",\"Bodden Town\",\"Kalmunai\",\"Kaohsiung\",\"Berlevag\",\"Chlorakas\",\"Katherine\",\"Half Moon Bay\",\"Virginia Beach\",\"Shelburne\",\"Verkh-Chebula\",\"Loudi\",\"Kaufungen\",\"Petropavlovsk-Kamchatskiy\",\"Dudinka\",\"Ambilobe\",\"Saryg-Sep\",\"Kholodnyy\",\"San Lazaro\",\"Goya\",\"Cap Malheureux\",\"Ahipara\",\"Brownwood\",\"Srednekolymsk\",\"Tazovskiy\",\"Kaa-Khem\",\"Ridgecrest\",\"Cumana\",\"Changqing\",\"Labuhan\",\"Abu Samrah\",\"Nalut\",\"Okha\",\"Burnie\",\"Banda Aceh\",\"Yatou\",\"Te Anau\",\"Douentza\",\"Asyut\",\"Naze\",\"Poum\",\"Tukums\",\"Berdigestyakh\",\"Dingle\",\"Chanute\",\"Troyes\",\"Osmena\",\"Namibe\",\"Margate\",\"Xuddur\",\"Portland\",\"Sobolevo\",\"Roald\",\"Beidao\",\"Pacific Grove\",\"Flin Flon\",\"Leh\",\"Safford\",\"Codrington\",\"Port Hawkesbury\",\"Port Macquarie\",\"Toguchin\",\"Bonga\",\"Ballina\",\"Grand Gaube\",\"Rocha\",\"Jutai\",\"Awbari\",\"Chistogorskiy\",\"Isla Vista\",\"Castanheira De Pera\",\"Bulnes\",\"Komsomolskiy\",\"Altay\",\"Ayan\",\"Quatre Cocos\",\"Stolin\",\"Ambon\",\"Drumheller\",\"Atlantic City\",\"Nantucket\",\"Cabedelo\",\"Mendi\",\"Tchollire\",\"Bethel Park\",\"Sankt Veit\",\"Grand-Santi\",\"San Policarpo\",\"Saint-Pierre\",\"Kudahuvadhoo\",\"Oyama\",\"Katangli\",\"Khasan\",\"Beringovskiy\",\"Nagato\",\"Krasnyye Tkachi\",\"Kashi\",\"Diego De Almagro\",\"Metro\",\"Hakui\",\"Presidencia Roque Saenz Pena\",\"Kamoke\",\"Muswellbrook\",\"Kinsale\",\"Cacule\",\"Manggar\",\"Dubovskoye\",\"Bandarbeyla\",\"Rockland\",\"Cozumel\",\"Dina\",\"Dengfeng\",\"Port Loko\",\"Tabory\",\"Duki\",\"Selty\",\"Seoul\",\"Lamu\",\"Edd\",\"Dekar\",\"Mehamn\",\"Miraflores\",\"Athni\",\"Lufkin\",\"Ayagoz\",\"Liku\",\"Los Lunas\",\"Okhotsk\",\"Hamina\",\"Yarmouth\",\"Roebourne\",\"Tucurui\",\"Vagur\",\"Egvekinot\",\"Staryy Krym\",\"Urumqi\",\"Krasnyy Chikoy\",\"Chara\",\"Grindavik\",\"Culpeper\",\"Teguise\",\"Thanh Hoa\"],\"Lat\":{\"__ndarray__\":\"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\",\"dtype\":\"float64\",\"order\":\"little\",\"shape\":[562]},\"Lng\":{\"__ndarray__\":\"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\",\"dtype\":\"float64\",\"order\":\"little\",\"shape\":[562]},\"Max_Temp\":{\"__ndarray__\":\"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\",\"dtype\":\"float64\",\"order\":\"little\",\"shape\":[562]},\"color\":[\"Sabha\",\"Guerrero Negro\",\"Ponta Do Sol\",\"Mataura\",\"Ancud\",\"Port Alfred\",\"Hermanus\",\"Port Elizabeth\",\"Toora-Khem\",\"Juneau\",\"Viedma\",\"Atuona\",\"Bredasdorp\",\"Ushuaia\",\"Punta Arenas\",\"Pochutla\",\"Pueblo\",\"Bonthe\",\"Caravelas\",\"Holme\",\"Altus\",\"San Cristobal\",\"Pokosnoye\",\"Kaeo\",\"Marsaxlokk\",\"Albany\",\"Yulara\",\"Butaritari\",\"Sarkand\",\"Vaini\",\"Le Mars\",\"Paraiso\",\"Padang\",\"Hithadhoo\",\"Hobart\",\"Nemuro\",\"Khorixas\",\"Cape Town\",\"Talara\",\"Bethel\",\"Mangrol\",\"Morgan City\",\"Tuatapere\",\"Chuy\",\"Tambacounda\",\"Chiredzi\",\"Bluff\",\"Mandalgovi\",\"Chyhyryn\",\"Mount Isa\",\"Palmer\",\"Pisco\",\"Trincomalee\",\"Mahebourg\",\"Mar Del Plata\",\"Cidreira\",\"Zyryanka\",\"Griffith\",\"Kamaishi\",\"Jamestown\",\"Carman\",\"Honningsvag\",\"Tiksi\",\"Lodja\",\"Lamar\",\"Ribeira Grande\",\"Karratha\",\"Agadir\",\"Rikitea\",\"Yellowknife\",\"Dauriya\",\"Lufilufi\",\"New Norfolk\",\"Kapaa\",\"Severo-Kurilsk\",\"Lebu\",\"Roma\",\"Aguimes\",\"Busselton\",\"College\",\"Provideniya\",\"La Ronge\",\"Saskylakh\",\"Nikolskoye\",\"Ilulissat\",\"Kavieng\",\"Arraial Do Cabo\",\"Sechura\",\"Kyaikto\",\"East London\",\"Iqaluit\",\"Kwinana\",\"Sale\",\"Port Hardy\",\"Port Hedland\",\"Hamilton\",\"Les Cayes\",\"Magadan\",\"Salvador\",\"Castro\",\"Gannan\",\"Tasiilaq\",\"Hanchuan\",\"Champerico\",\"Pangody\",\"Chokurdakh\",\"Leningradskiy\",\"Kaitangata\",\"Zacatecoluca\",\"Fortuna\",\"Nauta\",\"Urengoy\",\"Georgetown\",\"Ugoofaaru\",\"Myitkyina\",\"Faanui\",\"Wilmington\",\"Thompson\",\"Qaanaaq\",\"Vila Franca Do Campo\",\"Acapulco\",\"Chapais\",\"Keningau\",\"Voznesenye\",\"Algiers\",\"Angoche\",\"Diffa\",\"Upernavik\",\"Puerto Del Rosario\",\"Torbay\",\"La Cruz\",\"Los Llanos De Aridane\",\"Athabasca\",\"Tuktoyaktuk\",\"Huarmey\",\"Vardo\",\"Auki\",\"Bembereke\",\"Kargil\",\"Dikson\",\"Gat\",\"Narsaq\",\"Takoradi\",\"Pasighat\",\"Walvis Bay\",\"Bambous Virieux\",\"Longyearbyen\",\"Bulawayo\",\"Ust-Maya\",\"Kodiak\",\"Meulaboh\",\"Flinders\",\"Pucara\",\"Coahuayana\",\"Tual\",\"Fukue\",\"Kurud\",\"Turgoyak\",\"Souillac\",\"Saldanha\",\"Kvarkeno\",\"Dwarka\",\"Sao Joao Da Barra\",\"Hasaki\",\"Porto Novo\",\"Karabash\",\"Avarua\",\"Pevek\",\"Neuquen\",\"Bella Union\",\"Barkly West\",\"Tala\",\"Pervomayskiy\",\"Saint-Philippe\",\"Batagay-Alyta\",\"Port Lincoln\",\"Yangambi\",\"Ustka\",\"Hovd\",\"Avera\",\"Fort Nelson\",\"Nizwa\",\"Ewa Beach\",\"Otradnoye\",\"Ponta Delgada\",\"Victoria Point\",\"Puerto Ayora\",\"Warrnambool\",\"Preobrazheniye\",\"Geraldton\",\"Los Banos\",\"Ndago\",\"Bengkulu\",\"Hilo\",\"Canelli\",\"Mukhen\",\"Manoharpur\",\"Richards Bay\",\"Port-Gentil\",\"Airai\",\"Pavlohrad\",\"Posse\",\"Vila\",\"Cabra\",\"Manica\",\"Luderitz\",\"Palasa\",\"Jumla\",\"Hobyo\",\"Oum Hadjer\",\"Santa Rosa\",\"Laguna\",\"Norman Wells\",\"Clyde River\",\"Jaguaribe\",\"Abu Kamal\",\"Tianjin\",\"San Luis\",\"Waipawa\",\"Olafsvik\",\"Nara\",\"Klaksvik\",\"Road Town\",\"Eureka\",\"San Rafael\",\"Genas\",\"Kemijarvi\",\"Pitimbu\",\"Nouakchott\",\"Oleksandrivka\",\"San Patricio\",\"Sydney\",\"Dhidhdhoo\",\"Imperial\",\"Vestmannaeyjar\",\"Cherskiy\",\"Kutum\",\"Port Blair\",\"Tahta\",\"Cabo San Lucas\",\"Whitehorse\",\"Cuiluan\",\"Saint-Georges\",\"Yamada\",\"Aboso\",\"Thunder Bay\",\"Kashan\",\"Pangnirtung\",\"Kloulklubed\",\"Tessalit\",\"Felanitx\",\"Topolobampo\",\"Victoria\",\"Bondo\",\"Ndola\",\"Abrau-Dyurso\",\"Batote\",\"Shar\",\"Hidalgotitlan\",\"Nanfeng\",\"Lompoc\",\"Mayor Pablo Lagerenza\",\"Camopi\",\"Inirida\",\"Dauphin\",\"Carnarvon\",\"Talnakh\",\"Rio Grande\",\"Sitka\",\"Cantagalo\",\"Hofn\",\"Carlsbad\",\"Puerto Escondido\",\"Khatanga\",\"Barrow\",\"Tolbazy\",\"Berezovyy\",\"Cervo\",\"Wiwili\",\"Buchanan\",\"Marzuq\",\"Bose\",\"San Vicente\",\"Sinnamary\",\"Rawson\",\"Lucapa\",\"Slave Lake\",\"Nhulunbuy\",\"Nanortalik\",\"Oakland\",\"Mirabad\",\"Touros\",\"Matagami\",\"Cockburn Town\",\"Awjilah\",\"Saint Andrews\",\"Anadyr\",\"Yerbogachen\",\"Raudeberg\",\"Lavrentiya\",\"Santa Fe\",\"Constitucion\",\"Buala\",\"Yumen\",\"Antalaha\",\"Isangel\",\"Illapel\",\"Aykhal\",\"Saint-Jerome\",\"Vanimo\",\"Esperance\",\"Zhigansk\",\"Togul\",\"Sao Filipe\",\"Flagstaff\",\"Antofagasta\",\"Matiri\",\"Bonfim\",\"Floriano\",\"Natal\",\"Caloundra\",\"Dawei\",\"Mayo\",\"Marfino\",\"Mizdah\",\"Murgab\",\"Bollnas\",\"Abu Zabad\",\"Tahoua\",\"Bathsheba\",\"Qandala\",\"Sakakah\",\"Minsk\",\"Monze\",\"Bahia Blanca\",\"Newport\",\"Wasseiges\",\"Vila Velha\",\"Saltillo\",\"Winslow\",\"Baykit\",\"Annau\",\"Samarai\",\"Progreso\",\"Kiama\",\"Trinidad\",\"Pacifica\",\"Oktyabrskiy\",\"Rathcoole\",\"Homer\",\"Bundaberg\",\"Najran\",\"Atambua\",\"Razole\",\"Kidal\",\"Saint-Francois\",\"Hammerfest\",\"Kupang\",\"Meiganga\",\"Seguin\",\"Innisfail\",\"Afua\",\"Bolshaya Glushitsa\",\"Alice Springs\",\"Mao\",\"Gaffney\",\"Lagoa\",\"Manokwari\",\"Mari-Turek\",\"Turukhansk\",\"Zhaodong\",\"Tralee\",\"Kieta\",\"Omsukchan\",\"Lorengau\",\"Kavaratti\",\"Kahului\",\"Alekseyevsk\",\"Do Gonbadan\",\"Tupik\",\"Tezu\",\"Villa Del Rosario\",\"Katsuura\",\"Orocue\",\"Gaomi\",\"Salalah\",\"Wakkanai\",\"Plettenberg Bay\",\"Henties Bay\",\"Makakilo City\",\"Broome\",\"Fairbanks\",\"Itapecerica\",\"Bongandanga\",\"Djambala\",\"Lages\",\"San Carlos De Bariloche\",\"Tyumentsevo\",\"Tevriz\",\"Hambantota\",\"Palana\",\"Arlit\",\"Alofi\",\"Saint George\",\"Ust-Tsilma\",\"Taywarah\",\"Aksarka\",\"Ust-Nera\",\"Aquiraz\",\"Agadez\",\"Tura\",\"Sangar\",\"Killybegs\",\"Erenhot\",\"Hongjiang\",\"Neiafu\",\"Husavik\",\"Kudat\",\"Karasjok\",\"Aklavik\",\"Wanning\",\"Bodden Town\",\"Kalmunai\",\"Kaohsiung\",\"Berlevag\",\"Chlorakas\",\"Katherine\",\"Half Moon Bay\",\"Virginia Beach\",\"Shelburne\",\"Verkh-Chebula\",\"Loudi\",\"Kaufungen\",\"Petropavlovsk-Kamchatskiy\",\"Dudinka\",\"Ambilobe\",\"Saryg-Sep\",\"Kholodnyy\",\"San Lazaro\",\"Goya\",\"Cap Malheureux\",\"Ahipara\",\"Brownwood\",\"Srednekolymsk\",\"Tazovskiy\",\"Kaa-Khem\",\"Ridgecrest\",\"Cumana\",\"Changqing\",\"Labuhan\",\"Abu Samrah\",\"Nalut\",\"Okha\",\"Burnie\",\"Banda Aceh\",\"Yatou\",\"Te Anau\",\"Douentza\",\"Asyut\",\"Naze\",\"Poum\",\"Tukums\",\"Berdigestyakh\",\"Dingle\",\"Chanute\",\"Troyes\",\"Osmena\",\"Namibe\",\"Margate\",\"Xuddur\",\"Portland\",\"Sobolevo\",\"Roald\",\"Beidao\",\"Pacific Grove\",\"Flin Flon\",\"Leh\",\"Safford\",\"Codrington\",\"Port Hawkesbury\",\"Port Macquarie\",\"Toguchin\",\"Bonga\",\"Ballina\",\"Grand Gaube\",\"Rocha\",\"Jutai\",\"Awbari\",\"Chistogorskiy\",\"Isla Vista\",\"Castanheira De Pera\",\"Bulnes\",\"Komsomolskiy\",\"Altay\",\"Ayan\",\"Quatre Cocos\",\"Stolin\",\"Ambon\",\"Drumheller\",\"Atlantic City\",\"Nantucket\",\"Cabedelo\",\"Mendi\",\"Tchollire\",\"Bethel Park\",\"Sankt Veit\",\"Grand-Santi\",\"San Policarpo\",\"Saint-Pierre\",\"Kudahuvadhoo\",\"Oyama\",\"Katangli\",\"Khasan\",\"Beringovskiy\",\"Nagato\",\"Krasnyye Tkachi\",\"Kashi\",\"Diego De Almagro\",\"Metro\",\"Hakui\",\"Presidencia Roque Saenz Pena\",\"Kamoke\",\"Muswellbrook\",\"Kinsale\",\"Cacule\",\"Manggar\",\"Dubovskoye\",\"Bandarbeyla\",\"Rockland\",\"Cozumel\",\"Dina\",\"Dengfeng\",\"Port Loko\",\"Tabory\",\"Duki\",\"Selty\",\"Seoul\",\"Lamu\",\"Edd\",\"Dekar\",\"Mehamn\",\"Miraflores\",\"Athni\",\"Lufkin\",\"Ayagoz\",\"Liku\",\"Los Lunas\",\"Okhotsk\",\"Hamina\",\"Yarmouth\",\"Roebourne\",\"Tucurui\",\"Vagur\",\"Egvekinot\",\"Staryy Krym\",\"Urumqi\",\"Krasnyy Chikoy\",\"Chara\",\"Grindavik\",\"Culpeper\",\"Teguise\",\"Thanh Hoa\"],\"size\":{\"__ndarray__\":\"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\",\"dtype\":\"float64\",\"order\":\"little\",\"shape\":[562]}},\"selected\":{\"id\":\"1592\"},\"selection_policy\":{\"id\":\"1604\"}},\"id\":\"1591\",\"type\":\"ColumnDataSource\"},{\"attributes\":{\"dimension\":\"lat\"},\"id\":\"1562\",\"type\":\"MercatorTickFormatter\"},{\"attributes\":{},\"id\":\"1572\",\"type\":\"AllLabels\"},{\"attributes\":{\"coordinates\":null,\"data_source\":{\"id\":\"1591\"},\"glyph\":{\"id\":\"1594\"},\"group\":null,\"hover_glyph\":{\"id\":\"1597\"},\"muted_glyph\":{\"id\":\"1598\"},\"nonselection_glyph\":{\"id\":\"1595\"},\"selection_glyph\":{\"id\":\"1596\"},\"view\":{\"id\":\"1600\"}},\"id\":\"1599\",\"type\":\"GlyphRenderer\"},{\"attributes\":{\"axis_label\":\"x\",\"coordinates\":null,\"formatter\":{\"id\":\"1560\"},\"group\":null,\"major_label_policy\":{\"id\":\"1565\"},\"ticker\":{\"id\":\"1559\"}},\"id\":\"1536\",\"type\":\"LinearAxis\"},{\"attributes\":{\"axis\":{\"id\":\"1540\"},\"coordinates\":null,\"dimension\":1,\"grid_line_color\":null,\"group\":null,\"ticker\":null},\"id\":\"1543\",\"type\":\"Grid\"},{\"attributes\":{\"dimension\":\"lon\"},\"id\":\"1560\",\"type\":\"MercatorTickFormatter\"},{\"attributes\":{\"axis\":{\"id\":\"1536\"},\"coordinates\":null,\"grid_line_color\":null,\"group\":null,\"ticker\":null},\"id\":\"1539\",\"type\":\"Grid\"},{\"attributes\":{\"end\":19870062.0596803,\"min_interval\":5,\"reset_end\":19870062.0596803,\"reset_start\":-12706419.020484949,\"start\":-12706419.020484949,\"tags\":[[[\"Lat\",\"Lat\",null]]]},\"id\":\"1521\",\"type\":\"Range1d\"},{\"attributes\":{},\"id\":\"1604\",\"type\":\"UnionRenderers\"},{\"attributes\":{\"source\":{\"id\":\"1591\"}},\"id\":\"1600\",\"type\":\"CDSView\"},{\"attributes\":{},\"id\":\"1592\",\"type\":\"Selection\"},{\"attributes\":{\"coordinates\":null,\"group\":null,\"level\":\"glyph\",\"tile_source\":{\"id\":\"1585\"}},\"id\":\"1588\",\"type\":\"TileRenderer\"},{\"attributes\":{\"tools\":[{\"id\":\"1524\"},{\"id\":\"1544\"},{\"id\":\"1545\"},{\"id\":\"1546\"},{\"id\":\"1547\"},{\"id\":\"1548\"}]},\"id\":\"1550\",\"type\":\"Toolbar\"},{\"attributes\":{\"axis_label\":\"y\",\"coordinates\":null,\"formatter\":{\"id\":\"1562\"},\"group\":null,\"major_label_policy\":{\"id\":\"1572\"},\"ticker\":{\"id\":\"1561\"}},\"id\":\"1540\",\"type\":\"LinearAxis\"},{\"attributes\":{\"code\":\"\\n        var projections = Bokeh.require(\\\"core/util/projections\\\");\\n        var x = special_vars.data_x\\n        var y = special_vars.data_y\\n        if (projections.wgs84_mercator.invert == null) {\\n          var coords = projections.wgs84_mercator.inverse([x, y])\\n        } else {\\n          var coords = projections.wgs84_mercator.invert(x, y)\\n        }\\n        return \\\"\\\" + (coords[1]).toFixed(4)\\n    \"},\"id\":\"1610\",\"type\":\"CustomJSHover\"},{\"attributes\":{\"callback\":null,\"formatters\":{\"$x\":{\"id\":\"1609\"},\"$y\":{\"id\":\"1610\"}},\"renderers\":[{\"id\":\"1599\"}],\"tags\":[\"hv_created\"],\"tooltips\":[[\"Lng\",\"$x{custom}\"],[\"Lat\",\"$y{custom}\"],[\"City\",\"@{City}\"],[\"Max Temp\",\"@{Max_Temp}\"]]},\"id\":\"1524\",\"type\":\"HoverTool\"},{\"attributes\":{\"code\":\"\\n        var projections = Bokeh.require(\\\"core/util/projections\\\");\\n        var x = special_vars.data_x\\n        var y = special_vars.data_y\\n        if (projections.wgs84_mercator.invert == null) {\\n          var coords = projections.wgs84_mercator.inverse([x, y])\\n        } else {\\n          var coords = projections.wgs84_mercator.invert(x, y)\\n        }\\n        return \\\"\\\" + (coords[0]).toFixed(4)\\n    \"},\"id\":\"1609\",\"type\":\"CustomJSHover\"},{\"attributes\":{\"margin\":[5,5,5,5],\"name\":\"HSpacer02049\",\"sizing_mode\":\"stretch_width\"},\"id\":\"1617\",\"type\":\"Spacer\"},{\"attributes\":{\"fill_color\":{\"field\":\"color\",\"transform\":{\"id\":\"1590\"}},\"hatch_color\":{\"field\":\"color\",\"transform\":{\"id\":\"1590\"}},\"line_color\":{\"field\":\"color\",\"transform\":{\"id\":\"1590\"}},\"size\":{\"field\":\"size\"},\"x\":{\"field\":\"Lng\"},\"y\":{\"field\":\"Lat\"}},\"id\":\"1594\",\"type\":\"Scatter\"},{\"attributes\":{\"dimension\":\"lon\"},\"id\":\"1559\",\"type\":\"MercatorTicker\"}],\"root_ids\":[\"1514\"]},\"title\":\"Bokeh Application\",\"version\":\"2.4.3\"}};\n",
       "    var render_items = [{\"docid\":\"daaa4040-7944-4371-bf51-6b2b217cf745\",\"root_ids\":[\"1514\"],\"roots\":{\"1514\":\"d31f6ace-1e51-4950-ace7-84868d31abe4\"}}];\n",
       "    root.Bokeh.embed.embed_items_notebook(docs_json, render_items);\n",
       "  }\n",
       "  if (root.Bokeh !== undefined && root.Bokeh.Panel !== undefined) {\n",
       "    embed_document(root);\n",
       "  } else {\n",
       "    var attempts = 0;\n",
       "    var timer = setInterval(function(root) {\n",
       "      if (root.Bokeh !== undefined && root.Bokeh.Panel !== undefined) {\n",
       "        clearInterval(timer);\n",
       "        embed_document(root);\n",
       "      } else if (document.readyState == \"complete\") {\n",
       "        attempts++;\n",
       "        if (attempts > 200) {\n",
       "          clearInterval(timer);\n",
       "          console.log(\"Bokeh: ERROR: Unable to run BokehJS code because BokehJS library is missing\");\n",
       "        }\n",
       "      }\n",
       "    }, 25, root)\n",
       "  }\n",
       "})(window);</script>"
      ],
      "text/plain": [
       ":Overlay\n",
       "   .Tiles.I  :Tiles   [x,y]\n",
       "   .Points.I :Points   [Lng,Lat]   (City,Max Temp)"
      ]
     },
     "execution_count": 14,
     "metadata": {
      "application/vnd.holoviews_exec.v0+json": {
       "id": "1514"
      }
     },
     "output_type": "execute_result"
    }
   ],
   "source": [
    "# Configure the map plot_4\n",
    "map_plot_4 = city_data_df.hvplot.points(\n",
    "    \"Lng\",\n",
    "    \"Lat\",\n",
    "    geo = True,\n",
    "    tiles = \"EsriNatGeo\",\n",
    "    frame_width = 700,\n",
    "    frame_height = 500,\n",
    "    size = \"Max Temp\",\n",
    "    scale = 0.5,\n",
    "    color = \"City\"\n",
    ")\n",
    "\n",
    "# Display the map plot\n",
    "map_plot_4"
   ]
  },
  {
   "cell_type": "markdown",
   "id": "53d1b8ac",
   "metadata": {},
   "source": [
    "#### Skill Drill: \n",
    "[6.5.2\n",
    "Create Maps for Weather Parameters](https://courses.bootcampspot.com/courses/2523/pages/6-dot-5-2-create-maps-for-weather-parameters?module_item_id=806298)\n",
    "\n",
    "Refactor the code and create a map where the point's size is given by the \"Wind Speed\" column. Choose an appropriate scale for the points and try out a different tile.\n",
    "\n",
    "\n"
   ]
  },
  {
   "cell_type": "markdown",
   "id": "5fa6df1b",
   "metadata": {},
   "source": [
    "## 6.5.3 [Get Vacation Criteria](https://courses.bootcampspot.com/courses/2523/pages/6-dot-5-3-get-vacation-criteria?module_item_id=806300)"
   ]
  },
  {
   "cell_type": "code",
   "execution_count": 15,
   "id": "50690eb6",
   "metadata": {},
   "outputs": [
    {
     "name": "stdout",
     "output_type": "stream",
     "text": [
      "What is the minimum temperature you would like for your trip? 80\n",
      "What is the maximum temperature you would like for your trip? 90\n"
     ]
    }
   ],
   "source": [
    "# Ask the customer to add a minimum and maximum temperature value.\n",
    "min_temp = float(input(\"What is the minimum temperature you would like for your trip? \"))\n",
    "max_temp = float(input(\"What is the maximum temperature you would like for your trip? \"))"
   ]
  },
  {
   "cell_type": "code",
   "execution_count": 16,
   "id": "3e1d5d4e",
   "metadata": {},
   "outputs": [
    {
     "data": {
      "text/html": [
       "<div>\n",
       "<style scoped>\n",
       "    .dataframe tbody tr th:only-of-type {\n",
       "        vertical-align: middle;\n",
       "    }\n",
       "\n",
       "    .dataframe tbody tr th {\n",
       "        vertical-align: top;\n",
       "    }\n",
       "\n",
       "    .dataframe thead th {\n",
       "        text-align: right;\n",
       "    }\n",
       "</style>\n",
       "<table border=\"1\" class=\"dataframe\">\n",
       "  <thead>\n",
       "    <tr style=\"text-align: right;\">\n",
       "      <th></th>\n",
       "      <th>City_ID</th>\n",
       "      <th>City</th>\n",
       "      <th>Country</th>\n",
       "      <th>Date</th>\n",
       "      <th>Lat</th>\n",
       "      <th>Lng</th>\n",
       "      <th>Max Temp</th>\n",
       "      <th>Humidity</th>\n",
       "      <th>Cloudiness</th>\n",
       "      <th>Wind Speed</th>\n",
       "    </tr>\n",
       "  </thead>\n",
       "  <tbody>\n",
       "    <tr>\n",
       "      <th>15</th>\n",
       "      <td>15</td>\n",
       "      <td>Pochutla</td>\n",
       "      <td>MX</td>\n",
       "      <td>2022-11-28 18:24:13</td>\n",
       "      <td>15.7432</td>\n",
       "      <td>-96.4661</td>\n",
       "      <td>87.62</td>\n",
       "      <td>56</td>\n",
       "      <td>16</td>\n",
       "      <td>6.53</td>\n",
       "    </tr>\n",
       "    <tr>\n",
       "      <th>17</th>\n",
       "      <td>17</td>\n",
       "      <td>Bonthe</td>\n",
       "      <td>SL</td>\n",
       "      <td>2022-11-28 18:24:14</td>\n",
       "      <td>7.5264</td>\n",
       "      <td>-12.5050</td>\n",
       "      <td>80.76</td>\n",
       "      <td>72</td>\n",
       "      <td>99</td>\n",
       "      <td>8.39</td>\n",
       "    </tr>\n",
       "    <tr>\n",
       "      <th>27</th>\n",
       "      <td>27</td>\n",
       "      <td>Butaritari</td>\n",
       "      <td>KI</td>\n",
       "      <td>2022-11-28 18:24:17</td>\n",
       "      <td>3.0707</td>\n",
       "      <td>172.7902</td>\n",
       "      <td>80.58</td>\n",
       "      <td>77</td>\n",
       "      <td>23</td>\n",
       "      <td>8.97</td>\n",
       "    </tr>\n",
       "    <tr>\n",
       "      <th>33</th>\n",
       "      <td>33</td>\n",
       "      <td>Hithadhoo</td>\n",
       "      <td>MV</td>\n",
       "      <td>2022-11-28 18:24:20</td>\n",
       "      <td>-0.6000</td>\n",
       "      <td>73.0833</td>\n",
       "      <td>81.21</td>\n",
       "      <td>74</td>\n",
       "      <td>69</td>\n",
       "      <td>5.53</td>\n",
       "    </tr>\n",
       "    <tr>\n",
       "      <th>38</th>\n",
       "      <td>38</td>\n",
       "      <td>Talara</td>\n",
       "      <td>PE</td>\n",
       "      <td>2022-11-28 18:24:21</td>\n",
       "      <td>-4.5772</td>\n",
       "      <td>-81.2719</td>\n",
       "      <td>81.36</td>\n",
       "      <td>54</td>\n",
       "      <td>0</td>\n",
       "      <td>16.11</td>\n",
       "    </tr>\n",
       "    <tr>\n",
       "      <th>44</th>\n",
       "      <td>44</td>\n",
       "      <td>Tambacounda</td>\n",
       "      <td>SN</td>\n",
       "      <td>2022-11-28 18:24:23</td>\n",
       "      <td>13.7539</td>\n",
       "      <td>-13.7586</td>\n",
       "      <td>87.85</td>\n",
       "      <td>37</td>\n",
       "      <td>0</td>\n",
       "      <td>4.61</td>\n",
       "    </tr>\n",
       "    <tr>\n",
       "      <th>54</th>\n",
       "      <td>54</td>\n",
       "      <td>Mar Del Plata</td>\n",
       "      <td>AR</td>\n",
       "      <td>2022-11-28 18:25:26</td>\n",
       "      <td>-38.0023</td>\n",
       "      <td>-57.5575</td>\n",
       "      <td>83.82</td>\n",
       "      <td>86</td>\n",
       "      <td>75</td>\n",
       "      <td>14.97</td>\n",
       "    </tr>\n",
       "    <tr>\n",
       "      <th>85</th>\n",
       "      <td>85</td>\n",
       "      <td>Kavieng</td>\n",
       "      <td>PG</td>\n",
       "      <td>2022-11-28 18:25:39</td>\n",
       "      <td>-2.5744</td>\n",
       "      <td>150.7967</td>\n",
       "      <td>82.20</td>\n",
       "      <td>65</td>\n",
       "      <td>25</td>\n",
       "      <td>4.18</td>\n",
       "    </tr>\n",
       "    <tr>\n",
       "      <th>96</th>\n",
       "      <td>96</td>\n",
       "      <td>Les Cayes</td>\n",
       "      <td>HT</td>\n",
       "      <td>2022-11-28 18:26:43</td>\n",
       "      <td>18.2000</td>\n",
       "      <td>-73.7500</td>\n",
       "      <td>83.95</td>\n",
       "      <td>65</td>\n",
       "      <td>48</td>\n",
       "      <td>6.40</td>\n",
       "    </tr>\n",
       "    <tr>\n",
       "      <th>98</th>\n",
       "      <td>98</td>\n",
       "      <td>Salvador</td>\n",
       "      <td>SV</td>\n",
       "      <td>2022-11-28 18:26:43</td>\n",
       "      <td>13.8333</td>\n",
       "      <td>-88.9167</td>\n",
       "      <td>81.05</td>\n",
       "      <td>68</td>\n",
       "      <td>100</td>\n",
       "      <td>1.39</td>\n",
       "    </tr>\n",
       "  </tbody>\n",
       "</table>\n",
       "</div>"
      ],
      "text/plain": [
       "    City_ID           City Country                 Date      Lat       Lng  \\\n",
       "15       15       Pochutla      MX  2022-11-28 18:24:13  15.7432  -96.4661   \n",
       "17       17         Bonthe      SL  2022-11-28 18:24:14   7.5264  -12.5050   \n",
       "27       27     Butaritari      KI  2022-11-28 18:24:17   3.0707  172.7902   \n",
       "33       33      Hithadhoo      MV  2022-11-28 18:24:20  -0.6000   73.0833   \n",
       "38       38         Talara      PE  2022-11-28 18:24:21  -4.5772  -81.2719   \n",
       "44       44    Tambacounda      SN  2022-11-28 18:24:23  13.7539  -13.7586   \n",
       "54       54  Mar Del Plata      AR  2022-11-28 18:25:26 -38.0023  -57.5575   \n",
       "85       85        Kavieng      PG  2022-11-28 18:25:39  -2.5744  150.7967   \n",
       "96       96      Les Cayes      HT  2022-11-28 18:26:43  18.2000  -73.7500   \n",
       "98       98       Salvador      SV  2022-11-28 18:26:43  13.8333  -88.9167   \n",
       "\n",
       "    Max Temp  Humidity  Cloudiness  Wind Speed  \n",
       "15     87.62        56          16        6.53  \n",
       "17     80.76        72          99        8.39  \n",
       "27     80.58        77          23        8.97  \n",
       "33     81.21        74          69        5.53  \n",
       "38     81.36        54           0       16.11  \n",
       "44     87.85        37           0        4.61  \n",
       "54     83.82        86          75       14.97  \n",
       "85     82.20        65          25        4.18  \n",
       "96     83.95        65          48        6.40  \n",
       "98     81.05        68         100        1.39  "
      ]
     },
     "execution_count": 16,
     "metadata": {},
     "output_type": "execute_result"
    }
   ],
   "source": [
    "preferred_cities_df = city_data_df.loc[\n",
    "    (city_data_df[\"Max Temp\"] <= max_temp) & (city_data_df[\"Max Temp\"] >= min_temp)\n",
    "]\n",
    "preferred_cities_df.head(10)"
   ]
  },
  {
   "cell_type": "code",
   "execution_count": 17,
   "id": "e1f7d261",
   "metadata": {},
   "outputs": [
    {
     "data": {
      "text/plain": [
       "City_ID       67\n",
       "City          67\n",
       "Country       67\n",
       "Date          67\n",
       "Lat           67\n",
       "Lng           67\n",
       "Max Temp      67\n",
       "Humidity      67\n",
       "Cloudiness    67\n",
       "Wind Speed    67\n",
       "dtype: int64"
      ]
     },
     "execution_count": 17,
     "metadata": {},
     "output_type": "execute_result"
    }
   ],
   "source": [
    "preferred_cities_df.count()"
   ]
  },
  {
   "cell_type": "markdown",
   "id": "2e23ad1b",
   "metadata": {},
   "source": [
    "## 6.5.4 [Map Vacation Criteria](https://courses.bootcampspot.com/courses/2523/pages/6-dot-5-4-map-vacation-criteria?module_item_id=806302)"
   ]
  },
  {
   "cell_type": "code",
   "execution_count": 18,
   "id": "a4cf5ef5",
   "metadata": {},
   "outputs": [
    {
     "data": {
      "text/html": [
       "<div>\n",
       "<style scoped>\n",
       "    .dataframe tbody tr th:only-of-type {\n",
       "        vertical-align: middle;\n",
       "    }\n",
       "\n",
       "    .dataframe tbody tr th {\n",
       "        vertical-align: top;\n",
       "    }\n",
       "\n",
       "    .dataframe thead th {\n",
       "        text-align: right;\n",
       "    }\n",
       "</style>\n",
       "<table border=\"1\" class=\"dataframe\">\n",
       "  <thead>\n",
       "    <tr style=\"text-align: right;\">\n",
       "      <th></th>\n",
       "      <th>City</th>\n",
       "      <th>Country</th>\n",
       "      <th>Max Temp</th>\n",
       "      <th>Lat</th>\n",
       "      <th>Lng</th>\n",
       "      <th>Hotel Name</th>\n",
       "    </tr>\n",
       "  </thead>\n",
       "  <tbody>\n",
       "    <tr>\n",
       "      <th>15</th>\n",
       "      <td>Pochutla</td>\n",
       "      <td>MX</td>\n",
       "      <td>87.62</td>\n",
       "      <td>15.7432</td>\n",
       "      <td>-96.4661</td>\n",
       "      <td></td>\n",
       "    </tr>\n",
       "    <tr>\n",
       "      <th>17</th>\n",
       "      <td>Bonthe</td>\n",
       "      <td>SL</td>\n",
       "      <td>80.76</td>\n",
       "      <td>7.5264</td>\n",
       "      <td>-12.5050</td>\n",
       "      <td></td>\n",
       "    </tr>\n",
       "    <tr>\n",
       "      <th>27</th>\n",
       "      <td>Butaritari</td>\n",
       "      <td>KI</td>\n",
       "      <td>80.58</td>\n",
       "      <td>3.0707</td>\n",
       "      <td>172.7902</td>\n",
       "      <td></td>\n",
       "    </tr>\n",
       "    <tr>\n",
       "      <th>33</th>\n",
       "      <td>Hithadhoo</td>\n",
       "      <td>MV</td>\n",
       "      <td>81.21</td>\n",
       "      <td>-0.6000</td>\n",
       "      <td>73.0833</td>\n",
       "      <td></td>\n",
       "    </tr>\n",
       "    <tr>\n",
       "      <th>38</th>\n",
       "      <td>Talara</td>\n",
       "      <td>PE</td>\n",
       "      <td>81.36</td>\n",
       "      <td>-4.5772</td>\n",
       "      <td>-81.2719</td>\n",
       "      <td></td>\n",
       "    </tr>\n",
       "    <tr>\n",
       "      <th>44</th>\n",
       "      <td>Tambacounda</td>\n",
       "      <td>SN</td>\n",
       "      <td>87.85</td>\n",
       "      <td>13.7539</td>\n",
       "      <td>-13.7586</td>\n",
       "      <td></td>\n",
       "    </tr>\n",
       "    <tr>\n",
       "      <th>54</th>\n",
       "      <td>Mar Del Plata</td>\n",
       "      <td>AR</td>\n",
       "      <td>83.82</td>\n",
       "      <td>-38.0023</td>\n",
       "      <td>-57.5575</td>\n",
       "      <td></td>\n",
       "    </tr>\n",
       "    <tr>\n",
       "      <th>85</th>\n",
       "      <td>Kavieng</td>\n",
       "      <td>PG</td>\n",
       "      <td>82.20</td>\n",
       "      <td>-2.5744</td>\n",
       "      <td>150.7967</td>\n",
       "      <td></td>\n",
       "    </tr>\n",
       "    <tr>\n",
       "      <th>96</th>\n",
       "      <td>Les Cayes</td>\n",
       "      <td>HT</td>\n",
       "      <td>83.95</td>\n",
       "      <td>18.2000</td>\n",
       "      <td>-73.7500</td>\n",
       "      <td></td>\n",
       "    </tr>\n",
       "    <tr>\n",
       "      <th>98</th>\n",
       "      <td>Salvador</td>\n",
       "      <td>SV</td>\n",
       "      <td>81.05</td>\n",
       "      <td>13.8333</td>\n",
       "      <td>-88.9167</td>\n",
       "      <td></td>\n",
       "    </tr>\n",
       "  </tbody>\n",
       "</table>\n",
       "</div>"
      ],
      "text/plain": [
       "             City Country  Max Temp      Lat       Lng Hotel Name\n",
       "15       Pochutla      MX     87.62  15.7432  -96.4661           \n",
       "17         Bonthe      SL     80.76   7.5264  -12.5050           \n",
       "27     Butaritari      KI     80.58   3.0707  172.7902           \n",
       "33      Hithadhoo      MV     81.21  -0.6000   73.0833           \n",
       "38         Talara      PE     81.36  -4.5772  -81.2719           \n",
       "44    Tambacounda      SN     87.85  13.7539  -13.7586           \n",
       "54  Mar Del Plata      AR     83.82 -38.0023  -57.5575           \n",
       "85        Kavieng      PG     82.20  -2.5744  150.7967           \n",
       "96      Les Cayes      HT     83.95  18.2000  -73.7500           \n",
       "98       Salvador      SV     81.05  13.8333  -88.9167           "
      ]
     },
     "execution_count": 18,
     "metadata": {},
     "output_type": "execute_result"
    }
   ],
   "source": [
    "# Create DataFrame called hotel_df to store hotel names along with city, country, max temp, and coordinates.\n",
    "hotel_df = preferred_cities_df[[\"City\", \"Country\", \"Max Temp\", \"Lat\", \"Lng\"]].copy()\n",
    "hotel_df[\"Hotel Name\"] = \"\"\n",
    "hotel_df.head(10)"
   ]
  },
  {
   "cell_type": "code",
   "execution_count": 31,
   "id": "aca19042",
   "metadata": {},
   "outputs": [
    {
     "ename": "ImportError",
     "evalue": "cannot import name 'geoapify_key' from 'config' (/Users/alexandrahuang/Desktop/_Bootcamp_LocalStorage/Module/Module_6_APIs_Weather/World_Weather_Analysis/config.py)",
     "output_type": "error",
     "traceback": [
      "\u001b[0;31m---------------------------------------------------------------------------\u001b[0m",
      "\u001b[0;31mImportError\u001b[0m                               Traceback (most recent call last)",
      "\u001b[0;32m/var/folders/jt/pb_fh_4s04s2bsx9f8nrs0hh0000gn/T/ipykernel_25819/2287588262.py\u001b[0m in \u001b[0;36m<module>\u001b[0;34m\u001b[0m\n\u001b[1;32m      3\u001b[0m \u001b[0;34m\u001b[0m\u001b[0m\n\u001b[1;32m      4\u001b[0m \u001b[0;31m# Import API key\u001b[0m\u001b[0;34m\u001b[0m\u001b[0;34m\u001b[0m\u001b[0;34m\u001b[0m\u001b[0m\n\u001b[0;32m----> 5\u001b[0;31m \u001b[0;32mfrom\u001b[0m \u001b[0mconfig\u001b[0m \u001b[0;32mimport\u001b[0m \u001b[0mgeoapify_key\u001b[0m\u001b[0;34m\u001b[0m\u001b[0;34m\u001b[0m\u001b[0m\n\u001b[0m",
      "\u001b[0;31mImportError\u001b[0m: cannot import name 'geoapify_key' from 'config' (/Users/alexandrahuang/Desktop/_Bootcamp_LocalStorage/Module/Module_6_APIs_Weather/World_Weather_Analysis/config.py)"
     ]
    }
   ],
   "source": [
    "# Import the required libraries\n",
    "import requests\n",
    "\n",
    "# Import API key\n",
    "from config import geoapify_key"
   ]
  },
  {
   "cell_type": "code",
   "execution_count": 32,
   "id": "b87226f8",
   "metadata": {},
   "outputs": [
    {
     "ename": "NameError",
     "evalue": "name 'geoapify_key' is not defined",
     "output_type": "error",
     "traceback": [
      "\u001b[0;31m---------------------------------------------------------------------------\u001b[0m",
      "\u001b[0;31mNameError\u001b[0m                                 Traceback (most recent call last)",
      "\u001b[0;32m/var/folders/jt/pb_fh_4s04s2bsx9f8nrs0hh0000gn/T/ipykernel_25819/917666538.py\u001b[0m in \u001b[0;36m<module>\u001b[0;34m\u001b[0m\n\u001b[1;32m      3\u001b[0m params = {\n\u001b[1;32m      4\u001b[0m     \u001b[0;34m\"categories\"\u001b[0m\u001b[0;34m:\u001b[0m\u001b[0;34m\"accommodation.hotel\"\u001b[0m\u001b[0;34m,\u001b[0m\u001b[0;34m\u001b[0m\u001b[0;34m\u001b[0m\u001b[0m\n\u001b[0;32m----> 5\u001b[0;31m     \u001b[0;34m\"apiKey\"\u001b[0m\u001b[0;34m:\u001b[0m \u001b[0mgeoapify_key\u001b[0m\u001b[0;34m,\u001b[0m\u001b[0;34m\u001b[0m\u001b[0;34m\u001b[0m\u001b[0m\n\u001b[0m\u001b[1;32m      6\u001b[0m }\n",
      "\u001b[0;31mNameError\u001b[0m: name 'geoapify_key' is not defined"
     ]
    }
   ],
   "source": [
    "# Set initial parameters to search for a hotel.\n",
    "radius = 5000\n",
    "params = {\n",
    "    \"categories\":\"accommodation.hotel\",\n",
    "    \"apiKey\": geoapify_key,\n",
    "}"
   ]
  },
  {
   "cell_type": "code",
   "execution_count": null,
   "id": "b227325f",
   "metadata": {},
   "outputs": [],
   "source": [
    "# Set the parameters to search for a hotel in Paris.\n",
    "latitude = 48.8566\n",
    "longitude = 2.3522\n",
    "radius = 5000\n",
    "params = {\n",
    "    \"categories\": \"accommodation.hotel\",\n",
    "    \"apiKey\": geoapify_key,\n",
    "    \"filter\": f\"circle:{longitude},{latitude},{radius}\"\n",
    "}\n",
    "\n",
    "# Set up the base URL for the Geoapify Places API.\n",
    "base_url = \"https://api.geoapify.com/v2/places\"\n",
    "\n",
    "# Make request and retrieve the JSON data by using the params dictionary\n",
    "hotels = requests.get(base_url, params=params).json()\n",
    "\n",
    "# Display the JSON data\n",
    "hotels"
   ]
  },
  {
   "cell_type": "code",
   "execution_count": null,
   "id": "68361567",
   "metadata": {},
   "outputs": [],
   "source": [
    "# Iterate through the hotel_df DataFrame\n",
    "for index, row in hotel_df.iterrows():\n",
    "    # Get latitude and longitude from DataFrame.\n",
    "    latitude = row[\"Lat\"]\n",
    "    longitude = row[\"Lng\"]\n",
    "\n",
    "    # Add the current city's latitude and longitude to the params dictionary\n",
    "    params[\"filter\"] = f\"circle:{longitude},{latitude},{radius}\"\n",
    "\n",
    "    # Set up the base URL for the Geoapify Places API.\n",
    "    base_url = \"https://api.geoapify.com/v2/places\"\n",
    "\n",
    "    # Make request and retrieve the JSON data by using the params dictionary\n",
    "    name_address = requests.get(base_url, params=params)\n",
    "\n",
    "    # Convert the API response to JSON format\n",
    "    name_address = name_address.json()\n",
    "\n",
    "    # Get the first hotel from the results and store the name\n",
    "    hotel_df.loc[index, \"Hotel Name\"] = name_address[\"features\"][0][\"properties\"][\"name\"]\n"
   ]
  },
  {
   "cell_type": "code",
   "execution_count": null,
   "id": "bfb751ff",
   "metadata": {},
   "outputs": [],
   "source": [
    "# Get the first hotel from the results and store the name\n",
    "try:\n",
    "    hotel_df.loc[index, \"Hotel Name\"] = name_address[\"features\"][0][\"properties\"][\"name\"]\n",
    "except (KeyError, IndexError):\n",
    "    # If no hotel is found, set the hotel name as \"No hotel found\".\n",
    "    hotel_df.loc[index, \"Hotel Name\"] = \"No hotel found\""
   ]
  },
  {
   "cell_type": "code",
   "execution_count": null,
   "id": "b01f42b8",
   "metadata": {},
   "outputs": [],
   "source": [
    "# Configure the map\n",
    "hotel_map = hotel_df.hvplot.points(\n",
    "    \"Lng\",\n",
    "    \"Lat\",\n",
    "    geo = True,\n",
    "    tiles = \"OSM\",\n",
    "    frame_width = 700,\n",
    "    frame_height = 500,\n",
    "    size = \"Max Temp\",\n",
    "    scale = 1,\n",
    "    color = \"City\"\n",
    ")\n",
    "\n",
    "# Display the map plot\n",
    "hotel_map"
   ]
  },
  {
   "cell_type": "code",
   "execution_count": null,
   "id": "fb68670f",
   "metadata": {},
   "outputs": [],
   "source": [
    "# Configure the map\n",
    "hotel_map = hotel_df.hvplot.points(\n",
    "    \"Lng\",\n",
    "    \"Lat\",\n",
    "    geo = True,\n",
    "    tiles = \"OSM\",\n",
    "    frame_width = 700,\n",
    "    frame_height = 500,\n",
    "    size = \"Max Temp\",\n",
    "    scale = 1,\n",
    "    color = \"City\",\n",
    "    hover_cols = [\"Hotel Name\", \"Country\"]\n",
    ")\n",
    "\n",
    "# Display the map plot\n",
    "hotel_map"
   ]
  }
 ],
 "metadata": {
  "kernelspec": {
   "display_name": "PythonData",
   "language": "python",
   "name": "pythondata"
  },
  "language_info": {
   "codemirror_mode": {
    "name": "ipython",
    "version": 3
   },
   "file_extension": ".py",
   "mimetype": "text/x-python",
   "name": "python",
   "nbconvert_exporter": "python",
   "pygments_lexer": "ipython3",
   "version": "3.7.13"
  }
 },
 "nbformat": 4,
 "nbformat_minor": 5
}
